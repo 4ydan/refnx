{
 "metadata": {
  "name": "",
  "signature": "sha256:cbb60354cea2c95cf7b4ddf562a228f0239c443bb3d93e3e35878cc5de13639e"
 },
 "nbformat": 3,
 "nbformat_minor": 0,
 "worksheets": [
  {
   "cells": [
    {
     "cell_type": "code",
     "collapsed": false,
     "input": [
      "%matplotlib inline\n",
      "from __future__ import print_function, division\n",
      "from pyplatypus.dataset.reflectdataset import ReflectDataset\n",
      "import pyplatypus.analysis.reflect as reflect\n",
      "import pyplatypus.analysis.curvefitter as curvefitter\n",
      "from lmfit.printfuncs import fit_report\n",
      "import numpy as np\n",
      "from matplotlib.pyplot import *\n",
      "import matplotlib\n",
      "matplotlib.pyplot.rcParams['figure.figsize'] = (10.0, 10.0)\n",
      "matplotlib.pyplot.rcParams['figure.dpi'] = 600"
     ],
     "language": "python",
     "metadata": {},
     "outputs": [],
     "prompt_number": 1
    },
    {
     "cell_type": "code",
     "collapsed": false,
     "input": [
      "DATASET_NAME = 'c_PLP0011859_q.txt'\n",
      "USE_DIFFERENTIAL_EVOLUTION = True"
     ],
     "language": "python",
     "metadata": {},
     "outputs": [],
     "prompt_number": 2
    },
    {
     "cell_type": "code",
     "collapsed": false,
     "input": [
      "#load the data\n",
      "dataset = ReflectDataset()\n",
      "with open(DATASET_NAME) as f:\n",
      "    dataset.load(f)\n",
      "\n",
      "xdata, ydata, dydata, dxdata = dataset.data\n"
     ],
     "language": "python",
     "metadata": {},
     "outputs": [],
     "prompt_number": 3
    },
    {
     "cell_type": "code",
     "collapsed": false,
     "input": [
      "# create an array to hold the parameters, also create limits\n",
      "layers = np.array([[0,   2.07, 0, 0],     # fronting medium\n",
      "                   [30,  3.47, 0, 3],     # 1st layer\n",
      "                   [250, 2.00, 0, 3],     # 2nd layer\n",
      "                   [0,   6.36, 0, 3]])     # backing medium\n",
      "\n",
      "lowlim = np.array([[0,   2.07, 0, 0],     # fronting medium\n",
      "                   [15,  3.47, 0, 1],     # 1st layer\n",
      "                   [200, 0.10, 0, 1],     # 2nd layer\n",
      "                   [0,   6.36, 0, 1]])     # backing medium\n",
      "\n",
      "hilim = np.array([[0,   2.07, 0, 0],     # fronting medium\n",
      "                  [50,  3.47, 0, 6],     # 1st layer\n",
      "                  [300, 3.00, 0, 6],     # 2nd layer\n",
      "                  [0,   6.36, 0, 6]])     # backing medium"
     ],
     "language": "python",
     "metadata": {},
     "outputs": [],
     "prompt_number": 4
    },
    {
     "cell_type": "code",
     "collapsed": false,
     "input": [
      "# create a linear array of the parameters\n",
      "# coefs[1] is the scale factor\n",
      "# coefs[6] is the background\n",
      "# these will both be 1 and 0 respectively to start off with\n",
      "coefs = reflect.convert_layer_format_to_coefs(layers)\n",
      "lowlim = reflect.convert_layer_format_to_coefs(lowlim)\n",
      "hilim = reflect.convert_layer_format_to_coefs(hilim)\n",
      "\n",
      "coefs[1] = 1.0\n",
      "coefs[6] = 3.e-6\n",
      "\n",
      "lowlim[1] = 0.9\n",
      "hilim[1] = 1.1\n",
      "\n",
      "lowlim[6] = 0.\n",
      "hilim[6] = 9e-6\n",
      "\n",
      "bounds = zip(lowlim, hilim)"
     ],
     "language": "python",
     "metadata": {},
     "outputs": [],
     "prompt_number": 5
    },
    {
     "cell_type": "code",
     "collapsed": false,
     "input": [
      "# create a parameter instance\n",
      "parameters = curvefitter.params(coefs, bounds=bounds, varies=[False] * 16)\n",
      "\n",
      "# which parameters do you want to allow to vary\n",
      "fitted_parameters = np.array([1, 6, 7, 8, 11, 12, 13, 15])\n",
      "for fit in fitted_parameters:\n",
      "    parameters['p%d' % fit].vary = True"
     ],
     "language": "python",
     "metadata": {},
     "outputs": [],
     "prompt_number": 19
    },
    {
     "cell_type": "code",
     "collapsed": false,
     "input": [
      "# use resolution smearing and fit on a logR scale (transform the data as well)\n",
      "t = reflect.Transform('logY').transform\n",
      "ydata, dydata = t(xdata, ydata, dydata)\n",
      "kwds = {'dqvals': dxdata, 'transform': t}"
     ],
     "language": "python",
     "metadata": {},
     "outputs": [],
     "prompt_number": 7
    },
    {
     "cell_type": "code",
     "collapsed": false,
     "input": [
      "# create the fit instance\n",
      "fitter = reflect.ReflectivityFitter(parameters, xdata, ydata, edata=dydata,\n",
      "                                    kwds=kwds)\n",
      "\n",
      "#do the fit\n",
      "if USE_DIFFERENTIAL_EVOLUTION:\n",
      "    fitter.fit(method='differential_evolution')\n",
      "\n",
      "fitter.fit()"
     ],
     "language": "python",
     "metadata": {},
     "outputs": [
      {
       "metadata": {},
       "output_type": "pyout",
       "prompt_number": 20,
       "text": [
        "True"
       ]
      }
     ],
     "prompt_number": 20
    },
    {
     "cell_type": "code",
     "collapsed": false,
     "input": [
      "print(DATASET_NAME)\n",
      "print(fit_report(fitter, sort_pars=True))\n",
      "\n",
      "fig = figure()\n",
      "ax = fig.add_subplot(2, 1, 1)\n",
      "ax.scatter(xdata, ydata, label=DATASET_NAME)\n",
      "ax.plot(xdata, fitter.model(parameters), label='fit')\n",
      "ylim(min(np.min(ydata), np.min(fitter.model(parameters))),\n",
      "     max(np.max(ydata), np.max(fitter.model(parameters))))\n",
      "xlim(np.min(xdata), np.max(xdata))\n",
      "xlabel('Q')\n",
      "ylabel('logR')\n",
      "legend()\n",
      "ax2 = fig.add_subplot(2, 1, 2)\n",
      "z, rho_z = fitter.sld_profile(parameters)\n",
      "ax2.plot(z, rho_z)"
     ],
     "language": "python",
     "metadata": {},
     "outputs": [
      {
       "output_type": "stream",
       "stream": "stdout",
       "text": [
        "c_PLP0011859_q.txt\n",
        "[[Fit Statistics]]\n",
        "    # function evals   = 15\n",
        "    # data points      = 408\n",
        "    # variables        = 8\n",
        "    chi-square         = 1002.187\n",
        "    reduced chi-square = 2.505\n",
        "[[Variables]]\n",
        "    p0:    2 (fixed)\n",
        "    p1:    0.90000000 +/- 0        (0.00%) (init= 0.9)\n",
        "    p2:    2.07 (fixed)\n",
        "    p3:    0 (fixed)\n",
        "    p4:    6.36 (fixed)\n",
        "    p5:    0 (fixed)\n",
        "    p6:    4.5132e-07 +/- 0        (0.00%) (init= 4.513202e-07)\n",
        "    p7:    3.63198551 +/- 0        (0.00%) (init= 3.631986)\n",
        "    p8:    39.2429147 +/- 0        (0.00%) (init= 39.24291)\n",
        "    p9:    3.47 (fixed)\n",
        "    p10:   0 (fixed)\n",
        "    p11:   5.54444201 +/- 0        (0.00%) (init= 6)\n",
        "    p12:   259.003529 +/- 0        (0.00%) (init= 259.0035)\n",
        "    p13:   2.48523285 +/- 0        (0.00%) (init= 2.485233)\n",
        "    p14:   0 (fixed)\n",
        "    p15:   4.29122561 +/- 0        (0.00%) (init= 6)\n",
        "[[Correlations]] (unreported correlations are <  0.100)\n"
       ]
      },
      {
       "metadata": {},
       "output_type": "pyout",
       "prompt_number": 21,
       "text": [
        "[<matplotlib.lines.Line2D at 0x10896cb10>]"
       ]
      },
      {
       "metadata": {},
       "output_type": "display_data",
       "png": "[encoded data removed]",
       "text": [
        "<matplotlib.figure.Figure at 0x10868f7d0>"
       ]
      }
     ],
     "prompt_number": 21
    },
    {
     "cell_type": "code",
     "collapsed": false,
     "input": [
      "parameters.valuesdict()"
     ],
     "language": "python",
     "metadata": {},
     "outputs": [
      {
       "metadata": {},
       "output_type": "pyout",
       "prompt_number": 13,
       "text": [
        "OrderedDict([('p0', 2.0), ('p1', 0.90000000000000002), ('p2', 2.0699999999999998), ('p3', 0.0), ('p4', 6.3600000000000003), ('p5', 0.0), ('p6', 4.5134015879275863e-07), ('p7', 3.6321700396205072), ('p8', 39.242830137804802), ('p9', 3.4700000000000002), ('p10', 0.0), ('p11', 5.9999999917360096), ('p12', 259.00355857800457), ('p13', 2.4852221065363147), ('p14', 0.0), ('p15', 6.0)])"
       ]
      }
     ],
     "prompt_number": 13
    },
    {
     "cell_type": "code",
     "collapsed": false,
     "input": [
      "print(fit_report(parameters))"
     ],
     "language": "python",
     "metadata": {},
     "outputs": [
      {
       "output_type": "stream",
       "stream": "stdout",
       "text": [
        "[[Variables]]\n",
        "    p0:    2 (fixed)\n",
        "    p1:    0.90000000 (init= 1)\n",
        "    p2:    2.07 (fixed)\n",
        "    p3:    0          (init= 0)\n",
        "    p4:    6.36 (fixed)\n",
        "    p5:    0 (fixed)\n",
        "    p6:    4.5134e-07 (init= 3e-06)\n",
        "    p7:    3.63217004 (init= 3)\n",
        "    p8:    39.2428301 (init= 30)\n",
        "    p9:    3.47 (fixed)\n",
        "    p10:   0 (fixed)\n",
        "    p11:   5.99999999 (init= 3)\n",
        "    p12:   259.003558 (init= 250)\n",
        "    p13:   2.48522210 (init= 2)\n",
        "    p14:   0 (fixed)\n",
        "    p15:   6          (init= 3)\n",
        "[[Correlations]] (unreported correlations are <  0.100)\n"
       ]
      }
     ],
     "prompt_number": 17
    },
    {
     "cell_type": "code",
     "collapsed": false,
     "input": [
      "print(fit_report(fitter))"
     ],
     "language": "python",
     "metadata": {},
     "outputs": [
      {
       "output_type": "stream",
       "stream": "stdout",
       "text": [
        "[[Fit Statistics]]\n",
        "    # function evals   = 20\n",
        "    # data points      = 408\n",
        "    # variables        = 9\n",
        "    chi-square         = 110017.941\n",
        "    reduced chi-square = 275.734\n",
        "[[Variables]]\n",
        "    p0:    2 (fixed)\n",
        "    p1:    0.90000000 +/- 0        (0.00%) (init= 0.9)\n",
        "    p2:    2.07 (fixed)\n",
        "    p3:    0          +/- 0        (nan%) (init= 0)\n",
        "    p4:    6.36 (fixed)\n",
        "    p5:    0 (fixed)\n",
        "    p6:    0          +/- 0        (nan%) (init= 4.513402e-07)\n",
        "    p7:    1          +/- 0        (0.00%) (init= 3.63217)\n",
        "    p8:    15         +/- 0        (0.00%) (init= 39.24283)\n",
        "    p9:    3.47 (fixed)\n",
        "    p10:   0 (fixed)\n",
        "    p11:   1          +/- 0        (0.00%) (init= 6)\n",
        "    p12:   200        +/- 0        (0.00%) (init= 259.0036)\n",
        "    p13:   0.10000000 +/- 0        (0.00%) (init= 2.485222)\n",
        "    p14:   0 (fixed)\n",
        "    p15:   1          +/- 0        (0.00%) (init= 6)\n",
        "[[Correlations]] (unreported correlations are <  0.100)\n"
       ]
      }
     ],
     "prompt_number": 18
    },
    {
     "cell_type": "code",
     "collapsed": false,
     "input": [],
     "language": "python",
     "metadata": {},
     "outputs": []
    }
   ],
   "metadata": {}
  }
 ]
}