{
 "cells": [
  {
   "cell_type": "markdown",
   "metadata": {},
   "source": [
    "## GUI for refnx"
   ]
  },
  {
   "cell_type": "markdown",
   "metadata": {},
   "source": [
    "A GUI is available from a Jupyter notebook, for fitting datasets with slab models. A web-based version of this is currently available at https://mybinder.org/v2/gh/refnx/refnx-binder.git/master."
   ]
  },
  {
   "cell_type": "code",
   "execution_count": 4,
   "metadata": {},
   "outputs": [],
   "source": [
    "%matplotlib notebook\n",
    "from refnx.reflect import Motofit"
   ]
  },
  {
   "cell_type": "code",
   "execution_count": 5,
   "metadata": {},
   "outputs": [],
   "source": [
    "app = Motofit()"
   ]
  },
  {
   "cell_type": "code",
   "execution_count": 6,
   "metadata": {
    "scrolled": false
   },
   "outputs": [
    {
     "data": {
      "application/javascript": [
       "/* Put everything inside the global mpl namespace */\n",
       "window.mpl = {};\n",
       "\n",
       "\n",
       "mpl.get_websocket_type = function() {\n",
       "    if (typeof(WebSocket) !== 'undefined') {\n",
       "        return WebSocket;\n",
       "    } else if (typeof(MozWebSocket) !== 'undefined') {\n",
       "        return MozWebSocket;\n",
       "    } else {\n",
       "        alert('Your browser does not have WebSocket support.' +\n",
       "              'Please try Chrome, Safari or Firefox ≥ 6. ' +\n",
       "              'Firefox 4 and 5 are also supported but you ' +\n",
       "              'have to enable WebSockets in about:config.');\n",
       "    };\n",
       "}\n",
       "\n",
       "mpl.figure = function(figure_id, websocket, ondownload, parent_element) {\n",
       "    this.id = figure_id;\n",
       "\n",
       "    this.ws = websocket;\n",
       "\n",
       "    this.supports_binary = (this.ws.binaryType != undefined);\n",
       "\n",
       "    if (!this.supports_binary) {\n",
       "        var warnings = document.getElementById(\"mpl-warnings\");\n",
       "        if (warnings) {\n",
       "            warnings.style.display = 'block';\n",
       "            warnings.textContent = (\n",
       "                \"This browser does not support binary websocket messages. \" +\n",
       "                    \"Performance may be slow.\");\n",
       "        }\n",
       "    }\n",
       "\n",
       "    this.imageObj = new Image();\n",
       "\n",
       "    this.context = undefined;\n",
       "    this.message = undefined;\n",
       "    this.canvas = undefined;\n",
       "    this.rubberband_canvas = undefined;\n",
       "    this.rubberband_context = undefined;\n",
       "    this.format_dropdown = undefined;\n",
       "\n",
       "    this.image_mode = 'full';\n",
       "\n",
       "    this.root = $('<div/>');\n",
       "    this._root_extra_style(this.root)\n",
       "    this.root.attr('style', 'display: inline-block');\n",
       "\n",
       "    $(parent_element).append(this.root);\n",
       "\n",
       "    this._init_header(this);\n",
       "    this._init_canvas(this);\n",
       "    this._init_toolbar(this);\n",
       "\n",
       "    var fig = this;\n",
       "\n",
       "    this.waiting = false;\n",
       "\n",
       "    this.ws.onopen =  function () {\n",
       "            fig.send_message(\"supports_binary\", {value: fig.supports_binary});\n",
       "            fig.send_message(\"send_image_mode\", {});\n",
       "            if (mpl.ratio != 1) {\n",
       "                fig.send_message(\"set_dpi_ratio\", {'dpi_ratio': mpl.ratio});\n",
       "            }\n",
       "            fig.send_message(\"refresh\", {});\n",
       "        }\n",
       "\n",
       "    this.imageObj.onload = function() {\n",
       "            if (fig.image_mode == 'full') {\n",
       "                // Full images could contain transparency (where diff images\n",
       "                // almost always do), so we need to clear the canvas so that\n",
       "                // there is no ghosting.\n",
       "                fig.context.clearRect(0, 0, fig.canvas.width, fig.canvas.height);\n",
       "            }\n",
       "            fig.context.drawImage(fig.imageObj, 0, 0);\n",
       "        };\n",
       "\n",
       "    this.imageObj.onunload = function() {\n",
       "        fig.ws.close();\n",
       "    }\n",
       "\n",
       "    this.ws.onmessage = this._make_on_message_function(this);\n",
       "\n",
       "    this.ondownload = ondownload;\n",
       "}\n",
       "\n",
       "mpl.figure.prototype._init_header = function() {\n",
       "    var titlebar = $(\n",
       "        '<div class=\"ui-dialog-titlebar ui-widget-header ui-corner-all ' +\n",
       "        'ui-helper-clearfix\"/>');\n",
       "    var titletext = $(\n",
       "        '<div class=\"ui-dialog-title\" style=\"width: 100%; ' +\n",
       "        'text-align: center; padding: 3px;\"/>');\n",
       "    titlebar.append(titletext)\n",
       "    this.root.append(titlebar);\n",
       "    this.header = titletext[0];\n",
       "}\n",
       "\n",
       "\n",
       "\n",
       "mpl.figure.prototype._canvas_extra_style = function(canvas_div) {\n",
       "\n",
       "}\n",
       "\n",
       "\n",
       "mpl.figure.prototype._root_extra_style = function(canvas_div) {\n",
       "\n",
       "}\n",
       "\n",
       "mpl.figure.prototype._init_canvas = function() {\n",
       "    var fig = this;\n",
       "\n",
       "    var canvas_div = $('<div/>');\n",
       "\n",
       "    canvas_div.attr('style', 'position: relative; clear: both; outline: 0');\n",
       "\n",
       "    function canvas_keyboard_event(event) {\n",
       "        return fig.key_event(event, event['data']);\n",
       "    }\n",
       "\n",
       "    canvas_div.keydown('key_press', canvas_keyboard_event);\n",
       "    canvas_div.keyup('key_release', canvas_keyboard_event);\n",
       "    this.canvas_div = canvas_div\n",
       "    this._canvas_extra_style(canvas_div)\n",
       "    this.root.append(canvas_div);\n",
       "\n",
       "    var canvas = $('<canvas/>');\n",
       "    canvas.addClass('mpl-canvas');\n",
       "    canvas.attr('style', \"left: 0; top: 0; z-index: 0; outline: 0\")\n",
       "\n",
       "    this.canvas = canvas[0];\n",
       "    this.context = canvas[0].getContext(\"2d\");\n",
       "\n",
       "    var backingStore = this.context.backingStorePixelRatio ||\n",
       "\tthis.context.webkitBackingStorePixelRatio ||\n",
       "\tthis.context.mozBackingStorePixelRatio ||\n",
       "\tthis.context.msBackingStorePixelRatio ||\n",
       "\tthis.context.oBackingStorePixelRatio ||\n",
       "\tthis.context.backingStorePixelRatio || 1;\n",
       "\n",
       "    mpl.ratio = (window.devicePixelRatio || 1) / backingStore;\n",
       "\n",
       "    var rubberband = $('<canvas/>');\n",
       "    rubberband.attr('style', \"position: absolute; left: 0; top: 0; z-index: 1;\")\n",
       "\n",
       "    var pass_mouse_events = true;\n",
       "\n",
       "    canvas_div.resizable({\n",
       "        start: function(event, ui) {\n",
       "            pass_mouse_events = false;\n",
       "        },\n",
       "        resize: function(event, ui) {\n",
       "            fig.request_resize(ui.size.width, ui.size.height);\n",
       "        },\n",
       "        stop: function(event, ui) {\n",
       "            pass_mouse_events = true;\n",
       "            fig.request_resize(ui.size.width, ui.size.height);\n",
       "        },\n",
       "    });\n",
       "\n",
       "    function mouse_event_fn(event) {\n",
       "        if (pass_mouse_events)\n",
       "            return fig.mouse_event(event, event['data']);\n",
       "    }\n",
       "\n",
       "    rubberband.mousedown('button_press', mouse_event_fn);\n",
       "    rubberband.mouseup('button_release', mouse_event_fn);\n",
       "    // Throttle sequential mouse events to 1 every 20ms.\n",
       "    rubberband.mousemove('motion_notify', mouse_event_fn);\n",
       "\n",
       "    rubberband.mouseenter('figure_enter', mouse_event_fn);\n",
       "    rubberband.mouseleave('figure_leave', mouse_event_fn);\n",
       "\n",
       "    canvas_div.on(\"wheel\", function (event) {\n",
       "        event = event.originalEvent;\n",
       "        event['data'] = 'scroll'\n",
       "        if (event.deltaY < 0) {\n",
       "            event.step = 1;\n",
       "        } else {\n",
       "            event.step = -1;\n",
       "        }\n",
       "        mouse_event_fn(event);\n",
       "    });\n",
       "\n",
       "    canvas_div.append(canvas);\n",
       "    canvas_div.append(rubberband);\n",
       "\n",
       "    this.rubberband = rubberband;\n",
       "    this.rubberband_canvas = rubberband[0];\n",
       "    this.rubberband_context = rubberband[0].getContext(\"2d\");\n",
       "    this.rubberband_context.strokeStyle = \"#000000\";\n",
       "\n",
       "    this._resize_canvas = function(width, height) {\n",
       "        // Keep the size of the canvas, canvas container, and rubber band\n",
       "        // canvas in synch.\n",
       "        canvas_div.css('width', width)\n",
       "        canvas_div.css('height', height)\n",
       "\n",
       "        canvas.attr('width', width * mpl.ratio);\n",
       "        canvas.attr('height', height * mpl.ratio);\n",
       "        canvas.attr('style', 'width: ' + width + 'px; height: ' + height + 'px;');\n",
       "\n",
       "        rubberband.attr('width', width);\n",
       "        rubberband.attr('height', height);\n",
       "    }\n",
       "\n",
       "    // Set the figure to an initial 600x600px, this will subsequently be updated\n",
       "    // upon first draw.\n",
       "    this._resize_canvas(600, 600);\n",
       "\n",
       "    // Disable right mouse context menu.\n",
       "    $(this.rubberband_canvas).bind(\"contextmenu\",function(e){\n",
       "        return false;\n",
       "    });\n",
       "\n",
       "    function set_focus () {\n",
       "        canvas.focus();\n",
       "        canvas_div.focus();\n",
       "    }\n",
       "\n",
       "    window.setTimeout(set_focus, 100);\n",
       "}\n",
       "\n",
       "mpl.figure.prototype._init_toolbar = function() {\n",
       "    var fig = this;\n",
       "\n",
       "    var nav_element = $('<div/>')\n",
       "    nav_element.attr('style', 'width: 100%');\n",
       "    this.root.append(nav_element);\n",
       "\n",
       "    // Define a callback function for later on.\n",
       "    function toolbar_event(event) {\n",
       "        return fig.toolbar_button_onclick(event['data']);\n",
       "    }\n",
       "    function toolbar_mouse_event(event) {\n",
       "        return fig.toolbar_button_onmouseover(event['data']);\n",
       "    }\n",
       "\n",
       "    for(var toolbar_ind in mpl.toolbar_items) {\n",
       "        var name = mpl.toolbar_items[toolbar_ind][0];\n",
       "        var tooltip = mpl.toolbar_items[toolbar_ind][1];\n",
       "        var image = mpl.toolbar_items[toolbar_ind][2];\n",
       "        var method_name = mpl.toolbar_items[toolbar_ind][3];\n",
       "\n",
       "        if (!name) {\n",
       "            // put a spacer in here.\n",
       "            continue;\n",
       "        }\n",
       "        var button = $('<button/>');\n",
       "        button.addClass('ui-button ui-widget ui-state-default ui-corner-all ' +\n",
       "                        'ui-button-icon-only');\n",
       "        button.attr('role', 'button');\n",
       "        button.attr('aria-disabled', 'false');\n",
       "        button.click(method_name, toolbar_event);\n",
       "        button.mouseover(tooltip, toolbar_mouse_event);\n",
       "\n",
       "        var icon_img = $('<span/>');\n",
       "        icon_img.addClass('ui-button-icon-primary ui-icon');\n",
       "        icon_img.addClass(image);\n",
       "        icon_img.addClass('ui-corner-all');\n",
       "\n",
       "        var tooltip_span = $('<span/>');\n",
       "        tooltip_span.addClass('ui-button-text');\n",
       "        tooltip_span.html(tooltip);\n",
       "\n",
       "        button.append(icon_img);\n",
       "        button.append(tooltip_span);\n",
       "\n",
       "        nav_element.append(button);\n",
       "    }\n",
       "\n",
       "    var fmt_picker_span = $('<span/>');\n",
       "\n",
       "    var fmt_picker = $('<select/>');\n",
       "    fmt_picker.addClass('mpl-toolbar-option ui-widget ui-widget-content');\n",
       "    fmt_picker_span.append(fmt_picker);\n",
       "    nav_element.append(fmt_picker_span);\n",
       "    this.format_dropdown = fmt_picker[0];\n",
       "\n",
       "    for (var ind in mpl.extensions) {\n",
       "        var fmt = mpl.extensions[ind];\n",
       "        var option = $(\n",
       "            '<option/>', {selected: fmt === mpl.default_extension}).html(fmt);\n",
       "        fmt_picker.append(option)\n",
       "    }\n",
       "\n",
       "    // Add hover states to the ui-buttons\n",
       "    $( \".ui-button\" ).hover(\n",
       "        function() { $(this).addClass(\"ui-state-hover\");},\n",
       "        function() { $(this).removeClass(\"ui-state-hover\");}\n",
       "    );\n",
       "\n",
       "    var status_bar = $('<span class=\"mpl-message\"/>');\n",
       "    nav_element.append(status_bar);\n",
       "    this.message = status_bar[0];\n",
       "}\n",
       "\n",
       "mpl.figure.prototype.request_resize = function(x_pixels, y_pixels) {\n",
       "    // Request matplotlib to resize the figure. Matplotlib will then trigger a resize in the client,\n",
       "    // which will in turn request a refresh of the image.\n",
       "    this.send_message('resize', {'width': x_pixels, 'height': y_pixels});\n",
       "}\n",
       "\n",
       "mpl.figure.prototype.send_message = function(type, properties) {\n",
       "    properties['type'] = type;\n",
       "    properties['figure_id'] = this.id;\n",
       "    this.ws.send(JSON.stringify(properties));\n",
       "}\n",
       "\n",
       "mpl.figure.prototype.send_draw_message = function() {\n",
       "    if (!this.waiting) {\n",
       "        this.waiting = true;\n",
       "        this.ws.send(JSON.stringify({type: \"draw\", figure_id: this.id}));\n",
       "    }\n",
       "}\n",
       "\n",
       "\n",
       "mpl.figure.prototype.handle_save = function(fig, msg) {\n",
       "    var format_dropdown = fig.format_dropdown;\n",
       "    var format = format_dropdown.options[format_dropdown.selectedIndex].value;\n",
       "    fig.ondownload(fig, format);\n",
       "}\n",
       "\n",
       "\n",
       "mpl.figure.prototype.handle_resize = function(fig, msg) {\n",
       "    var size = msg['size'];\n",
       "    if (size[0] != fig.canvas.width || size[1] != fig.canvas.height) {\n",
       "        fig._resize_canvas(size[0], size[1]);\n",
       "        fig.send_message(\"refresh\", {});\n",
       "    };\n",
       "}\n",
       "\n",
       "mpl.figure.prototype.handle_rubberband = function(fig, msg) {\n",
       "    var x0 = msg['x0'] / mpl.ratio;\n",
       "    var y0 = (fig.canvas.height - msg['y0']) / mpl.ratio;\n",
       "    var x1 = msg['x1'] / mpl.ratio;\n",
       "    var y1 = (fig.canvas.height - msg['y1']) / mpl.ratio;\n",
       "    x0 = Math.floor(x0) + 0.5;\n",
       "    y0 = Math.floor(y0) + 0.5;\n",
       "    x1 = Math.floor(x1) + 0.5;\n",
       "    y1 = Math.floor(y1) + 0.5;\n",
       "    var min_x = Math.min(x0, x1);\n",
       "    var min_y = Math.min(y0, y1);\n",
       "    var width = Math.abs(x1 - x0);\n",
       "    var height = Math.abs(y1 - y0);\n",
       "\n",
       "    fig.rubberband_context.clearRect(\n",
       "        0, 0, fig.canvas.width, fig.canvas.height);\n",
       "\n",
       "    fig.rubberband_context.strokeRect(min_x, min_y, width, height);\n",
       "}\n",
       "\n",
       "mpl.figure.prototype.handle_figure_label = function(fig, msg) {\n",
       "    // Updates the figure title.\n",
       "    fig.header.textContent = msg['label'];\n",
       "}\n",
       "\n",
       "mpl.figure.prototype.handle_cursor = function(fig, msg) {\n",
       "    var cursor = msg['cursor'];\n",
       "    switch(cursor)\n",
       "    {\n",
       "    case 0:\n",
       "        cursor = 'pointer';\n",
       "        break;\n",
       "    case 1:\n",
       "        cursor = 'default';\n",
       "        break;\n",
       "    case 2:\n",
       "        cursor = 'crosshair';\n",
       "        break;\n",
       "    case 3:\n",
       "        cursor = 'move';\n",
       "        break;\n",
       "    }\n",
       "    fig.rubberband_canvas.style.cursor = cursor;\n",
       "}\n",
       "\n",
       "mpl.figure.prototype.handle_message = function(fig, msg) {\n",
       "    fig.message.textContent = msg['message'];\n",
       "}\n",
       "\n",
       "mpl.figure.prototype.handle_draw = function(fig, msg) {\n",
       "    // Request the server to send over a new figure.\n",
       "    fig.send_draw_message();\n",
       "}\n",
       "\n",
       "mpl.figure.prototype.handle_image_mode = function(fig, msg) {\n",
       "    fig.image_mode = msg['mode'];\n",
       "}\n",
       "\n",
       "mpl.figure.prototype.updated_canvas_event = function() {\n",
       "    // Called whenever the canvas gets updated.\n",
       "    this.send_message(\"ack\", {});\n",
       "}\n",
       "\n",
       "// A function to construct a web socket function for onmessage handling.\n",
       "// Called in the figure constructor.\n",
       "mpl.figure.prototype._make_on_message_function = function(fig) {\n",
       "    return function socket_on_message(evt) {\n",
       "        if (evt.data instanceof Blob) {\n",
       "            /* FIXME: We get \"Resource interpreted as Image but\n",
       "             * transferred with MIME type text/plain:\" errors on\n",
       "             * Chrome.  But how to set the MIME type?  It doesn't seem\n",
       "             * to be part of the websocket stream */\n",
       "            evt.data.type = \"image/png\";\n",
       "\n",
       "            /* Free the memory for the previous frames */\n",
       "            if (fig.imageObj.src) {\n",
       "                (window.URL || window.webkitURL).revokeObjectURL(\n",
       "                    fig.imageObj.src);\n",
       "            }\n",
       "\n",
       "            fig.imageObj.src = (window.URL || window.webkitURL).createObjectURL(\n",
       "                evt.data);\n",
       "            fig.updated_canvas_event();\n",
       "            fig.waiting = false;\n",
       "            return;\n",
       "        }\n",
       "        else if (typeof evt.data === 'string' && evt.data.slice(0, 21) == \"data:image/png;base64\") {\n",
       "            fig.imageObj.src = evt.data;\n",
       "            fig.updated_canvas_event();\n",
       "            fig.waiting = false;\n",
       "            return;\n",
       "        }\n",
       "\n",
       "        var msg = JSON.parse(evt.data);\n",
       "        var msg_type = msg['type'];\n",
       "\n",
       "        // Call the  \"handle_{type}\" callback, which takes\n",
       "        // the figure and JSON message as its only arguments.\n",
       "        try {\n",
       "            var callback = fig[\"handle_\" + msg_type];\n",
       "        } catch (e) {\n",
       "            console.log(\"No handler for the '\" + msg_type + \"' message type: \", msg);\n",
       "            return;\n",
       "        }\n",
       "\n",
       "        if (callback) {\n",
       "            try {\n",
       "                // console.log(\"Handling '\" + msg_type + \"' message: \", msg);\n",
       "                callback(fig, msg);\n",
       "            } catch (e) {\n",
       "                console.log(\"Exception inside the 'handler_\" + msg_type + \"' callback:\", e, e.stack, msg);\n",
       "            }\n",
       "        }\n",
       "    };\n",
       "}\n",
       "\n",
       "// from http://stackoverflow.com/questions/1114465/getting-mouse-location-in-canvas\n",
       "mpl.findpos = function(e) {\n",
       "    //this section is from http://www.quirksmode.org/js/events_properties.html\n",
       "    var targ;\n",
       "    if (!e)\n",
       "        e = window.event;\n",
       "    if (e.target)\n",
       "        targ = e.target;\n",
       "    else if (e.srcElement)\n",
       "        targ = e.srcElement;\n",
       "    if (targ.nodeType == 3) // defeat Safari bug\n",
       "        targ = targ.parentNode;\n",
       "\n",
       "    // jQuery normalizes the pageX and pageY\n",
       "    // pageX,Y are the mouse positions relative to the document\n",
       "    // offset() returns the position of the element relative to the document\n",
       "    var x = e.pageX - $(targ).offset().left;\n",
       "    var y = e.pageY - $(targ).offset().top;\n",
       "\n",
       "    return {\"x\": x, \"y\": y};\n",
       "};\n",
       "\n",
       "/*\n",
       " * return a copy of an object with only non-object keys\n",
       " * we need this to avoid circular references\n",
       " * http://stackoverflow.com/a/24161582/3208463\n",
       " */\n",
       "function simpleKeys (original) {\n",
       "  return Object.keys(original).reduce(function (obj, key) {\n",
       "    if (typeof original[key] !== 'object')\n",
       "        obj[key] = original[key]\n",
       "    return obj;\n",
       "  }, {});\n",
       "}\n",
       "\n",
       "mpl.figure.prototype.mouse_event = function(event, name) {\n",
       "    var canvas_pos = mpl.findpos(event)\n",
       "\n",
       "    if (name === 'button_press')\n",
       "    {\n",
       "        this.canvas.focus();\n",
       "        this.canvas_div.focus();\n",
       "    }\n",
       "\n",
       "    var x = canvas_pos.x * mpl.ratio;\n",
       "    var y = canvas_pos.y * mpl.ratio;\n",
       "\n",
       "    this.send_message(name, {x: x, y: y, button: event.button,\n",
       "                             step: event.step,\n",
       "                             guiEvent: simpleKeys(event)});\n",
       "\n",
       "    /* This prevents the web browser from automatically changing to\n",
       "     * the text insertion cursor when the button is pressed.  We want\n",
       "     * to control all of the cursor setting manually through the\n",
       "     * 'cursor' event from matplotlib */\n",
       "    event.preventDefault();\n",
       "    return false;\n",
       "}\n",
       "\n",
       "mpl.figure.prototype._key_event_extra = function(event, name) {\n",
       "    // Handle any extra behaviour associated with a key event\n",
       "}\n",
       "\n",
       "mpl.figure.prototype.key_event = function(event, name) {\n",
       "\n",
       "    // Prevent repeat events\n",
       "    if (name == 'key_press')\n",
       "    {\n",
       "        if (event.which === this._key)\n",
       "            return;\n",
       "        else\n",
       "            this._key = event.which;\n",
       "    }\n",
       "    if (name == 'key_release')\n",
       "        this._key = null;\n",
       "\n",
       "    var value = '';\n",
       "    if (event.ctrlKey && event.which != 17)\n",
       "        value += \"ctrl+\";\n",
       "    if (event.altKey && event.which != 18)\n",
       "        value += \"alt+\";\n",
       "    if (event.shiftKey && event.which != 16)\n",
       "        value += \"shift+\";\n",
       "\n",
       "    value += 'k';\n",
       "    value += event.which.toString();\n",
       "\n",
       "    this._key_event_extra(event, name);\n",
       "\n",
       "    this.send_message(name, {key: value,\n",
       "                             guiEvent: simpleKeys(event)});\n",
       "    return false;\n",
       "}\n",
       "\n",
       "mpl.figure.prototype.toolbar_button_onclick = function(name) {\n",
       "    if (name == 'download') {\n",
       "        this.handle_save(this, null);\n",
       "    } else {\n",
       "        this.send_message(\"toolbar_button\", {name: name});\n",
       "    }\n",
       "};\n",
       "\n",
       "mpl.figure.prototype.toolbar_button_onmouseover = function(tooltip) {\n",
       "    this.message.textContent = tooltip;\n",
       "};\n",
       "mpl.toolbar_items = [[\"Home\", \"Reset original view\", \"fa fa-home icon-home\", \"home\"], [\"Back\", \"Back to  previous view\", \"fa fa-arrow-left icon-arrow-left\", \"back\"], [\"Forward\", \"Forward to next view\", \"fa fa-arrow-right icon-arrow-right\", \"forward\"], [\"\", \"\", \"\", \"\"], [\"Pan\", \"Pan axes with left mouse, zoom with right\", \"fa fa-arrows icon-move\", \"pan\"], [\"Zoom\", \"Zoom to rectangle\", \"fa fa-square-o icon-check-empty\", \"zoom\"], [\"\", \"\", \"\", \"\"], [\"Download\", \"Download plot\", \"fa fa-floppy-o icon-save\", \"download\"]];\n",
       "\n",
       "mpl.extensions = [\"eps\", \"pdf\", \"png\", \"ps\", \"raw\", \"svg\"];\n",
       "\n",
       "mpl.default_extension = \"png\";var comm_websocket_adapter = function(comm) {\n",
       "    // Create a \"websocket\"-like object which calls the given IPython comm\n",
       "    // object with the appropriate methods. Currently this is a non binary\n",
       "    // socket, so there is still some room for performance tuning.\n",
       "    var ws = {};\n",
       "\n",
       "    ws.close = function() {\n",
       "        comm.close()\n",
       "    };\n",
       "    ws.send = function(m) {\n",
       "        //console.log('sending', m);\n",
       "        comm.send(m);\n",
       "    };\n",
       "    // Register the callback with on_msg.\n",
       "    comm.on_msg(function(msg) {\n",
       "        //console.log('receiving', msg['content']['data'], msg);\n",
       "        // Pass the mpl event to the overridden (by mpl) onmessage function.\n",
       "        ws.onmessage(msg['content']['data'])\n",
       "    });\n",
       "    return ws;\n",
       "}\n",
       "\n",
       "mpl.mpl_figure_comm = function(comm, msg) {\n",
       "    // This is the function which gets called when the mpl process\n",
       "    // starts-up an IPython Comm through the \"matplotlib\" channel.\n",
       "\n",
       "    var id = msg.content.data.id;\n",
       "    // Get hold of the div created by the display call when the Comm\n",
       "    // socket was opened in Python.\n",
       "    var element = $(\"#\" + id);\n",
       "    var ws_proxy = comm_websocket_adapter(comm)\n",
       "\n",
       "    function ondownload(figure, format) {\n",
       "        window.open(figure.imageObj.src);\n",
       "    }\n",
       "\n",
       "    var fig = new mpl.figure(id, ws_proxy,\n",
       "                           ondownload,\n",
       "                           element.get(0));\n",
       "\n",
       "    // Call onopen now - mpl needs it, as it is assuming we've passed it a real\n",
       "    // web socket which is closed, not our websocket->open comm proxy.\n",
       "    ws_proxy.onopen();\n",
       "\n",
       "    fig.parent_element = element.get(0);\n",
       "    fig.cell_info = mpl.find_output_cell(\"<div id='\" + id + \"'></div>\");\n",
       "    if (!fig.cell_info) {\n",
       "        console.error(\"Failed to find cell for figure\", id, fig);\n",
       "        return;\n",
       "    }\n",
       "\n",
       "    var output_index = fig.cell_info[2]\n",
       "    var cell = fig.cell_info[0];\n",
       "\n",
       "};\n",
       "\n",
       "mpl.figure.prototype.handle_close = function(fig, msg) {\n",
       "    var width = fig.canvas.width/mpl.ratio\n",
       "    fig.root.unbind('remove')\n",
       "\n",
       "    // Update the output cell to use the data from the current canvas.\n",
       "    fig.push_to_output();\n",
       "    var dataURL = fig.canvas.toDataURL();\n",
       "    // Re-enable the keyboard manager in IPython - without this line, in FF,\n",
       "    // the notebook keyboard shortcuts fail.\n",
       "    IPython.keyboard_manager.enable()\n",
       "    $(fig.parent_element).html('<img src=\"' + dataURL + '\" width=\"' + width + '\">');\n",
       "    fig.close_ws(fig, msg);\n",
       "}\n",
       "\n",
       "mpl.figure.prototype.close_ws = function(fig, msg){\n",
       "    fig.send_message('closing', msg);\n",
       "    // fig.ws.close()\n",
       "}\n",
       "\n",
       "mpl.figure.prototype.push_to_output = function(remove_interactive) {\n",
       "    // Turn the data on the canvas into data in the output cell.\n",
       "    var width = this.canvas.width/mpl.ratio\n",
       "    var dataURL = this.canvas.toDataURL();\n",
       "    this.cell_info[1]['text/html'] = '<img src=\"' + dataURL + '\" width=\"' + width + '\">';\n",
       "}\n",
       "\n",
       "mpl.figure.prototype.updated_canvas_event = function() {\n",
       "    // Tell IPython that the notebook contents must change.\n",
       "    IPython.notebook.set_dirty(true);\n",
       "    this.send_message(\"ack\", {});\n",
       "    var fig = this;\n",
       "    // Wait a second, then push the new image to the DOM so\n",
       "    // that it is saved nicely (might be nice to debounce this).\n",
       "    setTimeout(function () { fig.push_to_output() }, 1000);\n",
       "}\n",
       "\n",
       "mpl.figure.prototype._init_toolbar = function() {\n",
       "    var fig = this;\n",
       "\n",
       "    var nav_element = $('<div/>')\n",
       "    nav_element.attr('style', 'width: 100%');\n",
       "    this.root.append(nav_element);\n",
       "\n",
       "    // Define a callback function for later on.\n",
       "    function toolbar_event(event) {\n",
       "        return fig.toolbar_button_onclick(event['data']);\n",
       "    }\n",
       "    function toolbar_mouse_event(event) {\n",
       "        return fig.toolbar_button_onmouseover(event['data']);\n",
       "    }\n",
       "\n",
       "    for(var toolbar_ind in mpl.toolbar_items){\n",
       "        var name = mpl.toolbar_items[toolbar_ind][0];\n",
       "        var tooltip = mpl.toolbar_items[toolbar_ind][1];\n",
       "        var image = mpl.toolbar_items[toolbar_ind][2];\n",
       "        var method_name = mpl.toolbar_items[toolbar_ind][3];\n",
       "\n",
       "        if (!name) { continue; };\n",
       "\n",
       "        var button = $('<button class=\"btn btn-default\" href=\"#\" title=\"' + name + '\"><i class=\"fa ' + image + ' fa-lg\"></i></button>');\n",
       "        button.click(method_name, toolbar_event);\n",
       "        button.mouseover(tooltip, toolbar_mouse_event);\n",
       "        nav_element.append(button);\n",
       "    }\n",
       "\n",
       "    // Add the status bar.\n",
       "    var status_bar = $('<span class=\"mpl-message\" style=\"text-align:right; float: right;\"/>');\n",
       "    nav_element.append(status_bar);\n",
       "    this.message = status_bar[0];\n",
       "\n",
       "    // Add the close button to the window.\n",
       "    var buttongrp = $('<div class=\"btn-group inline pull-right\"></div>');\n",
       "    var button = $('<button class=\"btn btn-mini btn-primary\" href=\"#\" title=\"Stop Interaction\"><i class=\"fa fa-power-off icon-remove icon-large\"></i></button>');\n",
       "    button.click(function (evt) { fig.handle_close(fig, {}); } );\n",
       "    button.mouseover('Stop Interaction', toolbar_mouse_event);\n",
       "    buttongrp.append(button);\n",
       "    var titlebar = this.root.find($('.ui-dialog-titlebar'));\n",
       "    titlebar.prepend(buttongrp);\n",
       "}\n",
       "\n",
       "mpl.figure.prototype._root_extra_style = function(el){\n",
       "    var fig = this\n",
       "    el.on(\"remove\", function(){\n",
       "\tfig.close_ws(fig, {});\n",
       "    });\n",
       "}\n",
       "\n",
       "mpl.figure.prototype._canvas_extra_style = function(el){\n",
       "    // this is important to make the div 'focusable\n",
       "    el.attr('tabindex', 0)\n",
       "    // reach out to IPython and tell the keyboard manager to turn it's self\n",
       "    // off when our div gets focus\n",
       "\n",
       "    // location in version 3\n",
       "    if (IPython.notebook.keyboard_manager) {\n",
       "        IPython.notebook.keyboard_manager.register_events(el);\n",
       "    }\n",
       "    else {\n",
       "        // location in version 2\n",
       "        IPython.keyboard_manager.register_events(el);\n",
       "    }\n",
       "\n",
       "}\n",
       "\n",
       "mpl.figure.prototype._key_event_extra = function(event, name) {\n",
       "    var manager = IPython.notebook.keyboard_manager;\n",
       "    if (!manager)\n",
       "        manager = IPython.keyboard_manager;\n",
       "\n",
       "    // Check for shift+enter\n",
       "    if (event.shiftKey && event.which == 13) {\n",
       "        this.canvas_div.blur();\n",
       "        event.shiftKey = false;\n",
       "        // Send a \"J\" for go to next cell\n",
       "        event.which = 74;\n",
       "        event.keyCode = 74;\n",
       "        manager.command_mode();\n",
       "        manager.handle_keydown(event);\n",
       "    }\n",
       "}\n",
       "\n",
       "mpl.figure.prototype.handle_save = function(fig, msg) {\n",
       "    fig.ondownload(fig, null);\n",
       "}\n",
       "\n",
       "\n",
       "mpl.find_output_cell = function(html_output) {\n",
       "    // Return the cell and output element which can be found *uniquely* in the notebook.\n",
       "    // Note - this is a bit hacky, but it is done because the \"notebook_saving.Notebook\"\n",
       "    // IPython event is triggered only after the cells have been serialised, which for\n",
       "    // our purposes (turning an active figure into a static one), is too late.\n",
       "    var cells = IPython.notebook.get_cells();\n",
       "    var ncells = cells.length;\n",
       "    for (var i=0; i<ncells; i++) {\n",
       "        var cell = cells[i];\n",
       "        if (cell.cell_type === 'code'){\n",
       "            for (var j=0; j<cell.output_area.outputs.length; j++) {\n",
       "                var data = cell.output_area.outputs[j];\n",
       "                if (data.data) {\n",
       "                    // IPython >= 3 moved mimebundle to data attribute of output\n",
       "                    data = data.data;\n",
       "                }\n",
       "                if (data['text/html'] == html_output) {\n",
       "                    return [cell, data, j];\n",
       "                }\n",
       "            }\n",
       "        }\n",
       "    }\n",
       "}\n",
       "\n",
       "// Register the function which deals with the matplotlib target/channel.\n",
       "// The kernel may be null if the page has been refreshed.\n",
       "if (IPython.notebook.kernel != null) {\n",
       "    IPython.notebook.kernel.comm_manager.register_target('matplotlib', mpl.mpl_figure_comm);\n",
       "}\n"
      ],
      "text/plain": [
       "<IPython.core.display.Javascript object>"
      ]
     },
     "metadata": {},
     "output_type": "display_data"
    },
    {
     "data": {
      "text/html": [
       "<img src=\"data:image/png;base64,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\" width=\"900\">"
      ],
      "text/plain": [
       "<IPython.core.display.HTML object>"
      ]
     },
     "metadata": {},
     "output_type": "display_data"
    },
    {
     "data": {
      "application/vnd.jupyter.widget-view+json": {
       "model_id": "d1fa5c68cbf14a9cafda3ccfb72973c6",
       "version_major": 2,
       "version_minor": 0
      },
      "text/plain": [
       "VBox(children=(Tab(children=(VBox(children=(BoundedIntText(value=1, description='Number of layers', max=1000, …"
      ]
     },
     "metadata": {},
     "output_type": "display_data"
    }
   ],
   "source": [
    "app()"
   ]
  },
  {
   "cell_type": "code",
   "execution_count": null,
   "metadata": {},
   "outputs": [],
   "source": []
  }
 ],
 "metadata": {
  "kernelspec": {
   "display_name": "Python 3",
   "language": "python",
   "name": "python3"
  },
  "language_info": {
   "codemirror_mode": {
    "name": "ipython",
    "version": 3
   },
   "file_extension": ".py",
   "mimetype": "text/x-python",
   "name": "python",
   "nbconvert_exporter": "python",
   "pygments_lexer": "ipython3",
   "version": "3.7.0"
  },
  "widgets": {
   "application/vnd.jupyter.widget-state+json": {
    "state": {
     "006f2d4571594aeca76a39f9287ada47": {
      "model_module": "@jupyter-widgets/base",
      "model_module_version": "1.1.0",
      "model_name": "LayoutModel",
      "state": {}
     },
     "00afcaad59b24f6a86e364dbc5970d06": {
      "model_module": "@jupyter-widgets/controls",
      "model_module_version": "1.3.0",
      "model_name": "DescriptionStyleModel",
      "state": {
       "description_width": ""
      }
     },
     "0177fbaa615b4f58beeec2c4e2e9970f": {
      "model_module": "@jupyter-widgets/controls",
      "model_module_version": "1.3.0",
      "model_name": "FloatTextModel",
      "state": {
       "description": "scale",
       "layout": "IPY_MODEL_6e54173f16ac41f39414adc98892976d",
       "step": 0.01,
       "style": "IPY_MODEL_3c8ca495efb245cb97e311f0ccac2751",
       "value": 1
      }
     },
     "0204684e78594ad78ca661d146241355": {
      "model_module": "@jupyter-widgets/controls",
      "model_module_version": "1.3.0",
      "model_name": "FloatTextModel",
      "state": {
       "layout": "IPY_MODEL_ad8e31c47a984c7386ee7a9d8db485b7",
       "step": null,
       "style": "IPY_MODEL_fa9cc0d97d99492099e159ed9c72eeb0"
      }
     },
     "0241569975e647eaa4c134a7202c4446": {
      "model_module": "@jupyter-widgets/controls",
      "model_module_version": "1.3.0",
      "model_name": "FloatTextModel",
      "state": {
       "description": "scale",
       "layout": "IPY_MODEL_673330ac08f740b2820f16478099b39b",
       "step": 0.01,
       "style": "IPY_MODEL_ca537704d52242d6ad3fb911147ba821",
       "value": 1
      }
     },
     "028865a5d4874921bc7717a34c47e844": {
      "model_module": "@jupyter-widgets/controls",
      "model_module_version": "1.3.0",
      "model_name": "FloatSliderModel",
      "state": {
       "layout": "IPY_MODEL_e430d0f70f45496180d186860c279922",
       "step": 0.1,
       "style": "IPY_MODEL_4424c1f455094f54aee05a2eac539d0f"
      }
     },
     "02967db3fd294523901f83f30eda80fc": {
      "model_module": "@jupyter-widgets/base",
      "model_module_version": "1.1.0",
      "model_name": "LayoutModel",
      "state": {}
     },
     "02b65e2fef24446098e692502c806f3b": {
      "model_module": "@jupyter-widgets/controls",
      "model_module_version": "1.3.0",
      "model_name": "DescriptionStyleModel",
      "state": {
       "description_width": ""
      }
     },
     "032f29bb369c4a99823457e7dd05790a": {
      "model_module": "@jupyter-widgets/base",
      "model_module_version": "1.1.0",
      "model_name": "LayoutModel",
      "state": {}
     },
     "037b11835815452b80008091074c8cd6": {
      "model_module": "@jupyter-widgets/controls",
      "model_module_version": "1.3.0",
      "model_name": "DescriptionStyleModel",
      "state": {
       "description_width": "0px"
      }
     },
     "03cde78b2506422f9ed88f40d095a7c1": {
      "model_module": "@jupyter-widgets/base",
      "model_module_version": "1.1.0",
      "model_name": "LayoutModel",
      "state": {}
     },
     "03de2bbbdbf24c128e175ca8e1eab863": {
      "model_module": "@jupyter-widgets/controls",
      "model_module_version": "1.3.0",
      "model_name": "FloatTextModel",
      "state": {
       "layout": "IPY_MODEL_0eed2ef709834e50805d0cb8a4b0481e",
       "step": null,
       "style": "IPY_MODEL_8994fa9fe01b47dcb9b7323a9f0672b5"
      }
     },
     "03ffd7d3aaeb4ba39aab523cec2397aa": {
      "model_module": "@jupyter-widgets/controls",
      "model_module_version": "1.3.0",
      "model_name": "DescriptionStyleModel",
      "state": {
       "description_width": "50px"
      }
     },
     "0446476ee4bc4aabb8e0a8e8a6b3b438": {
      "model_module": "@jupyter-widgets/controls",
      "model_module_version": "1.3.0",
      "model_name": "CheckboxModel",
      "state": {
       "disabled": false,
       "layout": "IPY_MODEL_dec46c3d22014c23a490387e3e83d3ea",
       "style": "IPY_MODEL_cf917e546c974a4692429d052141a725",
       "value": false
      }
     },
     "0465ca20dc3e4046a213e8bec5b04581": {
      "model_module": "@jupyter-widgets/base",
      "model_module_version": "1.1.0",
      "model_name": "LayoutModel",
      "state": {}
     },
     "047f79ce90e54d8ea3a1a8f8e00c039c": {
      "model_module": "@jupyter-widgets/base",
      "model_module_version": "1.1.0",
      "model_name": "LayoutModel",
      "state": {}
     },
     "057a0d4e327142758720cb19614c60bc": {
      "model_module": "@jupyter-widgets/base",
      "model_module_version": "1.1.0",
      "model_name": "LayoutModel",
      "state": {}
     },
     "05826fa55dc24ca98d520460b193fa17": {
      "model_module": "@jupyter-widgets/controls",
      "model_module_version": "1.3.0",
      "model_name": "DescriptionStyleModel",
      "state": {
       "description_width": ""
      }
     },
     "05c4a67007aa4c049cb3d5189e66805c": {
      "model_module": "@jupyter-widgets/base",
      "model_module_version": "1.1.0",
      "model_name": "LayoutModel",
      "state": {}
     },
     "0630ef4b8065438ab551192dcaff1d38": {
      "model_module": "@jupyter-widgets/controls",
      "model_module_version": "1.3.0",
      "model_name": "DescriptionStyleModel",
      "state": {
       "description_width": ""
      }
     },
     "06b50b74d4154dd39efb53660bbc800d": {
      "model_module": "@jupyter-widgets/controls",
      "model_module_version": "1.3.0",
      "model_name": "FloatTextModel",
      "state": {
       "layout": "IPY_MODEL_85da861c9a4540808734a7e5d1345b6a",
       "step": 0.01,
       "style": "IPY_MODEL_ce2dc0ef5dbe4a2ca17ee3b35b0cf3fa",
       "value": 6
      }
     },
     "06b5d4d06c9640df901dfd7a93ec04fc": {
      "model_module": "@jupyter-widgets/base",
      "model_module_version": "1.1.0",
      "model_name": "LayoutModel",
      "state": {}
     },
     "06bf4a2eddc94561a07b606ff959da10": {
      "model_module": "@jupyter-widgets/base",
      "model_module_version": "1.1.0",
      "model_name": "LayoutModel",
      "state": {}
     },
     "07f13d20096c40bcb1f075cb7c690e73": {
      "model_module": "@jupyter-widgets/base",
      "model_module_version": "1.1.0",
      "model_name": "LayoutModel",
      "state": {}
     },
     "08406364046443708f9e76c469325bc5": {
      "model_module": "@jupyter-widgets/controls",
      "model_module_version": "1.3.0",
      "model_name": "DescriptionStyleModel",
      "state": {
       "description_width": ""
      }
     },
     "08860a92de5f46cbba920e1a4e158cb6": {
      "model_module": "@jupyter-widgets/controls",
      "model_module_version": "1.3.0",
      "model_name": "FloatTextModel",
      "state": {
       "layout": "IPY_MODEL_b691e026f40c4df8a6bc11037c26f88b",
       "step": 0.01,
       "style": "IPY_MODEL_4f097d54f2e54d14865a81fcd91839ae",
       "value": 2.07
      }
     },
     "08d7a159719d4d12bd29777ac1cdd417": {
      "model_module": "@jupyter-widgets/base",
      "model_module_version": "1.1.0",
      "model_name": "LayoutModel",
      "state": {}
     },
     "09475f1bf05949819db6e018985a19ce": {
      "model_module": "@jupyter-widgets/base",
      "model_module_version": "1.1.0",
      "model_name": "LayoutModel",
      "state": {}
     },
     "095dbe833f8d4f34a9adcb5912716f74": {
      "model_module": "@jupyter-widgets/controls",
      "model_module_version": "1.3.0",
      "model_name": "HBoxModel",
      "state": {
       "children": [
        "IPY_MODEL_46bba9cc07574cd8a208919892080a62",
        "IPY_MODEL_3bfea4841fd34302bf5d95b8a0c6a9ca",
        "IPY_MODEL_0204684e78594ad78ca661d146241355"
       ],
       "layout": "IPY_MODEL_82687fa264fe485e9a61d6b499c2301a"
      }
     },
     "0a3e8be9855b493bae0d3ee42f34021f": {
      "model_module": "@jupyter-widgets/base",
      "model_module_version": "1.1.0",
      "model_name": "LayoutModel",
      "state": {}
     },
     "0aa7f2d7ec5a4081b5462262b1a09000": {
      "model_module": "@jupyter-widgets/base",
      "model_module_version": "1.1.0",
      "model_name": "LayoutModel",
      "state": {
       "flex": "1 1 auto",
       "width": "auto"
      }
     },
     "0ae4b6f468434e099bd8cdbb03ab151e": {
      "model_module": "@jupyter-widgets/base",
      "model_module_version": "1.1.0",
      "model_name": "LayoutModel",
      "state": {}
     },
     "0afaf379955f401d88af6701201c99bb": {
      "model_module": "@jupyter-widgets/controls",
      "model_module_version": "1.3.0",
      "model_name": "CheckboxModel",
      "state": {
       "disabled": false,
       "layout": "IPY_MODEL_542f470b10fd4d0cab78f05256e675d8",
       "style": "IPY_MODEL_f00ab4575ba74c57a5720899af562db4",
       "value": false
      }
     },
     "0b075140ff7b44c193437ac65edde026": {
      "model_module": "@jupyter-widgets/controls",
      "model_module_version": "1.3.0",
      "model_name": "CheckboxModel",
      "state": {
       "disabled": false,
       "layout": "IPY_MODEL_ce7074aba0884a42aeb3c377d9657696",
       "style": "IPY_MODEL_037b11835815452b80008091074c8cd6",
       "value": false
      }
     },
     "0b7a49e8ba494846b3135e5e699aabc1": {
      "model_module": "@jupyter-widgets/controls",
      "model_module_version": "1.3.0",
      "model_name": "FloatTextModel",
      "state": {
       "layout": "IPY_MODEL_9851df9d723d42b6af5e4a23fa3e2295",
       "step": 0.01,
       "style": "IPY_MODEL_b79ade8f5c594e9f8054840d4a944b62",
       "value": 2
      }
     },
     "0b85cc06ee084747b06029e0230a84e3": {
      "model_module": "@jupyter-widgets/controls",
      "model_module_version": "1.3.0",
      "model_name": "DescriptionStyleModel",
      "state": {
       "description_width": ""
      }
     },
     "0b9f0e0f02834dec8836f9b3781a57cd": {
      "model_module": "@jupyter-widgets/base",
      "model_module_version": "1.1.0",
      "model_name": "LayoutModel",
      "state": {}
     },
     "0c209097643345378460c9b646959adf": {
      "model_module": "@jupyter-widgets/controls",
      "model_module_version": "1.3.0",
      "model_name": "CheckboxModel",
      "state": {
       "description": "Display residuals",
       "disabled": false,
       "layout": "IPY_MODEL_814aa3fc678c44828e5f92fe76e16404",
       "style": "IPY_MODEL_8803559e6a5f47fab41db2bee6768d0a",
       "value": false
      }
     },
     "0c5ef283b2b548cf9a504cabf8021044": {
      "model_module": "@jupyter-widgets/controls",
      "model_module_version": "1.3.0",
      "model_name": "SliderStyleModel",
      "state": {
       "description_width": ""
      }
     },
     "0cf8aa1d03c4462e8aeddf0a458fd442": {
      "model_module": "@jupyter-widgets/controls",
      "model_module_version": "1.3.0",
      "model_name": "DescriptionStyleModel",
      "state": {
       "description_width": ""
      }
     },
     "0d01671a9cf149418664f7209ab1fbed": {
      "model_module": "@jupyter-widgets/controls",
      "model_module_version": "1.3.0",
      "model_name": "DescriptionStyleModel",
      "state": {
       "description_width": ""
      }
     },
     "0d1d398b3fb94499918aeff0ffb37349": {
      "model_module": "@jupyter-widgets/base",
      "model_module_version": "1.1.0",
      "model_name": "LayoutModel",
      "state": {}
     },
     "0d1e1c9d36224dc8a0bbc590a60ccf76": {
      "model_module": "@jupyter-widgets/controls",
      "model_module_version": "1.3.0",
      "model_name": "FloatTextModel",
      "state": {
       "layout": "IPY_MODEL_997fe1fa19eb4f23af19aa5ce7c3c6d3",
       "step": 0.01,
       "style": "IPY_MODEL_8f157343d8de4265946b2bc4d7f33584"
      }
     },
     "0d3c72756073488586de949f6f87ea62": {
      "model_module": "@jupyter-widgets/controls",
      "model_module_version": "1.3.0",
      "model_name": "DescriptionStyleModel",
      "state": {
       "description_width": ""
      }
     },
     "0d5cae8d7f214557b472894e473b43c3": {
      "model_module": "@jupyter-widgets/controls",
      "model_module_version": "1.3.0",
      "model_name": "VBoxModel",
      "state": {
       "children": [
        "IPY_MODEL_34a5a63ab9d14006b0efc9230b11a770",
        "IPY_MODEL_30bc685af89f40078c8d0fa64495c255",
        "IPY_MODEL_f5ab66e060e5462d93fa612175953dc2",
        "IPY_MODEL_1434ea1b00984f1ab7b37576c1b2536d",
        "IPY_MODEL_59d012fe8d144df7af1faa14c0ee80ec",
        "IPY_MODEL_35ac27eed0794926ac4fa9cf163c1f11"
       ],
       "layout": "IPY_MODEL_333530d9edfd4022a80ee25cfcdd5652"
      }
     },
     "0d8efcb9bc04496d8a16a10f406ee3fc": {
      "model_module": "@jupyter-widgets/controls",
      "model_module_version": "1.3.0",
      "model_name": "HBoxModel",
      "state": {
       "children": [
        "IPY_MODEL_b70a01c4fedd4f50a34eddd67abb9815",
        "IPY_MODEL_7d030a33e8f249a897bc3d5a236365ab",
        "IPY_MODEL_2b4298c4a5cd469a9c2e94ddad19524c",
        "IPY_MODEL_17ac965c68a340669b502745108a0b09",
        "IPY_MODEL_c4a91dd97a384a219d2245b05f2dcad1",
        "IPY_MODEL_70e16605b55f430392eb2df2de98a9a9",
        "IPY_MODEL_18f23f1cb35b499c99065543040ea229",
        "IPY_MODEL_e634ceef09ea4fcbb2bc639be734a691"
       ],
       "layout": "IPY_MODEL_2b403e593f614a23b690a55ef93f304b"
      }
     },
     "0e0cf76d7c8942b5b7ddddb24bc44374": {
      "model_module": "@jupyter-widgets/controls",
      "model_module_version": "1.3.0",
      "model_name": "HTMLModel",
      "state": {
       "layout": "IPY_MODEL_c38aa7b4ff3c45bd8572cd170b172bee",
       "style": "IPY_MODEL_da65ed1855e84180b22425362b524fd5",
       "value": "isld"
      }
     },
     "0ec6276fa4d045b6844cebcbddd27152": {
      "model_module": "@jupyter-widgets/controls",
      "model_module_version": "1.3.0",
      "model_name": "HBoxModel",
      "state": {
       "children": [
        "IPY_MODEL_2531f867c622490bbec64e6a2d789b72",
        "IPY_MODEL_5058c3f39916404d84070ba8e756c3db",
        "IPY_MODEL_ba95d19ff42e4bd8be7a7195bc1c1395",
        "IPY_MODEL_b63dba57b1644330aaff822c8a5b9a6c",
        "IPY_MODEL_bd5f3f28538e4f1daf12e50dc41f103a",
        "IPY_MODEL_c2adae04d04f4defb44e49977ad4377d",
        "IPY_MODEL_bd013597e181437eafe49b5d42c45003",
        "IPY_MODEL_3bc334e08a614f2a9657aa8c6a1e7748"
       ],
       "layout": "IPY_MODEL_a378028e51564faa8ed58ef0016fc3af"
      }
     },
     "0eed2ef709834e50805d0cb8a4b0481e": {
      "model_module": "@jupyter-widgets/base",
      "model_module_version": "1.1.0",
      "model_name": "LayoutModel",
      "state": {
       "width": "10%"
      }
     },
     "0f331bd2a6fd44e08fcda2228840a3a3": {
      "model_module": "@jupyter-widgets/controls",
      "model_module_version": "1.3.0",
      "model_name": "FloatTextModel",
      "state": {
       "layout": "IPY_MODEL_ed23f11ba73e4971944c8438eadb2d09",
       "step": null,
       "style": "IPY_MODEL_d55bd3f9cadd4ed294f503ca42a6ee46"
      }
     },
     "0f5f94eecbc847ea9a9f7ef7bf9c51df": {
      "model_module": "@jupyter-widgets/controls",
      "model_module_version": "1.3.0",
      "model_name": "HTMLModel",
      "state": {
       "layout": "IPY_MODEL_1467db06930c46a9a3675488f5a10446",
       "style": "IPY_MODEL_f6a20d21019445499939f07d8162a40d",
       "value": "sld"
      }
     },
     "0fd207ba02c34927ba834ec4c9641d40": {
      "model_module": "@jupyter-widgets/controls",
      "model_module_version": "1.3.0",
      "model_name": "DescriptionStyleModel",
      "state": {
       "description_width": "0px"
      }
     },
     "101248aa42d341b1bb957c974d7d3792": {
      "model_module": "@jupyter-widgets/base",
      "model_module_version": "1.1.0",
      "model_name": "LayoutModel",
      "state": {}
     },
     "101733ac7fdd412a921729464abea043": {
      "model_module": "@jupyter-widgets/controls",
      "model_module_version": "1.3.0",
      "model_name": "DescriptionStyleModel",
      "state": {
       "description_width": "50px"
      }
     },
     "1053c2eff5404e6a94fe5fb758eb0a4e": {
      "model_module": "@jupyter-widgets/controls",
      "model_module_version": "1.3.0",
      "model_name": "FloatTextModel",
      "state": {
       "layout": "IPY_MODEL_a641b928328742c7a740c94330adf5e9",
       "step": 0.01,
       "style": "IPY_MODEL_2120ed5fcfaa4e829bb98290f6f3506c"
      }
     },
     "109570ab6966479596479f8307b19a7a": {
      "model_module": "@jupyter-widgets/base",
      "model_module_version": "1.1.0",
      "model_name": "LayoutModel",
      "state": {}
     },
     "10e9d779212243618872410cd7ec87af": {
      "model_module": "@jupyter-widgets/controls",
      "model_module_version": "1.3.0",
      "model_name": "VBoxModel",
      "state": {
       "children": [
        "IPY_MODEL_1861b8e6c0a7435c8b4f5169d01ec5d8"
       ],
       "layout": "IPY_MODEL_1ee51e5468264dd3bb2c28b486414b16"
      }
     },
     "10fe5b23fb59405299cf23b99e89ce4b": {
      "model_module": "@jupyter-widgets/base",
      "model_module_version": "1.1.0",
      "model_name": "LayoutModel",
      "state": {}
     },
     "11bd7ef6d35e4e578d27072743d4759e": {
      "model_module": "@jupyter-widgets/controls",
      "model_module_version": "1.3.0",
      "model_name": "CheckboxModel",
      "state": {
       "disabled": true,
       "layout": "IPY_MODEL_057a0d4e327142758720cb19614c60bc",
       "style": "IPY_MODEL_4e86581bf7f64db4bf845d2adf43ecb4",
       "value": false
      }
     },
     "126881b77f0349359b03715e0f363ce8": {
      "model_module": "@jupyter-widgets/controls",
      "model_module_version": "1.3.0",
      "model_name": "CheckboxModel",
      "state": {
       "disabled": false,
       "layout": "IPY_MODEL_ecb2c47607374155a4cce28182c99ff6",
       "style": "IPY_MODEL_fb65bf57a5864736a27eb09d9027e309",
       "value": false
      }
     },
     "12844b6adf124d45a40c2bfef93576b0": {
      "model_module": "@jupyter-widgets/controls",
      "model_module_version": "1.3.0",
      "model_name": "HBoxModel",
      "state": {
       "children": [
        "IPY_MODEL_0241569975e647eaa4c134a7202c4446",
        "IPY_MODEL_5bd1134c1e8f4a09b07d5f7f83feb88b",
        "IPY_MODEL_eae38201ccf549fea49e77c684e2c6d9",
        "IPY_MODEL_c8f40647fa1e4ee9827fd87544808b67"
       ],
       "layout": "IPY_MODEL_4f83bc81dba043dab0695ebc05940b9a"
      }
     },
     "12aafdbc4c9c4ed19d7221cacdc76007": {
      "model_module": "@jupyter-widgets/base",
      "model_module_version": "1.1.0",
      "model_name": "LayoutModel",
      "state": {}
     },
     "139272a3b0624b06bafedb83f58d22f6": {
      "model_module": "@jupyter-widgets/controls",
      "model_module_version": "1.3.0",
      "model_name": "FloatTextModel",
      "state": {
       "layout": "IPY_MODEL_a1c7a32b00c4405896aa1435e8b354f5",
       "step": 0.01,
       "style": "IPY_MODEL_21cb37db4ad44fa2b20d959e4eae2ed8"
      }
     },
     "1434ea1b00984f1ab7b37576c1b2536d": {
      "model_module": "@jupyter-widgets/controls",
      "model_module_version": "1.3.0",
      "model_name": "VBoxModel",
      "state": {
       "children": [
        "IPY_MODEL_e4fd508cd2024107878b6c5a85664d2f",
        "IPY_MODEL_fd24fabc323245eeaad9eb5bc999b548",
        "IPY_MODEL_e9152d817a884887a837716ca6ecc054",
        "IPY_MODEL_c3bbb5701d3a410bb9401dd2c2de1111"
       ],
       "layout": "IPY_MODEL_e8275f9a72e24187bf8a9f97e3722170"
      }
     },
     "145fafd908574028ac627bcaa071d61d": {
      "model_module": "@jupyter-widgets/base",
      "model_module_version": "1.1.0",
      "model_name": "LayoutModel",
      "state": {}
     },
     "1467db06930c46a9a3675488f5a10446": {
      "model_module": "@jupyter-widgets/base",
      "model_module_version": "1.1.0",
      "model_name": "LayoutModel",
      "state": {
       "flex": "1 1 auto",
       "width": "auto"
      }
     },
     "1480be14fa1c4d41a4904ff8a125aa93": {
      "model_module": "@jupyter-widgets/base",
      "model_module_version": "1.1.0",
      "model_name": "LayoutModel",
      "state": {}
     },
     "14a08fd47ac5438290d800a3eb5605ee": {
      "model_module": "@jupyter-widgets/controls",
      "model_module_version": "1.3.0",
      "model_name": "DescriptionStyleModel",
      "state": {
       "description_width": "0px"
      }
     },
     "14e121bdb16a42798a054f8d592d1085": {
      "model_module": "@jupyter-widgets/controls",
      "model_module_version": "1.3.0",
      "model_name": "FloatTextModel",
      "state": {
       "layout": "IPY_MODEL_eeef5a90f1dc4067ad808de9d1fdbf6a",
       "step": 1e-07,
       "style": "IPY_MODEL_f4d65f76c96e42d3b2d5ee213c8acba9",
       "value": 2e-05
      }
     },
     "14f78c3312a048e6854bec6960dda71d": {
      "model_module": "@jupyter-widgets/controls",
      "model_module_version": "1.3.0",
      "model_name": "HBoxModel",
      "state": {
       "children": [
        "IPY_MODEL_bc2763d8466c48bbac0e01ecd692edcf",
        "IPY_MODEL_aa3a463c715641d3b4a10c307ecb32f2",
        "IPY_MODEL_08860a92de5f46cbba920e1a4e158cb6",
        "IPY_MODEL_be14a8b2bb2b44eab03e36e7315ceb5f",
        "IPY_MODEL_4bcd060983bd4b4592abb9cd9991d5fb",
        "IPY_MODEL_7d523aa5250447a3954f53944482f83b",
        "IPY_MODEL_d1a01a5cd45f4ce6b96dc2076620585b",
        "IPY_MODEL_87f0b39d6296445f88d51d159a34e29b"
       ],
       "layout": "IPY_MODEL_2a12673c981e4c54b48f90f82271e2dc"
      }
     },
     "15158a866cd3499b8a3fd454bcbcd32b": {
      "model_module": "@jupyter-widgets/base",
      "model_module_version": "1.1.0",
      "model_name": "LayoutModel",
      "state": {}
     },
     "15a2a0c26a3044f2bd1b9c3b54de4d1f": {
      "model_module": "@jupyter-widgets/base",
      "model_module_version": "1.1.0",
      "model_name": "LayoutModel",
      "state": {}
     },
     "15e9821a369d46be99d5a24dba075c41": {
      "model_module": "@jupyter-widgets/controls",
      "model_module_version": "1.3.0",
      "model_name": "DescriptionStyleModel",
      "state": {
       "description_width": "initial"
      }
     },
     "160eae0a597e4e6ba5819fb9527daef6": {
      "model_module": "@jupyter-widgets/controls",
      "model_module_version": "1.3.0",
      "model_name": "DescriptionStyleModel",
      "state": {
       "description_width": "0px"
      }
     },
     "16a30a3799d54fbfbfc93cf02734c338": {
      "model_module": "@jupyter-widgets/controls",
      "model_module_version": "1.3.0",
      "model_name": "ButtonStyleModel",
      "state": {}
     },
     "16aa1a3d733a47c783c9e576a390c9e7": {
      "model_module": "@jupyter-widgets/base",
      "model_module_version": "1.1.0",
      "model_name": "LayoutModel",
      "state": {}
     },
     "1727e8ce2c6945dbb3448c09f7b32fad": {
      "model_module": "@jupyter-widgets/controls",
      "model_module_version": "1.3.0",
      "model_name": "HBoxModel",
      "state": {
       "children": [
        "IPY_MODEL_34043266c87a4ff9b2047dc4c1791e1a",
        "IPY_MODEL_3df991c421374a578a5cafcfc54983af",
        "IPY_MODEL_fdde523439364f9686d690286abe6caf",
        "IPY_MODEL_88ff89eb3c574da9b2dfdd9579a8d140"
       ],
       "layout": "IPY_MODEL_2136ae2d60a64f42b552fce1494a171e"
      }
     },
     "172eaba6aac84ee2b67390a958a7623d": {
      "model_module": "@jupyter-widgets/controls",
      "model_module_version": "1.3.0",
      "model_name": "DescriptionStyleModel",
      "state": {
       "description_width": "0px"
      }
     },
     "1731e98f60a54cb2b9735bfc65fc774e": {
      "model_module": "@jupyter-widgets/controls",
      "model_module_version": "1.3.0",
      "model_name": "DescriptionStyleModel",
      "state": {
       "description_width": "0px"
      }
     },
     "17320a151f314bebb1bbc88d09ef0d81": {
      "model_module": "@jupyter-widgets/base",
      "model_module_version": "1.1.0",
      "model_name": "LayoutModel",
      "state": {}
     },
     "175c00f19cf24a2c8322b2b7af147b28": {
      "model_module": "@jupyter-widgets/base",
      "model_module_version": "1.1.0",
      "model_name": "LayoutModel",
      "state": {}
     },
     "1768f2c14dc34fe181b0a8ef53361d22": {
      "model_module": "@jupyter-widgets/controls",
      "model_module_version": "1.3.0",
      "model_name": "FloatTextModel",
      "state": {
       "layout": "IPY_MODEL_182c2ce1837b48d8bb8e11482ade52a3",
       "step": 1e-08,
       "style": "IPY_MODEL_9b43b9efe27c4ca49711a6a13a8a4c3b",
       "value": 1e-08
      }
     },
     "179cf8a733414a64a629027be122c642": {
      "model_module": "@jupyter-widgets/controls",
      "model_module_version": "1.3.0",
      "model_name": "DescriptionStyleModel",
      "state": {
       "description_width": "0px"
      }
     },
     "17ac965c68a340669b502745108a0b09": {
      "model_module": "@jupyter-widgets/controls",
      "model_module_version": "1.3.0",
      "model_name": "CheckboxModel",
      "state": {
       "disabled": false,
       "layout": "IPY_MODEL_a927e38b8cdd4cae97dd5eb52321926c",
       "style": "IPY_MODEL_5fac848fcd9a47059f6cff59a67c7992",
       "value": false
      }
     },
     "17e05e5fcc94480f8ccb0f7a1716b464": {
      "model_module": "@jupyter-widgets/controls",
      "model_module_version": "1.3.0",
      "model_name": "CheckboxModel",
      "state": {
       "disabled": false,
       "layout": "IPY_MODEL_0d1d398b3fb94499918aeff0ffb37349",
       "style": "IPY_MODEL_664d8d7e36554f6fa35fd4e2d79dfc61",
       "value": false
      }
     },
     "182af7a57b404394bb09337856eae1f7": {
      "model_module": "@jupyter-widgets/controls",
      "model_module_version": "1.3.0",
      "model_name": "FloatTextModel",
      "state": {
       "layout": "IPY_MODEL_f915730a4da040f49d92190e3c6d6534",
       "step": 0.01,
       "style": "IPY_MODEL_c3e4c1cf64654326a9ee6a2a960187ee",
       "value": 6.94
      }
     },
     "182c2ce1837b48d8bb8e11482ade52a3": {
      "model_module": "@jupyter-widgets/base",
      "model_module_version": "1.1.0",
      "model_name": "LayoutModel",
      "state": {}
     },
     "1836714cdc0949c3bc80a5a3c76fdf78": {
      "model_module": "@jupyter-widgets/controls",
      "model_module_version": "1.3.0",
      "model_name": "DescriptionStyleModel",
      "state": {
       "description_width": "0px"
      }
     },
     "1843073768394c7888e79a038cb5da17": {
      "model_module": "@jupyter-widgets/output",
      "model_module_version": "1.0.0",
      "model_name": "OutputModel",
      "state": {
       "layout": "IPY_MODEL_b2d765fee04e4bc8af9658e6a73f9d7d"
      }
     },
     "1861b8e6c0a7435c8b4f5169d01ec5d8": {
      "model_module": "@jupyter-widgets/controls",
      "model_module_version": "1.3.0",
      "model_name": "ButtonModel",
      "state": {
       "description": "Set default limits",
       "layout": "IPY_MODEL_cad217d63f68426cbc7affdc668f1487",
       "style": "IPY_MODEL_cef64ad2564b48408782abc103b5ff06"
      }
     },
     "1868a0281b524213a2b5b0aa717987ee": {
      "model_module": "@jupyter-widgets/base",
      "model_module_version": "1.1.0",
      "model_name": "LayoutModel",
      "state": {}
     },
     "1891b0fc16464f8d96753fccea7b7daf": {
      "model_module": "@jupyter-widgets/base",
      "model_module_version": "1.1.0",
      "model_name": "LayoutModel",
      "state": {}
     },
     "18f23f1cb35b499c99065543040ea229": {
      "model_module": "@jupyter-widgets/controls",
      "model_module_version": "1.3.0",
      "model_name": "FloatTextModel",
      "state": {
       "disabled": true,
       "layout": "IPY_MODEL_434c1f01773d416e9bbf2dda7dab7f6a",
       "step": 1,
       "style": "IPY_MODEL_e46f513e49ec4a77ae6321e7db360666"
      }
     },
     "194d9339d8cb48ee9926a077d7f4dbce": {
      "model_module": "@jupyter-widgets/controls",
      "model_module_version": "1.3.0",
      "model_name": "DescriptionStyleModel",
      "state": {
       "description_width": ""
      }
     },
     "19f8871d7b31413fa8a311582bcfcf2b": {
      "model_module": "@jupyter-widgets/controls",
      "model_module_version": "1.3.0",
      "model_name": "HTMLModel",
      "state": {
       "layout": "IPY_MODEL_1467db06930c46a9a3675488f5a10446",
       "style": "IPY_MODEL_20dad0b17e54451b948cf88261b60b1e",
       "value": "rough"
      }
     },
     "1b7bb72bd1504e0c9edbed0da312b1e4": {
      "model_module": "@jupyter-widgets/base",
      "model_module_version": "1.1.0",
      "model_name": "LayoutModel",
      "state": {
       "flex": "1 1 auto",
       "width": "auto"
      }
     },
     "1b9f4293a3914b0b9b3669e5489e7cea": {
      "model_module": "@jupyter-widgets/base",
      "model_module_version": "1.1.0",
      "model_name": "LayoutModel",
      "state": {}
     },
     "1bb492752dac4acfaae5ccc3807a4627": {
      "model_module": "@jupyter-widgets/controls",
      "model_module_version": "1.3.0",
      "model_name": "HTMLModel",
      "state": {
       "layout": "IPY_MODEL_0aa7f2d7ec5a4081b5462262b1a09000",
       "style": "IPY_MODEL_25f72c93e8f94bc2bb93486e1435a472",
       "value": "rough"
      }
     },
     "1be0956a20dd4011b5b3b39636e9fb56": {
      "model_module": "@jupyter-widgets/base",
      "model_module_version": "1.1.0",
      "model_name": "LayoutModel",
      "state": {}
     },
     "1c987039e5f14ed19513647dff33a8de": {
      "model_module": "@jupyter-widgets/controls",
      "model_module_version": "1.3.0",
      "model_name": "DescriptionStyleModel",
      "state": {
       "description_width": ""
      }
     },
     "1d1256cee0f54af89a27fd7c368c046c": {
      "model_module": "@jupyter-widgets/controls",
      "model_module_version": "1.3.0",
      "model_name": "DescriptionStyleModel",
      "state": {
       "description_width": ""
      }
     },
     "1d40dfa793374677bed0c0515e7165e7": {
      "model_module": "@jupyter-widgets/controls",
      "model_module_version": "1.3.0",
      "model_name": "DescriptionStyleModel",
      "state": {
       "description_width": ""
      }
     },
     "1d6ffd1f45404e679417f43765db70df": {
      "model_module": "@jupyter-widgets/base",
      "model_module_version": "1.1.0",
      "model_name": "LayoutModel",
      "state": {}
     },
     "1dc45fc22e6a4c38bbeaa35a31672308": {
      "model_module": "@jupyter-widgets/controls",
      "model_module_version": "1.3.0",
      "model_name": "HTMLModel",
      "state": {
       "layout": "IPY_MODEL_1b7bb72bd1504e0c9edbed0da312b1e4",
       "style": "IPY_MODEL_39edb6fa496f48f6993930465d322383",
       "value": "thick"
      }
     },
     "1e1ac246d20e4a94b01da2f69ed5d105": {
      "model_module": "@jupyter-widgets/base",
      "model_module_version": "1.1.0",
      "model_name": "LayoutModel",
      "state": {}
     },
     "1e1d1ed91e1e47f8ae90a6657d24608d": {
      "model_module": "@jupyter-widgets/controls",
      "model_module_version": "1.3.0",
      "model_name": "HBoxModel",
      "state": {
       "children": [
        "IPY_MODEL_412f243eba30463fb375830b2ea2a32c",
        "IPY_MODEL_2db13c4cb3934e4d9d4e493c1be45e82",
        "IPY_MODEL_59f86df9aa2142e29b6de8b1a8a160dc",
        "IPY_MODEL_d43a63c1e25240ed85294cc11cd78096",
        "IPY_MODEL_3e0ff1c2de134b0f93750d39932a437a",
        "IPY_MODEL_5f125e99af4a4dbb87540d38536d7f35",
        "IPY_MODEL_c5d57f9192ae438eb7b3b8e16622a21f",
        "IPY_MODEL_11bd7ef6d35e4e578d27072743d4759e"
       ],
       "layout": "IPY_MODEL_afda4b15852f449e8e7dea4debd41e6b"
      }
     },
     "1e4e579be108457db753ec2a3036ba86": {
      "model_module": "@jupyter-widgets/base",
      "model_module_version": "1.1.0",
      "model_name": "LayoutModel",
      "state": {}
     },
     "1e6f69a1537645b5b762e5d161a9d57e": {
      "model_module": "@jupyter-widgets/output",
      "model_module_version": "1.0.0",
      "model_name": "OutputModel",
      "state": {
       "layout": "IPY_MODEL_891e04aebee849778c0292435325b630"
      }
     },
     "1e867f8e2d3b490fbfdf6fa20b8a313b": {
      "model_module": "@jupyter-widgets/controls",
      "model_module_version": "1.3.0",
      "model_name": "HTMLModel",
      "state": {
       "layout": "IPY_MODEL_717feb136ef64e5e88219e199879f92a",
       "style": "IPY_MODEL_ce8affc0e8fb4bb2967b1453bde6b369",
       "value": "sld"
      }
     },
     "1ee51e5468264dd3bb2c28b486414b16": {
      "model_module": "@jupyter-widgets/base",
      "model_module_version": "1.1.0",
      "model_name": "LayoutModel",
      "state": {}
     },
     "1f0c93cc66be4f0580ce6a86e08d4ca6": {
      "model_module": "@jupyter-widgets/controls",
      "model_module_version": "1.3.0",
      "model_name": "HBoxModel",
      "state": {
       "children": [
        "IPY_MODEL_bc2763d8466c48bbac0e01ecd692edcf",
        "IPY_MODEL_aa3a463c715641d3b4a10c307ecb32f2",
        "IPY_MODEL_08860a92de5f46cbba920e1a4e158cb6",
        "IPY_MODEL_be14a8b2bb2b44eab03e36e7315ceb5f",
        "IPY_MODEL_4bcd060983bd4b4592abb9cd9991d5fb",
        "IPY_MODEL_7d523aa5250447a3954f53944482f83b",
        "IPY_MODEL_d1a01a5cd45f4ce6b96dc2076620585b",
        "IPY_MODEL_87f0b39d6296445f88d51d159a34e29b"
       ],
       "layout": "IPY_MODEL_7b84277734ba40d88e04f0ee5f207dbb"
      }
     },
     "1f89ad33e84b4e7a9f77e69d94e254e2": {
      "model_module": "@jupyter-widgets/base",
      "model_module_version": "1.1.0",
      "model_name": "LayoutModel",
      "state": {}
     },
     "1fa15b9103b946bebdb868cb534ae4e4": {
      "model_module": "@jupyter-widgets/base",
      "model_module_version": "1.1.0",
      "model_name": "LayoutModel",
      "state": {}
     },
     "1fe0a72f64014f49b88d10a6b61d08fc": {
      "model_module": "@jupyter-widgets/base",
      "model_module_version": "1.1.0",
      "model_name": "LayoutModel",
      "state": {}
     },
     "205c821c65624e60b438df3699310a80": {
      "model_module": "@jupyter-widgets/controls",
      "model_module_version": "1.3.0",
      "model_name": "FloatTextModel",
      "state": {
       "layout": "IPY_MODEL_42dc9b4456b74559bf246b8eed3a1f36",
       "step": 1,
       "style": "IPY_MODEL_7fa52f73b99f4d04baa9ef186dd03ffc",
       "value": 3
      }
     },
     "20886e39ae994a8eb0e09624e1a3562a": {
      "model_module": "@jupyter-widgets/controls",
      "model_module_version": "1.3.0",
      "model_name": "FloatTextModel",
      "state": {
       "description": "background",
       "layout": "IPY_MODEL_aeb91b0fda9947d294b4f8f8c95c36cc",
       "step": 1e-07,
       "style": "IPY_MODEL_ef6f18229dcc4fba80aaed4a5c8f00a9",
       "value": 1e-07
      }
     },
     "20dad0b17e54451b948cf88261b60b1e": {
      "model_module": "@jupyter-widgets/controls",
      "model_module_version": "1.3.0",
      "model_name": "DescriptionStyleModel",
      "state": {
       "description_width": ""
      }
     },
     "2120ed5fcfaa4e829bb98290f6f3506c": {
      "model_module": "@jupyter-widgets/controls",
      "model_module_version": "1.3.0",
      "model_name": "DescriptionStyleModel",
      "state": {
       "description_width": ""
      }
     },
     "2136ae2d60a64f42b552fce1494a171e": {
      "model_module": "@jupyter-widgets/base",
      "model_module_version": "1.1.0",
      "model_name": "LayoutModel",
      "state": {}
     },
     "215106f85eec4ef894e1493441ef7aca": {
      "model_module": "@jupyter-widgets/base",
      "model_module_version": "1.1.0",
      "model_name": "LayoutModel",
      "state": {}
     },
     "21a96e556626402a85affbe806333011": {
      "model_module": "@jupyter-widgets/controls",
      "model_module_version": "1.3.0",
      "model_name": "BoundedIntTextModel",
      "state": {
       "description": "Number of layers",
       "layout": "IPY_MODEL_5590a94e4ac1472f8370fe76d702778e",
       "max": 1000,
       "style": "IPY_MODEL_c1314f7c55aa4dbeab0c5ab4b5f4555f",
       "value": 1
      }
     },
     "21cb37db4ad44fa2b20d959e4eae2ed8": {
      "model_module": "@jupyter-widgets/controls",
      "model_module_version": "1.3.0",
      "model_name": "DescriptionStyleModel",
      "state": {
       "description_width": ""
      }
     },
     "2205ba22c6d84470a40f96c14b8aa8da": {
      "model_module": "@jupyter-widgets/controls",
      "model_module_version": "1.3.0",
      "model_name": "VBoxModel",
      "state": {
       "children": [
        "IPY_MODEL_ba616f96d4824464ad91df18c15721bf",
        "IPY_MODEL_bef00b507c6345169f3d1c7d1c893b8e",
        "IPY_MODEL_26f4f0c4eed94636934b870c45d1ddb4",
        "IPY_MODEL_935ceea2d1ad404ab093ced1f04fb86d",
        "IPY_MODEL_5ebb7d9cc2c84847a77cfd8167e68519",
        "IPY_MODEL_ffb46a5c2760482b8427424cf08d9cbc"
       ],
       "layout": "IPY_MODEL_7cd691a17051416cb9914b7db603118d"
      }
     },
     "224dc0c686a04831a9f56bd071d87038": {
      "model_module": "@jupyter-widgets/base",
      "model_module_version": "1.1.0",
      "model_name": "LayoutModel",
      "state": {}
     },
     "233b0f9b99434f34853bd09cd9085b59": {
      "model_module": "@jupyter-widgets/base",
      "model_module_version": "1.1.0",
      "model_name": "LayoutModel",
      "state": {}
     },
     "238468db4924404fbe72af71599547de": {
      "model_module": "@jupyter-widgets/controls",
      "model_module_version": "1.3.0",
      "model_name": "ButtonModel",
      "state": {
       "description": "Do Fit",
       "layout": "IPY_MODEL_efc512753ac544fca7fe862526116538",
       "style": "IPY_MODEL_5488da6e02f748a183d813bfc091ff6f"
      }
     },
     "23d7c0cd277949918eec9b51d089986e": {
      "model_module": "@jupyter-widgets/controls",
      "model_module_version": "1.3.0",
      "model_name": "FloatTextModel",
      "state": {
       "layout": "IPY_MODEL_ebdc87874c0241c49f0e97576b104e72",
       "step": 0.01,
       "style": "IPY_MODEL_d6e731f0cbbb42649947024f49ae62a2",
       "value": 6
      }
     },
     "23dc85dade2b4688b390657b86fcef56": {
      "model_module": "@jupyter-widgets/controls",
      "model_module_version": "1.3.0",
      "model_name": "DescriptionStyleModel",
      "state": {
       "description_width": "0px"
      }
     },
     "23dd0e6fd9de47fa926dad02147385b2": {
      "model_module": "@jupyter-widgets/base",
      "model_module_version": "1.1.0",
      "model_name": "LayoutModel",
      "state": {}
     },
     "2495ae1950c54e5881c3e6a446d2721c": {
      "model_module": "@jupyter-widgets/controls",
      "model_module_version": "1.3.0",
      "model_name": "FloatTextModel",
      "state": {
       "description": "backing",
       "disabled": true,
       "layout": "IPY_MODEL_3bd90209f1bf49faa258d577cfb88df6",
       "step": 1,
       "style": "IPY_MODEL_03ffd7d3aaeb4ba39aab523cec2397aa"
      }
     },
     "2498632b2fa1479abb36a9ab5cc96fb7": {
      "model_module": "@jupyter-widgets/controls",
      "model_module_version": "1.3.0",
      "model_name": "CheckboxModel",
      "state": {
       "disabled": false,
       "layout": "IPY_MODEL_3ec4205ef9414ff78016250a0f241b2d",
       "style": "IPY_MODEL_b681f5bd7b944161918f6745396e2073",
       "value": false
      }
     },
     "2531f867c622490bbec64e6a2d789b72": {
      "model_module": "@jupyter-widgets/controls",
      "model_module_version": "1.3.0",
      "model_name": "FloatTextModel",
      "state": {
       "description": "fronting",
       "disabled": true,
       "layout": "IPY_MODEL_b3d983c4f7774cd1b5162c1ff8e39d15",
       "step": 1,
       "style": "IPY_MODEL_5dbc9ae8808447d7ba059e16d8f814ba"
      }
     },
     "253bbe47923e44a6b84468761b74d98f": {
      "model_module": "@jupyter-widgets/controls",
      "model_module_version": "1.3.0",
      "model_name": "FloatSliderModel",
      "state": {
       "layout": "IPY_MODEL_ef413c7391424e87a4e88c8a2102b665",
       "step": 0.1,
       "style": "IPY_MODEL_0c5ef283b2b548cf9a504cabf8021044"
      }
     },
     "258d939c30e542cc88a183d5f9ff31b4": {
      "model_module": "@jupyter-widgets/controls",
      "model_module_version": "1.3.0",
      "model_name": "FloatTextModel",
      "state": {
       "layout": "IPY_MODEL_49f2c92999b845e1b8b4feb401650bb9",
       "step": 0.01,
       "style": "IPY_MODEL_6d8f87c1c8c54d708953e601e4e1245a",
       "value": 2.07
      }
     },
     "25f72c93e8f94bc2bb93486e1435a472": {
      "model_module": "@jupyter-widgets/controls",
      "model_module_version": "1.3.0",
      "model_name": "DescriptionStyleModel",
      "state": {
       "description_width": ""
      }
     },
     "2626db30e50b4a248915451e3277bdb0": {
      "model_module": "@jupyter-widgets/controls",
      "model_module_version": "1.3.0",
      "model_name": "HBoxModel",
      "state": {
       "children": [
        "IPY_MODEL_03de2bbbdbf24c128e175ca8e1eab863",
        "IPY_MODEL_253bbe47923e44a6b84468761b74d98f",
        "IPY_MODEL_43e7533792424ecbb21cfe9cf4c3b584"
       ],
       "layout": "IPY_MODEL_45a94f589f22460d94ce9105873ca6cc"
      }
     },
     "265c4d644f8a4fde86b025ef5854cd05": {
      "model_module": "@jupyter-widgets/controls",
      "model_module_version": "1.3.0",
      "model_name": "DescriptionStyleModel",
      "state": {
       "description_width": "0px"
      }
     },
     "26c50c0cf22f48769131e333594795f4": {
      "model_module": "@jupyter-widgets/controls",
      "model_module_version": "1.3.0",
      "model_name": "FloatTextModel",
      "state": {
       "layout": "IPY_MODEL_7f01cb7bb6dd4d8ba0be7d3fe5183c3f",
       "step": 0.01,
       "style": "IPY_MODEL_f7f1d5b562874ac58910e3a73d55b779"
      }
     },
     "26f4f0c4eed94636934b870c45d1ddb4": {
      "model_module": "@jupyter-widgets/controls",
      "model_module_version": "1.3.0",
      "model_name": "HBoxModel",
      "state": {
       "children": [
        "IPY_MODEL_28d499a7525c49b18a26831b0065718c",
        "IPY_MODEL_77d797effc3c43c89e32367758c39889"
       ],
       "layout": "IPY_MODEL_d1cb373711224b03b04653815ffa965d"
      }
     },
     "2720e6f108f941daab06c7ecf508448d": {
      "model_module": "@jupyter-widgets/controls",
      "model_module_version": "1.3.0",
      "model_name": "DescriptionStyleModel",
      "state": {
       "description_width": ""
      }
     },
     "27d4ca1c074744819a25e21f522aa988": {
      "model_module": "@jupyter-widgets/base",
      "model_module_version": "1.1.0",
      "model_name": "LayoutModel",
      "state": {}
     },
     "282851c2f4cb411fb5a3a96c5edb78cd": {
      "model_module": "@jupyter-widgets/base",
      "model_module_version": "1.1.0",
      "model_name": "LayoutModel",
      "state": {}
     },
     "28bf26294c4941c7b30124e928025fe2": {
      "model_module": "@jupyter-widgets/controls",
      "model_module_version": "1.3.0",
      "model_name": "SliderStyleModel",
      "state": {
       "description_width": ""
      }
     },
     "28d499a7525c49b18a26831b0065718c": {
      "model_module": "@jupyter-widgets/controls",
      "model_module_version": "1.3.0",
      "model_name": "FloatTextModel",
      "state": {
       "description": "background",
       "layout": "IPY_MODEL_7db4914fa4674a50b22897c3ed202b09",
       "step": 1e-07,
       "style": "IPY_MODEL_ed0c8767e26648e3b4f64634bbb4ba0c",
       "value": 1e-07
      }
     },
     "29017f39e557423d905b0c5af69043ef": {
      "model_module": "@jupyter-widgets/controls",
      "model_module_version": "1.3.0",
      "model_name": "DescriptionStyleModel",
      "state": {
       "description_width": ""
      }
     },
     "290439f5a0e24c76836e7e6b625851b7": {
      "model_module": "@jupyter-widgets/base",
      "model_module_version": "1.1.0",
      "model_name": "LayoutModel",
      "state": {}
     },
     "293900ff3f014468a1b863007fc45f5f": {
      "model_module": "@jupyter-widgets/controls",
      "model_module_version": "1.3.0",
      "model_name": "DescriptionStyleModel",
      "state": {
       "description_width": ""
      }
     },
     "2939ba89c27d47e18cfce6e84a3d4e2a": {
      "model_module": "@jupyter-widgets/controls",
      "model_module_version": "1.3.0",
      "model_name": "ButtonStyleModel",
      "state": {}
     },
     "2939cb4f84e44eee914317617bfd43a8": {
      "model_module": "@jupyter-widgets/controls",
      "model_module_version": "1.3.0",
      "model_name": "FloatTextModel",
      "state": {
       "layout": "IPY_MODEL_4f886c1f9e15489db4871fd0ab19c51b",
       "step": 1,
       "style": "IPY_MODEL_f70122b837c94d22b7313fa17be3fa86"
      }
     },
     "293ef9cdec9d45f9ac1abba1be3d17d0": {
      "model_module": "@jupyter-widgets/base",
      "model_module_version": "1.1.0",
      "model_name": "LayoutModel",
      "state": {}
     },
     "296c7bb80f5d49718f3c171f37c268e7": {
      "model_module": "@jupyter-widgets/base",
      "model_module_version": "1.1.0",
      "model_name": "LayoutModel",
      "state": {
       "width": "10%"
      }
     },
     "29df47e688b944328de658bfee02219c": {
      "model_module": "@jupyter-widgets/base",
      "model_module_version": "1.1.0",
      "model_name": "LayoutModel",
      "state": {}
     },
     "29fef9a97d294607acad74571a2581ca": {
      "model_module": "@jupyter-widgets/controls",
      "model_module_version": "1.3.0",
      "model_name": "DescriptionStyleModel",
      "state": {
       "description_width": "0px"
      }
     },
     "2a12673c981e4c54b48f90f82271e2dc": {
      "model_module": "@jupyter-widgets/base",
      "model_module_version": "1.1.0",
      "model_name": "LayoutModel",
      "state": {}
     },
     "2a14f4c493004cba91ac74ab0e9f5d71": {
      "model_module": "@jupyter-widgets/controls",
      "model_module_version": "1.3.0",
      "model_name": "DescriptionStyleModel",
      "state": {
       "description_width": ""
      }
     },
     "2a8eeb4fe1f447af8a7143c9440a8c70": {
      "model_module": "@jupyter-widgets/controls",
      "model_module_version": "1.3.0",
      "model_name": "DescriptionStyleModel",
      "state": {
       "description_width": "0px"
      }
     },
     "2b0682021b824f2d8dcf67ed05602b7c": {
      "model_module": "@jupyter-widgets/controls",
      "model_module_version": "1.3.0",
      "model_name": "FloatTextModel",
      "state": {
       "layout": "IPY_MODEL_7886bd772cf34b6186f9505944a8781a",
       "step": 1,
       "style": "IPY_MODEL_0d3c72756073488586de949f6f87ea62"
      }
     },
     "2b403e593f614a23b690a55ef93f304b": {
      "model_module": "@jupyter-widgets/base",
      "model_module_version": "1.1.0",
      "model_name": "LayoutModel",
      "state": {}
     },
     "2b4298c4a5cd469a9c2e94ddad19524c": {
      "model_module": "@jupyter-widgets/controls",
      "model_module_version": "1.3.0",
      "model_name": "FloatTextModel",
      "state": {
       "layout": "IPY_MODEL_c4ca7235b17842e48b7d52769cbeb4bf",
       "step": 0.01,
       "style": "IPY_MODEL_2d7fdadb692a4d23965f8b069cbb8ed7"
      }
     },
     "2b4665e0782c490dba7292f72f31ed56": {
      "model_module": "@jupyter-widgets/controls",
      "model_module_version": "1.3.0",
      "model_name": "FloatTextModel",
      "state": {
       "layout": "IPY_MODEL_81fe922b196e41bd9876ad3f14da4983",
       "step": 0.01,
       "style": "IPY_MODEL_5c3acc02de4647f292120289da2f4e0e"
      }
     },
     "2b55b3f4ab8c44d283d75203f721c86a": {
      "model_module": "@jupyter-widgets/base",
      "model_module_version": "1.1.0",
      "model_name": "LayoutModel",
      "state": {}
     },
     "2b68c9408c574152a764285e886204cc": {
      "model_module": "@jupyter-widgets/controls",
      "model_module_version": "1.3.0",
      "model_name": "FloatTextModel",
      "state": {
       "layout": "IPY_MODEL_a08c9c76210f476d86989feba139af16",
       "step": 0.01,
       "style": "IPY_MODEL_64c800678c90411eaecae4d33ed7cd83"
      }
     },
     "2bb757a92f35427cace6ee18091bb8e1": {
      "model_module": "@jupyter-widgets/controls",
      "model_module_version": "1.3.0",
      "model_name": "DescriptionStyleModel",
      "state": {
       "description_width": ""
      }
     },
     "2bfabd2b2af54cbea63c3a07fe4e1629": {
      "model_module": "@jupyter-widgets/controls",
      "model_module_version": "1.3.0",
      "model_name": "HTMLModel",
      "state": {
       "layout": "IPY_MODEL_1467db06930c46a9a3675488f5a10446",
       "style": "IPY_MODEL_05826fa55dc24ca98d520460b193fa17",
       "value": "thick"
      }
     },
     "2c75de1f775342a5a7f084cca74a449e": {
      "model_module": "@jupyter-widgets/base",
      "model_module_version": "1.1.0",
      "model_name": "LayoutModel",
      "state": {}
     },
     "2c87ae0ec3cc4d588c573e79e1a95220": {
      "model_module": "@jupyter-widgets/controls",
      "model_module_version": "1.3.0",
      "model_name": "TabModel",
      "state": {
       "_titles": {
        "0": "Model",
        "1": "Limits",
        "2": "Options"
       },
       "children": [
        "IPY_MODEL_b762815767e94081a870874bde801db0",
        "IPY_MODEL_4b386ed329fb4680b03fd589e3adf466",
        "IPY_MODEL_ac5c2fe019e6420eb79b204d6fb994c8"
       ],
       "layout": "IPY_MODEL_215106f85eec4ef894e1493441ef7aca"
      }
     },
     "2c8f09e9ab4a4e37925be3b6fc974ceb": {
      "model_module": "@jupyter-widgets/controls",
      "model_module_version": "1.3.0",
      "model_name": "DescriptionStyleModel",
      "state": {
       "description_width": ""
      }
     },
     "2caaf65fd10a42349ec67ff4eb41a22d": {
      "model_module": "@jupyter-widgets/controls",
      "model_module_version": "1.3.0",
      "model_name": "DescriptionStyleModel",
      "state": {
       "description_width": "50px"
      }
     },
     "2ccf3a66faa64270ab3a2063b58db1f2": {
      "model_module": "@jupyter-widgets/controls",
      "model_module_version": "1.3.0",
      "model_name": "DescriptionStyleModel",
      "state": {
       "description_width": "50px"
      }
     },
     "2d07ba1a673442f396be00cf406097f6": {
      "model_module": "@jupyter-widgets/controls",
      "model_module_version": "1.3.0",
      "model_name": "DescriptionStyleModel",
      "state": {
       "description_width": ""
      }
     },
     "2d7fdadb692a4d23965f8b069cbb8ed7": {
      "model_module": "@jupyter-widgets/controls",
      "model_module_version": "1.3.0",
      "model_name": "DescriptionStyleModel",
      "state": {
       "description_width": "0px"
      }
     },
     "2db13c4cb3934e4d9d4e493c1be45e82": {
      "model_module": "@jupyter-widgets/controls",
      "model_module_version": "1.3.0",
      "model_name": "CheckboxModel",
      "state": {
       "disabled": true,
       "layout": "IPY_MODEL_3508edc7cbd7483d9ba1a0cac6c639c0",
       "style": "IPY_MODEL_a0adab4d771b468d9de535bf155d0671",
       "value": false
      }
     },
     "2e12643eab344749a3b9610ce5bf84ea": {
      "model_module": "@jupyter-widgets/base",
      "model_module_version": "1.1.0",
      "model_name": "LayoutModel",
      "state": {}
     },
     "2e68456e6be34d099b87248f2c767b02": {
      "model_module": "@jupyter-widgets/controls",
      "model_module_version": "1.3.0",
      "model_name": "TabModel",
      "state": {
       "_titles": {
        "0": "Model",
        "1": "Limits",
        "2": "Options"
       },
       "children": [
        "IPY_MODEL_0d5cae8d7f214557b472894e473b43c3",
        "IPY_MODEL_10e9d779212243618872410cd7ec87af",
        "IPY_MODEL_e5cf5ca9bb7f4a59b46b1fb6a0212f3b"
       ],
       "layout": "IPY_MODEL_fc283c6806dd40459c76d211008a16ea"
      }
     },
     "2e9cb5945c7a4d08a41679949513064e": {
      "model_module": "@jupyter-widgets/controls",
      "model_module_version": "1.3.0",
      "model_name": "VBoxModel",
      "state": {
       "children": [
        "IPY_MODEL_b121b42c737149658632a47e5e53a5d4"
       ],
       "layout": "IPY_MODEL_73203486acd04c67a5d338d3b2839ee6"
      }
     },
     "2ea4bd4e2d7a4d18981f40118c63a2e6": {
      "model_module": "@jupyter-widgets/base",
      "model_module_version": "1.1.0",
      "model_name": "LayoutModel",
      "state": {}
     },
     "2edbf761e42a4e33ab8afce7921ffbbb": {
      "model_module": "@jupyter-widgets/controls",
      "model_module_version": "1.3.0",
      "model_name": "CheckboxModel",
      "state": {
       "disabled": false,
       "layout": "IPY_MODEL_290439f5a0e24c76836e7e6b625851b7",
       "style": "IPY_MODEL_7e3570b4013d48dfa6772d77bc5f9d28",
       "value": false
      }
     },
     "2f9ee1ec8de94fda942d7f3d047c3c5d": {
      "model_module": "@jupyter-widgets/base",
      "model_module_version": "1.1.0",
      "model_name": "LayoutModel",
      "state": {}
     },
     "2fa2680a21294d3c8dfe6ac3092d63b8": {
      "model_module": "@jupyter-widgets/controls",
      "model_module_version": "1.3.0",
      "model_name": "CheckboxModel",
      "state": {
       "disabled": false,
       "layout": "IPY_MODEL_09475f1bf05949819db6e018985a19ce",
       "style": "IPY_MODEL_740c068ddc9c4d1baf159683efbba3a8",
       "value": false
      }
     },
     "2fc79b4b9e514865b349d3af605cf77c": {
      "model_module": "@jupyter-widgets/base",
      "model_module_version": "1.1.0",
      "model_name": "LayoutModel",
      "state": {}
     },
     "305aef88ac004132bf44abc702d3092a": {
      "model_module": "@jupyter-widgets/base",
      "model_module_version": "1.1.0",
      "model_name": "LayoutModel",
      "state": {}
     },
     "3060a69cd7a647a29ce6cb0ddf857b94": {
      "model_module": "@jupyter-widgets/controls",
      "model_module_version": "1.3.0",
      "model_name": "DescriptionStyleModel",
      "state": {
       "description_width": ""
      }
     },
     "30696f224ac64db387e7623f717767dc": {
      "model_module": "@jupyter-widgets/base",
      "model_module_version": "1.1.0",
      "model_name": "LayoutModel",
      "state": {}
     },
     "306f6b7d6e5447058ab74dc5addfb3d0": {
      "model_module": "@jupyter-widgets/controls",
      "model_module_version": "1.3.0",
      "model_name": "HBoxModel",
      "state": {
       "children": [
        "IPY_MODEL_03de2bbbdbf24c128e175ca8e1eab863",
        "IPY_MODEL_253bbe47923e44a6b84468761b74d98f",
        "IPY_MODEL_43e7533792424ecbb21cfe9cf4c3b584"
       ],
       "layout": "IPY_MODEL_bbea990c0122494ebc14314c6b345592"
      }
     },
     "30bc685af89f40078c8d0fa64495c255": {
      "model_module": "@jupyter-widgets/controls",
      "model_module_version": "1.3.0",
      "model_name": "HBoxModel",
      "state": {
       "children": [
        "IPY_MODEL_34043266c87a4ff9b2047dc4c1791e1a",
        "IPY_MODEL_3df991c421374a578a5cafcfc54983af",
        "IPY_MODEL_fdde523439364f9686d690286abe6caf",
        "IPY_MODEL_88ff89eb3c574da9b2dfdd9579a8d140"
       ],
       "layout": "IPY_MODEL_12aafdbc4c9c4ed19d7221cacdc76007"
      }
     },
     "31f7fd2ecfdc42c1b6e7c749f27297dc": {
      "model_module": "@jupyter-widgets/controls",
      "model_module_version": "1.3.0",
      "model_name": "HTMLModel",
      "state": {
       "layout": "IPY_MODEL_93086774713545e3b29dc4d93e6f115b",
       "style": "IPY_MODEL_6bd5a83313e141ecaf522a76da5839a3",
       "value": "rough"
      }
     },
     "321cd952fec2418890fc001f1e1c2858": {
      "model_module": "@jupyter-widgets/controls",
      "model_module_version": "1.3.0",
      "model_name": "DescriptionStyleModel",
      "state": {
       "description_width": ""
      }
     },
     "323f99d6e6d14a62bbcf5cfd8189f9c5": {
      "model_module": "@jupyter-widgets/controls",
      "model_module_version": "1.3.0",
      "model_name": "CheckboxModel",
      "state": {
       "disabled": false,
       "layout": "IPY_MODEL_b0563e35af5f4ab6af4dd512207621a4",
       "style": "IPY_MODEL_bd3f8f46789f4af9b1944fbc2e7c7db0",
       "value": false
      }
     },
     "333530d9edfd4022a80ee25cfcdd5652": {
      "model_module": "@jupyter-widgets/base",
      "model_module_version": "1.1.0",
      "model_name": "LayoutModel",
      "state": {}
     },
     "33ffeb1391ca419fbaf16319f1af8705": {
      "model_module": "@jupyter-widgets/controls",
      "model_module_version": "1.3.0",
      "model_name": "CheckboxModel",
      "state": {
       "disabled": false,
       "layout": "IPY_MODEL_36386ba6b7564d169823853a3e2b442a",
       "style": "IPY_MODEL_63c18b5a04274b8790dd609635ee7036",
       "value": false
      }
     },
     "34043266c87a4ff9b2047dc4c1791e1a": {
      "model_module": "@jupyter-widgets/controls",
      "model_module_version": "1.3.0",
      "model_name": "FloatTextModel",
      "state": {
       "description": "scale",
       "layout": "IPY_MODEL_dfea5de35f9646b394cd4795f19eb632",
       "step": 0.01,
       "style": "IPY_MODEL_ec92611041ba4e28a9513bdd6f3f8b78",
       "value": 1
      }
     },
     "3495faefc8c34769a25daf0ecfef1588": {
      "model_module": "@jupyter-widgets/controls",
      "model_module_version": "1.3.0",
      "model_name": "DescriptionStyleModel",
      "state": {
       "description_width": ""
      }
     },
     "34a5a63ab9d14006b0efc9230b11a770": {
      "model_module": "@jupyter-widgets/controls",
      "model_module_version": "1.3.0",
      "model_name": "BoundedIntTextModel",
      "state": {
       "description": "Number of layers",
       "layout": "IPY_MODEL_a9fa242344b8482886d4584ced78f546",
       "max": 1000,
       "style": "IPY_MODEL_4a9e3b66b21c4fd18e6dffe9fca66bba",
       "value": 1
      }
     },
     "34e4113626ae4a5bb581f7e9ee7961d6": {
      "model_module": "@jupyter-widgets/controls",
      "model_module_version": "1.3.0",
      "model_name": "VBoxModel",
      "state": {
       "children": [
        "IPY_MODEL_4af2156e3c7a48319a2bd947bd681057",
        "IPY_MODEL_c76c284228b94da3b405192eaf286fdd",
        "IPY_MODEL_0c209097643345378460c9b646959adf"
       ],
       "layout": "IPY_MODEL_fd1b1a6952bd4f9c8d9cfc15a9543bce"
      }
     },
     "34fd33c45e954b2497b0cac980e38830": {
      "model_module": "@jupyter-widgets/controls",
      "model_module_version": "1.3.0",
      "model_name": "FloatTextModel",
      "state": {
       "layout": "IPY_MODEL_1868a0281b524213a2b5b0aa717987ee",
       "step": 0.01,
       "style": "IPY_MODEL_7f5e783aeebf44be900b3583d2b0f326",
       "value": 6
      }
     },
     "3508edc7cbd7483d9ba1a0cac6c639c0": {
      "model_module": "@jupyter-widgets/base",
      "model_module_version": "1.1.0",
      "model_name": "LayoutModel",
      "state": {}
     },
     "3559793a8d804ac5bd5e001e95c4a51c": {
      "model_module": "@jupyter-widgets/controls",
      "model_module_version": "1.3.0",
      "model_name": "DescriptionStyleModel",
      "state": {
       "description_width": ""
      }
     },
     "356981f98ad74f85a612ca5aeb416b2b": {
      "model_module": "@jupyter-widgets/base",
      "model_module_version": "1.1.0",
      "model_name": "LayoutModel",
      "state": {}
     },
     "35965195943d41aea47e8c36502fa91c": {
      "model_module": "@jupyter-widgets/controls",
      "model_module_version": "1.3.0",
      "model_name": "FloatTextModel",
      "state": {
       "layout": "IPY_MODEL_54a5549583044b779baaba6e4ad0858e",
       "step": 0.01,
       "style": "IPY_MODEL_ad5cf1c774a7472e92fb53c1d8848057",
       "value": 2
      }
     },
     "35ac27eed0794926ac4fa9cf163c1f11": {
      "model_module": "@jupyter-widgets/controls",
      "model_module_version": "1.3.0",
      "model_name": "HBoxModel",
      "state": {
       "children": [
        "IPY_MODEL_238468db4924404fbe72af71599547de",
        "IPY_MODEL_d3991872860e49568975c91fda480064"
       ],
       "layout": "IPY_MODEL_17320a151f314bebb1bbc88d09ef0d81"
      }
     },
     "35b8966a3f6c4a49956ab218d2facd89": {
      "model_module": "@jupyter-widgets/controls",
      "model_module_version": "1.3.0",
      "model_name": "DescriptionStyleModel",
      "state": {
       "description_width": "0px"
      }
     },
     "35dbce8029a348289c9a914fc32cc864": {
      "model_module": "@jupyter-widgets/base",
      "model_module_version": "1.1.0",
      "model_name": "LayoutModel",
      "state": {}
     },
     "360d978cb8f541e0adf2aa3e42f5e84a": {
      "model_module": "@jupyter-widgets/base",
      "model_module_version": "1.1.0",
      "model_name": "LayoutModel",
      "state": {}
     },
     "36386ba6b7564d169823853a3e2b442a": {
      "model_module": "@jupyter-widgets/base",
      "model_module_version": "1.1.0",
      "model_name": "LayoutModel",
      "state": {}
     },
     "368129351ecf41b78f877254d72d3667": {
      "model_module": "@jupyter-widgets/controls",
      "model_module_version": "1.3.0",
      "model_name": "HBoxModel",
      "state": {
       "children": [
        "IPY_MODEL_7a642b002adf4c229c9feaeac0c728ee",
        "IPY_MODEL_39d664c70244400c82b58d3a95d30b78",
        "IPY_MODEL_a9e9081226c4455b89cdb25d00a03622",
        "IPY_MODEL_fd559c3c26e743bc837e7d0bc3343220",
        "IPY_MODEL_e75f213bb1984459b48702fb5342fdda",
        "IPY_MODEL_33ffeb1391ca419fbaf16319f1af8705",
        "IPY_MODEL_205c821c65624e60b438df3699310a80",
        "IPY_MODEL_5078e36eaef640e586614a6da4601456"
       ],
       "layout": "IPY_MODEL_b063772705964bc3937bd97ecf7d759f"
      }
     },
     "371c027fffc24898a5dd68cca14c441b": {
      "model_module": "@jupyter-widgets/controls",
      "model_module_version": "1.3.0",
      "model_name": "BoundedFloatTextModel",
      "state": {
       "description": "dq/q",
       "layout": "IPY_MODEL_6deefd0a632a4683b4534d7d39d25769",
       "max": 20,
       "style": "IPY_MODEL_37e96601626c47c39bd871a4aa597558",
       "value": 5
      }
     },
     "3792b17ca29346769291b92461ce0e27": {
      "model_module": "@jupyter-widgets/controls",
      "model_module_version": "1.3.0",
      "model_name": "DescriptionStyleModel",
      "state": {
       "description_width": "0px"
      }
     },
     "379d395f2ed44cc09d94495c590d1993": {
      "model_module": "@jupyter-widgets/controls",
      "model_module_version": "1.3.0",
      "model_name": "DescriptionStyleModel",
      "state": {
       "description_width": "0px"
      }
     },
     "37e96601626c47c39bd871a4aa597558": {
      "model_module": "@jupyter-widgets/controls",
      "model_module_version": "1.3.0",
      "model_name": "DescriptionStyleModel",
      "state": {
       "description_width": ""
      }
     },
     "37e9bc790b6f424582bc8ecd10e6b36b": {
      "model_module": "@jupyter-widgets/controls",
      "model_module_version": "1.3.0",
      "model_name": "FloatTextModel",
      "state": {
       "layout": "IPY_MODEL_400a7de4056c475686df358b312b8e55",
       "step": 0.01,
       "style": "IPY_MODEL_3a814fe13ab04abe884b05cec783235d",
       "value": 3.47
      }
     },
     "37f11698a36d462a9542cdeb81e18b21": {
      "model_module": "@jupyter-widgets/controls",
      "model_module_version": "1.3.0",
      "model_name": "DescriptionStyleModel",
      "state": {
       "description_width": "0px"
      }
     },
     "37fcb0c0fa634f14a366bd366a9efc03": {
      "model_module": "@jupyter-widgets/controls",
      "model_module_version": "1.3.0",
      "model_name": "DescriptionStyleModel",
      "state": {
       "description_width": ""
      }
     },
     "3813da9bef414d17ab7bd45c3f4cdbce": {
      "model_module": "@jupyter-widgets/base",
      "model_module_version": "1.1.0",
      "model_name": "LayoutModel",
      "state": {}
     },
     "3826106276cc43e7b65eeaab5905f867": {
      "model_module": "@jupyter-widgets/controls",
      "model_module_version": "1.3.0",
      "model_name": "ButtonModel",
      "state": {
       "description": "To code",
       "layout": "IPY_MODEL_356981f98ad74f85a612ca5aeb416b2b",
       "style": "IPY_MODEL_3d016eb40da146e1b0ebe14dceafd1ff"
      }
     },
     "398350e780f84ac6ac8769561118bff5": {
      "model_module": "@jupyter-widgets/controls",
      "model_module_version": "1.3.0",
      "model_name": "ButtonModel",
      "state": {
       "description": "Do Fit",
       "layout": "IPY_MODEL_ffaf9385913146658c920d02a06b6c48",
       "style": "IPY_MODEL_2939ba89c27d47e18cfce6e84a3d4e2a"
      }
     },
     "39d3a528eb0949bc914185b25ab84fa3": {
      "model_module": "@jupyter-widgets/base",
      "model_module_version": "1.1.0",
      "model_name": "LayoutModel",
      "state": {}
     },
     "39d664c70244400c82b58d3a95d30b78": {
      "model_module": "@jupyter-widgets/controls",
      "model_module_version": "1.3.0",
      "model_name": "CheckboxModel",
      "state": {
       "disabled": true,
       "layout": "IPY_MODEL_5a421698b1a048eeb560022f33898ec9",
       "style": "IPY_MODEL_5b8a4191aca442c0abad5d5330765868",
       "value": false
      }
     },
     "39edb6fa496f48f6993930465d322383": {
      "model_module": "@jupyter-widgets/controls",
      "model_module_version": "1.3.0",
      "model_name": "DescriptionStyleModel",
      "state": {
       "description_width": ""
      }
     },
     "3a1203f2ab314ed39815e2df41a311cf": {
      "model_module": "@jupyter-widgets/base",
      "model_module_version": "1.1.0",
      "model_name": "LayoutModel",
      "state": {}
     },
     "3a814fe13ab04abe884b05cec783235d": {
      "model_module": "@jupyter-widgets/controls",
      "model_module_version": "1.3.0",
      "model_name": "DescriptionStyleModel",
      "state": {
       "description_width": "0px"
      }
     },
     "3a8c40bbb43e4d13b2d6574c1a4bdb45": {
      "model_module": "@jupyter-widgets/controls",
      "model_module_version": "1.3.0",
      "model_name": "DescriptionStyleModel",
      "state": {
       "description_width": "0px"
      }
     },
     "3bc334e08a614f2a9657aa8c6a1e7748": {
      "model_module": "@jupyter-widgets/controls",
      "model_module_version": "1.3.0",
      "model_name": "CheckboxModel",
      "state": {
       "disabled": true,
       "layout": "IPY_MODEL_914c0e7e4f5841b4b6a734b7f0ab070f",
       "style": "IPY_MODEL_179cf8a733414a64a629027be122c642",
       "value": false
      }
     },
     "3bd90209f1bf49faa258d577cfb88df6": {
      "model_module": "@jupyter-widgets/base",
      "model_module_version": "1.1.0",
      "model_name": "LayoutModel",
      "state": {}
     },
     "3bfea4841fd34302bf5d95b8a0c6a9ca": {
      "model_module": "@jupyter-widgets/controls",
      "model_module_version": "1.3.0",
      "model_name": "FloatSliderModel",
      "state": {
       "layout": "IPY_MODEL_98756664fb8142a28bf96f77dbc4caaa",
       "step": 0.1,
       "style": "IPY_MODEL_28bf26294c4941c7b30124e928025fe2"
      }
     },
     "3c8ca495efb245cb97e311f0ccac2751": {
      "model_module": "@jupyter-widgets/controls",
      "model_module_version": "1.3.0",
      "model_name": "DescriptionStyleModel",
      "state": {
       "description_width": "120px"
      }
     },
     "3ccceb6e512d4ffb8b39af4ab5974923": {
      "model_module": "@jupyter-widgets/controls",
      "model_module_version": "1.3.0",
      "model_name": "ButtonStyleModel",
      "state": {}
     },
     "3d016eb40da146e1b0ebe14dceafd1ff": {
      "model_module": "@jupyter-widgets/controls",
      "model_module_version": "1.3.0",
      "model_name": "ButtonStyleModel",
      "state": {}
     },
     "3dde60bdf33143ccbf7b6db04bb8623c": {
      "model_module": "@jupyter-widgets/base",
      "model_module_version": "1.1.0",
      "model_name": "LayoutModel",
      "state": {}
     },
     "3df991c421374a578a5cafcfc54983af": {
      "model_module": "@jupyter-widgets/controls",
      "model_module_version": "1.3.0",
      "model_name": "CheckboxModel",
      "state": {
       "disabled": false,
       "layout": "IPY_MODEL_d5c61d0891b6462db74c3cab382cbd95",
       "style": "IPY_MODEL_4fca82082b1f45b6a396987366e6a98e",
       "value": false
      }
     },
     "3e0ff1c2de134b0f93750d39932a437a": {
      "model_module": "@jupyter-widgets/controls",
      "model_module_version": "1.3.0",
      "model_name": "FloatTextModel",
      "state": {
       "layout": "IPY_MODEL_79de8814344546d3982e85c4a5ba8696",
       "step": 0.01,
       "style": "IPY_MODEL_f5204773072e4c1b9e184515ca5a6d19"
      }
     },
     "3e276074f24a41bb9cf9a6d558f1ff9f": {
      "model_module": "@jupyter-widgets/controls",
      "model_module_version": "1.3.0",
      "model_name": "DescriptionStyleModel",
      "state": {
       "description_width": ""
      }
     },
     "3e27da82ea88409790d9a7388398e57e": {
      "model_module": "@jupyter-widgets/controls",
      "model_module_version": "1.3.0",
      "model_name": "HBoxModel",
      "state": {
       "children": [
        "IPY_MODEL_8621ffc87dc94d9ebf47927116d66ed2",
        "IPY_MODEL_1e867f8e2d3b490fbfdf6fa20b8a313b",
        "IPY_MODEL_e73efb2d5835475a890dbf2c60136d37",
        "IPY_MODEL_a8a9a91e10e14f3f8b302f4af933cf5e"
       ],
       "layout": "IPY_MODEL_0465ca20dc3e4046a213e8bec5b04581"
      }
     },
     "3e3005d393e7427099979656cc8d3269": {
      "model_module": "@jupyter-widgets/controls",
      "model_module_version": "1.3.0",
      "model_name": "DescriptionStyleModel",
      "state": {
       "description_width": ""
      }
     },
     "3e8bbca0c3ae44a690778d345c78247f": {
      "model_module": "@jupyter-widgets/base",
      "model_module_version": "1.1.0",
      "model_name": "LayoutModel",
      "state": {}
     },
     "3ec4205ef9414ff78016250a0f241b2d": {
      "model_module": "@jupyter-widgets/base",
      "model_module_version": "1.1.0",
      "model_name": "LayoutModel",
      "state": {}
     },
     "3efa392662ae4b99a0b932a0578c2015": {
      "model_module": "@jupyter-widgets/base",
      "model_module_version": "1.1.0",
      "model_name": "LayoutModel",
      "state": {}
     },
     "3f6e54ae351c456ea2599cd8e0629a02": {
      "model_module": "@jupyter-widgets/controls",
      "model_module_version": "1.3.0",
      "model_name": "DescriptionStyleModel",
      "state": {
       "description_width": "0px"
      }
     },
     "3f89f2c927844db9a9010c4f20141f19": {
      "model_module": "@jupyter-widgets/controls",
      "model_module_version": "1.3.0",
      "model_name": "DescriptionStyleModel",
      "state": {
       "description_width": "0px"
      }
     },
     "3fc7fe3cb86748389b4904eaccc7a1c8": {
      "model_module": "@jupyter-widgets/base",
      "model_module_version": "1.1.0",
      "model_name": "LayoutModel",
      "state": {}
     },
     "400a7de4056c475686df358b312b8e55": {
      "model_module": "@jupyter-widgets/base",
      "model_module_version": "1.1.0",
      "model_name": "LayoutModel",
      "state": {}
     },
     "4075687aa07d4329ab4bdebc32176b9d": {
      "model_module": "@jupyter-widgets/base",
      "model_module_version": "1.1.0",
      "model_name": "LayoutModel",
      "state": {}
     },
     "40e0ff2beb0e4009a2fa509fa68854a3": {
      "model_module": "@jupyter-widgets/base",
      "model_module_version": "1.1.0",
      "model_name": "LayoutModel",
      "state": {}
     },
     "40ef4d8843884ce0a4cdfc65492f0207": {
      "model_module": "@jupyter-widgets/controls",
      "model_module_version": "1.3.0",
      "model_name": "DescriptionStyleModel",
      "state": {
       "description_width": ""
      }
     },
     "412f243eba30463fb375830b2ea2a32c": {
      "model_module": "@jupyter-widgets/controls",
      "model_module_version": "1.3.0",
      "model_name": "FloatTextModel",
      "state": {
       "description": "fronting",
       "disabled": true,
       "layout": "IPY_MODEL_f6235edba5e54d2083599b176b7db3f6",
       "step": 1,
       "style": "IPY_MODEL_49b9c48e01a54776b0e76f1ae5c1d169"
      }
     },
     "41344f26be5e4600bada1bc754aa1c17": {
      "model_module": "@jupyter-widgets/controls",
      "model_module_version": "1.3.0",
      "model_name": "FloatTextModel",
      "state": {
       "layout": "IPY_MODEL_9b2e7dea792e44b996e6f07d32217b10",
       "step": 1e-08,
       "style": "IPY_MODEL_2720e6f108f941daab06c7ecf508448d",
       "value": 1e-08
      }
     },
     "417ed1fd1929474c8a433b1ae7c55c40": {
      "model_module": "@jupyter-widgets/controls",
      "model_module_version": "1.3.0",
      "model_name": "DescriptionStyleModel",
      "state": {
       "description_width": ""
      }
     },
     "41ac3f35f0834a37935685d35e2c6818": {
      "model_module": "@jupyter-widgets/controls",
      "model_module_version": "1.3.0",
      "model_name": "FloatTextModel",
      "state": {
       "layout": "IPY_MODEL_07f13d20096c40bcb1f075cb7c690e73",
       "step": 0.01,
       "style": "IPY_MODEL_d5daaa9eaef243f982a971fbd88f611e"
      }
     },
     "41dd75624a9c4989b50671b58949a72d": {
      "model_module": "@jupyter-widgets/controls",
      "model_module_version": "1.3.0",
      "model_name": "DescriptionStyleModel",
      "state": {
       "description_width": ""
      }
     },
     "42202bfc98234d059da581b8bdf4dfc1": {
      "model_module": "@jupyter-widgets/controls",
      "model_module_version": "1.3.0",
      "model_name": "FloatTextModel",
      "state": {
       "layout": "IPY_MODEL_bbc00ce03b7d42feab868996911337c2",
       "step": 0.01,
       "style": "IPY_MODEL_a338198756ac45c286185c326d756d3d"
      }
     },
     "4235720104e84005bae5606a69530984": {
      "model_module": "@jupyter-widgets/controls",
      "model_module_version": "1.3.0",
      "model_name": "FloatTextModel",
      "state": {
       "layout": "IPY_MODEL_9c9980cdcd9f4b81a85c481b8a0b5330",
       "step": 0.01,
       "style": "IPY_MODEL_00afcaad59b24f6a86e364dbc5970d06"
      }
     },
     "4243476872224b52bed791093272f787": {
      "model_module": "@jupyter-widgets/controls",
      "model_module_version": "1.3.0",
      "model_name": "BoundedFloatTextModel",
      "state": {
       "layout": "IPY_MODEL_1480be14fa1c4d41a4904ff8a125aa93",
       "max": 20,
       "style": "IPY_MODEL_efdfc0513e0f46f295afe29a398a05c9"
      }
     },
     "42444a970d1f459fab9d60dca33f3039": {
      "model_module": "@jupyter-widgets/base",
      "model_module_version": "1.1.0",
      "model_name": "LayoutModel",
      "state": {}
     },
     "425b6d125ece4423a93448b3c3bd4971": {
      "model_module": "@jupyter-widgets/base",
      "model_module_version": "1.1.0",
      "model_name": "LayoutModel",
      "state": {}
     },
     "42dc9b4456b74559bf246b8eed3a1f36": {
      "model_module": "@jupyter-widgets/base",
      "model_module_version": "1.1.0",
      "model_name": "LayoutModel",
      "state": {}
     },
     "42fff8cd8c854384915de0cc45e91fda": {
      "model_module": "@jupyter-widgets/base",
      "model_module_version": "1.1.0",
      "model_name": "LayoutModel",
      "state": {}
     },
     "434c1f01773d416e9bbf2dda7dab7f6a": {
      "model_module": "@jupyter-widgets/base",
      "model_module_version": "1.1.0",
      "model_name": "LayoutModel",
      "state": {}
     },
     "4365e97c0c4a43488af013cbc986b1ce": {
      "model_module": "@jupyter-widgets/controls",
      "model_module_version": "1.3.0",
      "model_name": "DescriptionStyleModel",
      "state": {
       "description_width": "0px"
      }
     },
     "43e7533792424ecbb21cfe9cf4c3b584": {
      "model_module": "@jupyter-widgets/controls",
      "model_module_version": "1.3.0",
      "model_name": "FloatTextModel",
      "state": {
       "layout": "IPY_MODEL_8eb3b83752664032b39be6a0fdb305e8",
       "step": null,
       "style": "IPY_MODEL_dac7093c5ef44072b98f36d44539ee31"
      }
     },
     "4424c1f455094f54aee05a2eac539d0f": {
      "model_module": "@jupyter-widgets/controls",
      "model_module_version": "1.3.0",
      "model_name": "SliderStyleModel",
      "state": {
       "description_width": ""
      }
     },
     "44402809e6c3444fad4a16bd7914e7fd": {
      "model_module": "@jupyter-widgets/controls",
      "model_module_version": "1.3.0",
      "model_name": "FloatTextModel",
      "state": {
       "layout": "IPY_MODEL_d125fcd00a5e44b088302f3318f618ba",
       "step": 0.01,
       "style": "IPY_MODEL_d043b5dfac314a59bbbea1c8d6c621cb",
       "value": 2
      }
     },
     "4521281c7d634a359a87815841620599": {
      "model_module": "@jupyter-widgets/base",
      "model_module_version": "1.1.0",
      "model_name": "LayoutModel",
      "state": {}
     },
     "459dea58f0a84ce1a57481b9d24ee143": {
      "model_module": "@jupyter-widgets/controls",
      "model_module_version": "1.3.0",
      "model_name": "DescriptionStyleModel",
      "state": {
       "description_width": ""
      }
     },
     "45a94f589f22460d94ce9105873ca6cc": {
      "model_module": "@jupyter-widgets/base",
      "model_module_version": "1.1.0",
      "model_name": "LayoutModel",
      "state": {}
     },
     "45b20e7c7f844216a753c6dfc8c5700e": {
      "model_module": "@jupyter-widgets/controls",
      "model_module_version": "1.3.0",
      "model_name": "FloatTextModel",
      "state": {
       "layout": "IPY_MODEL_7c0db3efcb434051ae07892f03e9be82",
       "step": 0.01,
       "style": "IPY_MODEL_7b963910bfd3495383e5d5ce2c79f659"
      }
     },
     "45d80306b3864819bf2f635a8c8bb1df": {
      "model_module": "@jupyter-widgets/controls",
      "model_module_version": "1.3.0",
      "model_name": "CheckboxModel",
      "state": {
       "disabled": true,
       "layout": "IPY_MODEL_425b6d125ece4423a93448b3c3bd4971",
       "style": "IPY_MODEL_6dae88f6391b4ba18763948d90bb06fa",
       "value": false
      }
     },
     "45e94649720e4229bf1b8c325023d6c4": {
      "model_module": "@jupyter-widgets/base",
      "model_module_version": "1.1.0",
      "model_name": "LayoutModel",
      "state": {}
     },
     "461f948e9f5345b9a028853561cd7556": {
      "model_module": "@jupyter-widgets/controls",
      "model_module_version": "1.3.0",
      "model_name": "DescriptionStyleModel",
      "state": {
       "description_width": ""
      }
     },
     "46283af7e7334542be8adb6661ffb631": {
      "model_module": "@jupyter-widgets/controls",
      "model_module_version": "1.3.0",
      "model_name": "CheckboxModel",
      "state": {
       "disabled": false,
       "layout": "IPY_MODEL_0b9f0e0f02834dec8836f9b3781a57cd",
       "style": "IPY_MODEL_0fd207ba02c34927ba834ec4c9641d40",
       "value": false
      }
     },
     "46bba9cc07574cd8a208919892080a62": {
      "model_module": "@jupyter-widgets/controls",
      "model_module_version": "1.3.0",
      "model_name": "FloatTextModel",
      "state": {
       "layout": "IPY_MODEL_c783381e15dd41388c618862795a95f7",
       "step": null,
       "style": "IPY_MODEL_9b46996a301a49f5b76b7e291de794b1"
      }
     },
     "46e6f5357e7e48ee96e380dc5e8dd248": {
      "model_module": "@jupyter-widgets/controls",
      "model_module_version": "1.3.0",
      "model_name": "DescriptionStyleModel",
      "state": {
       "description_width": ""
      }
     },
     "46ef47a3cc244a5b91a827b29afd1cbb": {
      "model_module": "@jupyter-widgets/controls",
      "model_module_version": "1.3.0",
      "model_name": "DescriptionStyleModel",
      "state": {
       "description_width": "50px"
      }
     },
     "4700ecbd0d4a412ba2daec1829fb403e": {
      "model_module": "@jupyter-widgets/controls",
      "model_module_version": "1.3.0",
      "model_name": "DescriptionStyleModel",
      "state": {
       "description_width": ""
      }
     },
     "47a2f16be414439bbe0dbc37123567ef": {
      "model_module": "@jupyter-widgets/base",
      "model_module_version": "1.1.0",
      "model_name": "LayoutModel",
      "state": {}
     },
     "4848007c00f94a5f8652251c88ae8d46": {
      "model_module": "@jupyter-widgets/controls",
      "model_module_version": "1.3.0",
      "model_name": "FloatTextModel",
      "state": {
       "description": "chi-squared:",
       "disabled": true,
       "layout": "IPY_MODEL_8d24c2d3e93d4786bb4395e83cefd9ea",
       "step": null,
       "style": "IPY_MODEL_f3bdb310f0184c19be51987eaab67f1d"
      }
     },
     "485153deabbc48169d771cfa2644c943": {
      "model_module": "@jupyter-widgets/controls",
      "model_module_version": "1.3.0",
      "model_name": "HBoxModel",
      "state": {
       "children": [
        "IPY_MODEL_2495ae1950c54e5881c3e6a446d2721c",
        "IPY_MODEL_45d80306b3864819bf2f635a8c8bb1df",
        "IPY_MODEL_258d939c30e542cc88a183d5f9ff31b4",
        "IPY_MODEL_6391a30e388c4d489c451a7dbf75d827",
        "IPY_MODEL_9271e1b2f4c04c83897e92c3ecc6e7e7",
        "IPY_MODEL_766e510a97d747d6a87b73ae84621800",
        "IPY_MODEL_4ab6008e6efe4deb82a133018973d718",
        "IPY_MODEL_0b075140ff7b44c193437ac65edde026"
       ],
       "layout": "IPY_MODEL_b01fa77b107c4fda967521415c490fa7"
      }
     },
     "4915c637ac0b4fb68909f893419593e2": {
      "model_module": "@jupyter-widgets/controls",
      "model_module_version": "1.3.0",
      "model_name": "FloatTextModel",
      "state": {
       "layout": "IPY_MODEL_8eae3f59e1a0406bb7f6343c73841e6b",
       "step": 0.01,
       "style": "IPY_MODEL_914935b1e844485ca428d459ca52057d"
      }
     },
     "49307d5adf63429e99d6580744a2b635": {
      "model_module": "@jupyter-widgets/base",
      "model_module_version": "1.1.0",
      "model_name": "LayoutModel",
      "state": {}
     },
     "49b61fc989f5437694a68bad8e40f2a5": {
      "model_module": "@jupyter-widgets/controls",
      "model_module_version": "1.3.0",
      "model_name": "DescriptionStyleModel",
      "state": {
       "description_width": ""
      }
     },
     "49b9c48e01a54776b0e76f1ae5c1d169": {
      "model_module": "@jupyter-widgets/controls",
      "model_module_version": "1.3.0",
      "model_name": "DescriptionStyleModel",
      "state": {
       "description_width": "50px"
      }
     },
     "49f2c92999b845e1b8b4feb401650bb9": {
      "model_module": "@jupyter-widgets/base",
      "model_module_version": "1.1.0",
      "model_name": "LayoutModel",
      "state": {}
     },
     "4a2907eb6a964405a3adcc06d70d497b": {
      "model_module": "@jupyter-widgets/controls",
      "model_module_version": "1.3.0",
      "model_name": "DescriptionStyleModel",
      "state": {
       "description_width": "0px"
      }
     },
     "4a6d0c9bb9ba48c79db16857737440b7": {
      "model_module": "@jupyter-widgets/controls",
      "model_module_version": "1.3.0",
      "model_name": "DescriptionStyleModel",
      "state": {
       "description_width": "0px"
      }
     },
     "4a9e3b66b21c4fd18e6dffe9fca66bba": {
      "model_module": "@jupyter-widgets/controls",
      "model_module_version": "1.3.0",
      "model_name": "DescriptionStyleModel",
      "state": {
       "description_width": "120px"
      }
     },
     "4ab6008e6efe4deb82a133018973d718": {
      "model_module": "@jupyter-widgets/controls",
      "model_module_version": "1.3.0",
      "model_name": "FloatTextModel",
      "state": {
       "layout": "IPY_MODEL_f724769714da42f093201d958233da62",
       "step": 1,
       "style": "IPY_MODEL_5dd03051ed9a46acb4dfd0ffea7529e8",
       "value": 3
      }
     },
     "4ae116b662b9469eb8d04be4242f0e8f": {
      "model_module": "@jupyter-widgets/controls",
      "model_module_version": "1.3.0",
      "model_name": "DescriptionStyleModel",
      "state": {
       "description_width": ""
      }
     },
     "4af2156e3c7a48319a2bd947bd681057": {
      "model_module": "@jupyter-widgets/controls",
      "model_module_version": "1.3.0",
      "model_name": "DropdownModel",
      "state": {
       "_options_labels": [
        "lin",
        "logY",
        "YX4",
        "YX2"
       ],
       "description": "Plot Type:",
       "index": 0,
       "layout": "IPY_MODEL_233b0f9b99434f34853bd09cd9085b59",
       "style": "IPY_MODEL_08406364046443708f9e76c469325bc5"
      }
     },
     "4b386ed329fb4680b03fd589e3adf466": {
      "model_module": "@jupyter-widgets/controls",
      "model_module_version": "1.3.0",
      "model_name": "VBoxModel",
      "state": {
       "children": [
        "IPY_MODEL_b121b42c737149658632a47e5e53a5d4"
       ],
       "layout": "IPY_MODEL_3a1203f2ab314ed39815e2df41a311cf"
      }
     },
     "4b45ab4533e5494e858f3fc40b858e34": {
      "model_module": "@jupyter-widgets/controls",
      "model_module_version": "1.3.0",
      "model_name": "TextModel",
      "state": {
       "description": "dataset:",
       "disabled": true,
       "layout": "IPY_MODEL_1be0956a20dd4011b5b3b39636e9fb56",
       "style": "IPY_MODEL_695f744bf19f43cb814a50d11a1b6a80"
      }
     },
     "4ba0502d68ea412db945275ebe3b3e9e": {
      "model_module": "@jupyter-widgets/controls",
      "model_module_version": "1.3.0",
      "model_name": "DescriptionStyleModel",
      "state": {
       "description_width": ""
      }
     },
     "4bcd060983bd4b4592abb9cd9991d5fb": {
      "model_module": "@jupyter-widgets/controls",
      "model_module_version": "1.3.0",
      "model_name": "FloatTextModel",
      "state": {
       "layout": "IPY_MODEL_761810844e8d4ef99bbfff8a12a286f8",
       "step": 0.01,
       "style": "IPY_MODEL_f9f395f148444f3487182fbefe925871"
      }
     },
     "4cdd1b299f0a4f07b140458fdcc020ba": {
      "model_module": "@jupyter-widgets/base",
      "model_module_version": "1.1.0",
      "model_name": "LayoutModel",
      "state": {}
     },
     "4d153c12d061491fa03fcd8881e14cc4": {
      "model_module": "@jupyter-widgets/controls",
      "model_module_version": "1.3.0",
      "model_name": "CheckboxModel",
      "state": {
       "description": "Display residuals",
       "disabled": false,
       "layout": "IPY_MODEL_86541fb61ff547ff8db379dfd9846c7a",
       "style": "IPY_MODEL_98ea01b5c4c8495e97ea3d58c0725237",
       "value": false
      }
     },
     "4e4f57a2c1974126a575a7c98b947f71": {
      "model_module": "@jupyter-widgets/base",
      "model_module_version": "1.1.0",
      "model_name": "LayoutModel",
      "state": {}
     },
     "4e86581bf7f64db4bf845d2adf43ecb4": {
      "model_module": "@jupyter-widgets/controls",
      "model_module_version": "1.3.0",
      "model_name": "DescriptionStyleModel",
      "state": {
       "description_width": "0px"
      }
     },
     "4ec6a248cb3f4e789acc47f67ca92633": {
      "model_module": "@jupyter-widgets/base",
      "model_module_version": "1.1.0",
      "model_name": "LayoutModel",
      "state": {}
     },
     "4f097d54f2e54d14865a81fcd91839ae": {
      "model_module": "@jupyter-widgets/controls",
      "model_module_version": "1.3.0",
      "model_name": "DescriptionStyleModel",
      "state": {
       "description_width": "0px"
      }
     },
     "4f5441029d5345d09ee76361f64d5330": {
      "model_module": "@jupyter-widgets/controls",
      "model_module_version": "1.3.0",
      "model_name": "HBoxModel",
      "state": {
       "children": [
        "IPY_MODEL_28d499a7525c49b18a26831b0065718c",
        "IPY_MODEL_77d797effc3c43c89e32367758c39889"
       ],
       "layout": "IPY_MODEL_820d4130488c4dcb918c4ed32f625dbd"
      }
     },
     "4f57b42eab34417f9b7c78b8ef6dbc92": {
      "model_module": "@jupyter-widgets/controls",
      "model_module_version": "1.3.0",
      "model_name": "DescriptionStyleModel",
      "state": {
       "description_width": ""
      }
     },
     "4f6f750aed4747b98d73d483b8543208": {
      "model_module": "@jupyter-widgets/controls",
      "model_module_version": "1.3.0",
      "model_name": "DescriptionStyleModel",
      "state": {
       "description_width": "initial"
      }
     },
     "4f83bc81dba043dab0695ebc05940b9a": {
      "model_module": "@jupyter-widgets/base",
      "model_module_version": "1.1.0",
      "model_name": "LayoutModel",
      "state": {}
     },
     "4f886c1f9e15489db4871fd0ab19c51b": {
      "model_module": "@jupyter-widgets/base",
      "model_module_version": "1.1.0",
      "model_name": "LayoutModel",
      "state": {}
     },
     "4fca82082b1f45b6a396987366e6a98e": {
      "model_module": "@jupyter-widgets/controls",
      "model_module_version": "1.3.0",
      "model_name": "DescriptionStyleModel",
      "state": {
       "description_width": "0px"
      }
     },
     "5058c3f39916404d84070ba8e756c3db": {
      "model_module": "@jupyter-widgets/controls",
      "model_module_version": "1.3.0",
      "model_name": "CheckboxModel",
      "state": {
       "disabled": true,
       "layout": "IPY_MODEL_968b851532a44739b2ecd4e3d3afe601",
       "style": "IPY_MODEL_be40b93f661644f4aa70956f636bd8f0",
       "value": false
      }
     },
     "5078e36eaef640e586614a6da4601456": {
      "model_module": "@jupyter-widgets/controls",
      "model_module_version": "1.3.0",
      "model_name": "CheckboxModel",
      "state": {
       "disabled": false,
       "layout": "IPY_MODEL_1fe0a72f64014f49b88d10a6b61d08fc",
       "style": "IPY_MODEL_eba7169ec8d743daa9203a4d6406c365",
       "value": false
      }
     },
     "50acae81810c4cb88670998db167ee0a": {
      "model_module": "@jupyter-widgets/controls",
      "model_module_version": "1.3.0",
      "model_name": "DescriptionStyleModel",
      "state": {
       "description_width": "0px"
      }
     },
     "51504f4eaea14b418317e3138ed22b00": {
      "model_module": "@jupyter-widgets/controls",
      "model_module_version": "1.3.0",
      "model_name": "HTMLModel",
      "state": {
       "layout": "IPY_MODEL_c38aa7b4ff3c45bd8572cd170b172bee",
       "style": "IPY_MODEL_4ae116b662b9469eb8d04be4242f0e8f",
       "value": "rough"
      }
     },
     "5159b101bc7a4d94adb25d40f0044bc5": {
      "model_module": "@jupyter-widgets/base",
      "model_module_version": "1.1.0",
      "model_name": "LayoutModel",
      "state": {}
     },
     "523f11072db94098baf41185a6814afa": {
      "model_module": "@jupyter-widgets/controls",
      "model_module_version": "1.3.0",
      "model_name": "DescriptionStyleModel",
      "state": {
       "description_width": "0px"
      }
     },
     "528d08f8aeed47bdb99d39170d3ee8fa": {
      "model_module": "@jupyter-widgets/base",
      "model_module_version": "1.1.0",
      "model_name": "LayoutModel",
      "state": {}
     },
     "5297cd03706341d6b7839109ed0c69fc": {
      "model_module": "@jupyter-widgets/controls",
      "model_module_version": "1.3.0",
      "model_name": "FloatTextModel",
      "state": {
       "layout": "IPY_MODEL_16aa1a3d733a47c783c9e576a390c9e7",
       "step": 0.01,
       "style": "IPY_MODEL_58334f827a654e2590a0336e587d801a"
      }
     },
     "529860ea45774c279a29c168b3b60800": {
      "model_module": "@jupyter-widgets/controls",
      "model_module_version": "1.3.0",
      "model_name": "VBoxModel",
      "state": {
       "children": [
        "IPY_MODEL_dab635e857e64a6e9b995dcd1f76261f",
        "IPY_MODEL_1e1d1ed91e1e47f8ae90a6657d24608d",
        "IPY_MODEL_7050c02fbac8403e82336ca1884eb6c6",
        "IPY_MODEL_485153deabbc48169d771cfa2644c943"
       ],
       "layout": "IPY_MODEL_d56ef38921364d2cbd22e1cc224a1d01"
      }
     },
     "542ca3cf428645488b2d81ca2a6adb9e": {
      "model_module": "@jupyter-widgets/base",
      "model_module_version": "1.1.0",
      "model_name": "LayoutModel",
      "state": {}
     },
     "542f470b10fd4d0cab78f05256e675d8": {
      "model_module": "@jupyter-widgets/base",
      "model_module_version": "1.1.0",
      "model_name": "LayoutModel",
      "state": {}
     },
     "5488da6e02f748a183d813bfc091ff6f": {
      "model_module": "@jupyter-widgets/controls",
      "model_module_version": "1.3.0",
      "model_name": "ButtonStyleModel",
      "state": {}
     },
     "54a5549583044b779baaba6e4ad0858e": {
      "model_module": "@jupyter-widgets/base",
      "model_module_version": "1.1.0",
      "model_name": "LayoutModel",
      "state": {}
     },
     "54d4fef96b894ac0ac12e13ea1710b2a": {
      "model_module": "@jupyter-widgets/controls",
      "model_module_version": "1.3.0",
      "model_name": "DescriptionStyleModel",
      "state": {
       "description_width": ""
      }
     },
     "54fcbbf473554f16b69f77b9a89503bd": {
      "model_module": "@jupyter-widgets/controls",
      "model_module_version": "1.3.0",
      "model_name": "HBoxModel",
      "state": {
       "children": [
        "IPY_MODEL_a8c0591363a944a7b96be53f58cd16fe",
        "IPY_MODEL_323f99d6e6d14a62bbcf5cfd8189f9c5",
        "IPY_MODEL_d6798f50cbe14a7fbd998a1a6ed1fdfa",
        "IPY_MODEL_7aecf105b715474ea2d8a1136f6f3f04",
        "IPY_MODEL_4915c637ac0b4fb68909f893419593e2",
        "IPY_MODEL_46283af7e7334542be8adb6661ffb631",
        "IPY_MODEL_77a897c1c85f454fbc57c367b147432d",
        "IPY_MODEL_0afaf379955f401d88af6701201c99bb"
       ],
       "layout": "IPY_MODEL_6e5a5cd79c6b4a6b83a0878f3763a878"
      }
     },
     "5590a94e4ac1472f8370fe76d702778e": {
      "model_module": "@jupyter-widgets/base",
      "model_module_version": "1.1.0",
      "model_name": "LayoutModel",
      "state": {}
     },
     "55e006dab8754e8daa3fc5d8e23505cd": {
      "model_module": "@jupyter-widgets/controls",
      "model_module_version": "1.3.0",
      "model_name": "FloatTextModel",
      "state": {
       "layout": "IPY_MODEL_5b4cb09d8c2c49738e5e258ddf2372eb",
       "step": 0.01,
       "style": "IPY_MODEL_5961458601ef4484a518bfb4c361f9be"
      }
     },
     "561d128f3f5f46039e77b4b7de51bac4": {
      "model_module": "@jupyter-widgets/base",
      "model_module_version": "1.1.0",
      "model_name": "LayoutModel",
      "state": {}
     },
     "5695117dae7b4c9a8b109250e2d19606": {
      "model_module": "@jupyter-widgets/base",
      "model_module_version": "1.1.0",
      "model_name": "LayoutModel",
      "state": {}
     },
     "56ba1c0047b64dad92944733cc6b156d": {
      "model_module": "@jupyter-widgets/controls",
      "model_module_version": "1.3.0",
      "model_name": "CheckboxModel",
      "state": {
       "disabled": false,
       "layout": "IPY_MODEL_3efa392662ae4b99a0b932a0578c2015",
       "style": "IPY_MODEL_3f89f2c927844db9a9010c4f20141f19",
       "value": false
      }
     },
     "56ea845600884a9aba607f495c70f095": {
      "model_module": "@jupyter-widgets/controls",
      "model_module_version": "1.3.0",
      "model_name": "HBoxModel",
      "state": {
       "children": [
        "IPY_MODEL_e2badd0ac13c4d878779a0dfc6332684",
        "IPY_MODEL_71ac49887912441888b7e73f7741fe5d"
       ],
       "layout": "IPY_MODEL_f3c16e351e2947ecaeac08168c3bfc75"
      }
     },
     "571b845371154b22aff28936ba3be38d": {
      "model_module": "@jupyter-widgets/base",
      "model_module_version": "1.1.0",
      "model_name": "LayoutModel",
      "state": {}
     },
     "5746e5dcc2c34bffa8c4c6f51b2d9be1": {
      "model_module": "@jupyter-widgets/controls",
      "model_module_version": "1.3.0",
      "model_name": "FloatTextModel",
      "state": {
       "layout": "IPY_MODEL_2ea4bd4e2d7a4d18981f40118c63a2e6",
       "step": 1,
       "style": "IPY_MODEL_0630ef4b8065438ab551192dcaff1d38",
       "value": 50
      }
     },
     "580c1ad5f6a84d1c966c8277f8adc6d9": {
      "model_module": "@jupyter-widgets/controls",
      "model_module_version": "1.3.0",
      "model_name": "DescriptionStyleModel",
      "state": {
       "description_width": ""
      }
     },
     "58334f827a654e2590a0336e587d801a": {
      "model_module": "@jupyter-widgets/controls",
      "model_module_version": "1.3.0",
      "model_name": "DescriptionStyleModel",
      "state": {
       "description_width": ""
      }
     },
     "586b17e53ff648a6a236dc44c5946670": {
      "model_module": "@jupyter-widgets/controls",
      "model_module_version": "1.3.0",
      "model_name": "CheckboxModel",
      "state": {
       "description": "Display residuals",
       "disabled": false,
       "layout": "IPY_MODEL_ac5944bb74b0448eb76cebfea30bb9cd",
       "style": "IPY_MODEL_792fb812a9b241508d5a5c8956ef3ee7",
       "value": false
      }
     },
     "58a3303253554effb39ad87fff82dc97": {
      "model_module": "@jupyter-widgets/controls",
      "model_module_version": "1.3.0",
      "model_name": "HBoxModel",
      "state": {
       "children": [
        "IPY_MODEL_20886e39ae994a8eb0e09624e1a3562a",
        "IPY_MODEL_c581dc5699b444fbb633c24daa09389f"
       ],
       "layout": "IPY_MODEL_a7ea1e929d7f477586908f3d6e042322"
      }
     },
     "58de351e6ad04620bdea9220b9925690": {
      "model_module": "@jupyter-widgets/base",
      "model_module_version": "1.1.0",
      "model_name": "LayoutModel",
      "state": {}
     },
     "5961458601ef4484a518bfb4c361f9be": {
      "model_module": "@jupyter-widgets/controls",
      "model_module_version": "1.3.0",
      "model_name": "DescriptionStyleModel",
      "state": {
       "description_width": ""
      }
     },
     "59d012fe8d144df7af1faa14c0ee80ec": {
      "model_module": "@jupyter-widgets/controls",
      "model_module_version": "1.3.0",
      "model_name": "HBoxModel",
      "state": {
       "children": [
        "IPY_MODEL_46bba9cc07574cd8a208919892080a62",
        "IPY_MODEL_3bfea4841fd34302bf5d95b8a0c6a9ca",
        "IPY_MODEL_0204684e78594ad78ca661d146241355"
       ],
       "layout": "IPY_MODEL_542ca3cf428645488b2d81ca2a6adb9e"
      }
     },
     "59f86df9aa2142e29b6de8b1a8a160dc": {
      "model_module": "@jupyter-widgets/controls",
      "model_module_version": "1.3.0",
      "model_name": "FloatTextModel",
      "state": {
       "layout": "IPY_MODEL_bef8bf86621e416b91df32ea3db097d1",
       "step": 0.01,
       "style": "IPY_MODEL_b76485d068cf4d7badadcc6e640b45f1"
      }
     },
     "5a0959f2256e4898a8b7c834d4082b6e": {
      "model_module": "@jupyter-widgets/controls",
      "model_module_version": "1.3.0",
      "model_name": "VBoxModel",
      "state": {
       "children": [
        "IPY_MODEL_df0dda4f24954debaea524e7ef6346e4",
        "IPY_MODEL_1843073768394c7888e79a038cb5da17"
       ],
       "layout": "IPY_MODEL_81beaebade724dbbb3f5563ffa122e43"
      }
     },
     "5a421698b1a048eeb560022f33898ec9": {
      "model_module": "@jupyter-widgets/base",
      "model_module_version": "1.1.0",
      "model_name": "LayoutModel",
      "state": {}
     },
     "5a827f55a0f142fd908a75f30c585cfa": {
      "model_module": "@jupyter-widgets/controls",
      "model_module_version": "1.3.0",
      "model_name": "DescriptionStyleModel",
      "state": {
       "description_width": ""
      }
     },
     "5acf87fdb96a4cd6bb4e8a0521f0644b": {
      "model_module": "@jupyter-widgets/base",
      "model_module_version": "1.1.0",
      "model_name": "LayoutModel",
      "state": {}
     },
     "5b0c5aee314246d8972349696cff9b4c": {
      "model_module": "@jupyter-widgets/controls",
      "model_module_version": "1.3.0",
      "model_name": "FloatTextModel",
      "state": {
       "layout": "IPY_MODEL_d0ba51d5a8c94d3ca18d28b57bfb2a8f",
       "step": 1,
       "style": "IPY_MODEL_a21d431a54b74ce4bdbb5a0ba94e025b"
      }
     },
     "5b4cb09d8c2c49738e5e258ddf2372eb": {
      "model_module": "@jupyter-widgets/base",
      "model_module_version": "1.1.0",
      "model_name": "LayoutModel",
      "state": {}
     },
     "5b56a1b2b84449789447b61dfe076d59": {
      "model_module": "@jupyter-widgets/controls",
      "model_module_version": "1.3.0",
      "model_name": "DescriptionStyleModel",
      "state": {
       "description_width": ""
      }
     },
     "5b8a4191aca442c0abad5d5330765868": {
      "model_module": "@jupyter-widgets/controls",
      "model_module_version": "1.3.0",
      "model_name": "DescriptionStyleModel",
      "state": {
       "description_width": "0px"
      }
     },
     "5bd1134c1e8f4a09b07d5f7f83feb88b": {
      "model_module": "@jupyter-widgets/controls",
      "model_module_version": "1.3.0",
      "model_name": "CheckboxModel",
      "state": {
       "disabled": false,
       "layout": "IPY_MODEL_89ab110d459b41f9814e334efe87a5c8",
       "style": "IPY_MODEL_914aaeb2e5494d01957f290ed3835bdc",
       "value": false
      }
     },
     "5c3acc02de4647f292120289da2f4e0e": {
      "model_module": "@jupyter-widgets/controls",
      "model_module_version": "1.3.0",
      "model_name": "DescriptionStyleModel",
      "state": {
       "description_width": ""
      }
     },
     "5dbc9ae8808447d7ba059e16d8f814ba": {
      "model_module": "@jupyter-widgets/controls",
      "model_module_version": "1.3.0",
      "model_name": "DescriptionStyleModel",
      "state": {
       "description_width": "50px"
      }
     },
     "5dd03051ed9a46acb4dfd0ffea7529e8": {
      "model_module": "@jupyter-widgets/controls",
      "model_module_version": "1.3.0",
      "model_name": "DescriptionStyleModel",
      "state": {
       "description_width": "0px"
      }
     },
     "5ebb7d9cc2c84847a77cfd8167e68519": {
      "model_module": "@jupyter-widgets/controls",
      "model_module_version": "1.3.0",
      "model_name": "HBoxModel",
      "state": {
       "children": [
        "IPY_MODEL_d2a40d4a3ad04ce4b1100ddd0d97d2bc",
        "IPY_MODEL_028865a5d4874921bc7717a34c47e844",
        "IPY_MODEL_0f331bd2a6fd44e08fcda2228840a3a3"
       ],
       "layout": "IPY_MODEL_cbe3a480fb2d4227adc5e285ea16b6f8"
      }
     },
     "5ec751177cc744368f27cd41608e95e5": {
      "model_module": "@jupyter-widgets/controls",
      "model_module_version": "1.3.0",
      "model_name": "DescriptionStyleModel",
      "state": {
       "description_width": "0px"
      }
     },
     "5f125e99af4a4dbb87540d38536d7f35": {
      "model_module": "@jupyter-widgets/controls",
      "model_module_version": "1.3.0",
      "model_name": "CheckboxModel",
      "state": {
       "disabled": false,
       "layout": "IPY_MODEL_f49f9cbe156a47039381a8e76eadfd20",
       "style": "IPY_MODEL_e896e06001464f1e941fdd15b06de0e2",
       "value": false
      }
     },
     "5f5ab38f0e254954969b108d0e74c26c": {
      "model_module": "@jupyter-widgets/controls",
      "model_module_version": "1.3.0",
      "model_name": "HBoxModel",
      "state": {
       "children": [
        "IPY_MODEL_1dc45fc22e6a4c38bbeaa35a31672308",
        "IPY_MODEL_bf713a95570e4b6ba320d91cad25bef5",
        "IPY_MODEL_76a17bb0cf714c1fb4570f5366933fa6",
        "IPY_MODEL_724061d14ca247449ee717938ddc7fc8"
       ],
       "layout": "IPY_MODEL_4521281c7d634a359a87815841620599"
      }
     },
     "5fac848fcd9a47059f6cff59a67c7992": {
      "model_module": "@jupyter-widgets/controls",
      "model_module_version": "1.3.0",
      "model_name": "DescriptionStyleModel",
      "state": {
       "description_width": "0px"
      }
     },
     "5fbf2fb9abd2479f95a5059941732f57": {
      "model_module": "@jupyter-widgets/base",
      "model_module_version": "1.1.0",
      "model_name": "LayoutModel",
      "state": {}
     },
     "5ff63e8818284585abbdcb449f329fd5": {
      "model_module": "@jupyter-widgets/controls",
      "model_module_version": "1.3.0",
      "model_name": "VBoxModel",
      "state": {
       "children": [
        "IPY_MODEL_a42f38a31d5e420cb2e46f411e318fb4",
        "IPY_MODEL_653830edd9db49608a04916eab64dadd",
        "IPY_MODEL_4d153c12d061491fa03fcd8881e14cc4"
       ],
       "layout": "IPY_MODEL_93620fc79f344203be7d0f1edad15e85"
      }
     },
     "609ecd30e46649dd80dae51bfbc8ca7c": {
      "model_module": "@jupyter-widgets/base",
      "model_module_version": "1.1.0",
      "model_name": "LayoutModel",
      "state": {}
     },
     "60ef9ad4e70340d582073ebf19d2af03": {
      "model_module": "@jupyter-widgets/controls",
      "model_module_version": "1.3.0",
      "model_name": "DescriptionStyleModel",
      "state": {
       "description_width": ""
      }
     },
     "614358fbb03e43d9aca669167fcceeb3": {
      "model_module": "@jupyter-widgets/controls",
      "model_module_version": "1.3.0",
      "model_name": "FloatTextModel",
      "state": {
       "layout": "IPY_MODEL_1f89ad33e84b4e7a9f77e69d94e254e2",
       "step": 0.01,
       "style": "IPY_MODEL_8e6e7b215b9d49df8a8406fad52ce3d0"
      }
     },
     "615f1a0e78d942be80b807ebaaf9dfc9": {
      "model_module": "@jupyter-widgets/controls",
      "model_module_version": "1.3.0",
      "model_name": "DescriptionStyleModel",
      "state": {
       "description_width": ""
      }
     },
     "61afa1872a7f4268937a3f8302633db9": {
      "model_module": "@jupyter-widgets/controls",
      "model_module_version": "1.3.0",
      "model_name": "HBoxModel",
      "state": {
       "children": [
        "IPY_MODEL_d2a40d4a3ad04ce4b1100ddd0d97d2bc",
        "IPY_MODEL_028865a5d4874921bc7717a34c47e844",
        "IPY_MODEL_0f331bd2a6fd44e08fcda2228840a3a3"
       ],
       "layout": "IPY_MODEL_66e3c0a9e6d34c378bc32959f60f8deb"
      }
     },
     "63016d5be2ae4e0da1e04f96ec5123b1": {
      "model_module": "@jupyter-widgets/controls",
      "model_module_version": "1.3.0",
      "model_name": "FloatTextModel",
      "state": {
       "layout": "IPY_MODEL_67713ac2ba714d009f05c5572b1901a9",
       "step": 0.01,
       "style": "IPY_MODEL_adfd97bed234404ba94a3b9f645f9397"
      }
     },
     "635a06ec1d14447aac4512063e47284c": {
      "model_module": "@jupyter-widgets/controls",
      "model_module_version": "1.3.0",
      "model_name": "DescriptionStyleModel",
      "state": {
       "description_width": "0px"
      }
     },
     "6391a30e388c4d489c451a7dbf75d827": {
      "model_module": "@jupyter-widgets/controls",
      "model_module_version": "1.3.0",
      "model_name": "CheckboxModel",
      "state": {
       "disabled": false,
       "layout": "IPY_MODEL_ab47906ab9224fc6a7bac8e21dc2a9da",
       "style": "IPY_MODEL_1731e98f60a54cb2b9735bfc65fc774e",
       "value": false
      }
     },
     "63c18b5a04274b8790dd609635ee7036": {
      "model_module": "@jupyter-widgets/controls",
      "model_module_version": "1.3.0",
      "model_name": "DescriptionStyleModel",
      "state": {
       "description_width": "0px"
      }
     },
     "64bda1bda92645aba7ea8f913d2d8fd6": {
      "model_module": "@jupyter-widgets/controls",
      "model_module_version": "1.3.0",
      "model_name": "HBoxModel",
      "state": {
       "children": [
        "IPY_MODEL_2bfabd2b2af54cbea63c3a07fe4e1629",
        "IPY_MODEL_0f5f94eecbc847ea9a9f7ef7bf9c51df",
        "IPY_MODEL_ed77249f0fd0467ab7cee2915123d8a2",
        "IPY_MODEL_19f8871d7b31413fa8a311582bcfcf2b"
       ],
       "layout": "IPY_MODEL_e7c60e161e454fb288c0fb5414cc716e"
      }
     },
     "64c800678c90411eaecae4d33ed7cd83": {
      "model_module": "@jupyter-widgets/controls",
      "model_module_version": "1.3.0",
      "model_name": "DescriptionStyleModel",
      "state": {
       "description_width": ""
      }
     },
     "651067ba344c472f801fde36c6d04899": {
      "model_module": "@jupyter-widgets/controls",
      "model_module_version": "1.3.0",
      "model_name": "FloatTextModel",
      "state": {
       "layout": "IPY_MODEL_109570ab6966479596479f8307b19a7a",
       "step": 0.01,
       "style": "IPY_MODEL_9ebd1a3fa4e3401a820e00eab23a5238",
       "value": 0.1
      }
     },
     "6514c7975a1a46d3adeb88518f332cda": {
      "model_module": "@jupyter-widgets/controls",
      "model_module_version": "1.3.0",
      "model_name": "FloatTextModel",
      "state": {
       "layout": "IPY_MODEL_8ad41b7998914ec7992a7d917778c692",
       "step": 0.01,
       "style": "IPY_MODEL_d65ca2b9ef5642a385758f0f1d733093"
      }
     },
     "653830edd9db49608a04916eab64dadd": {
      "model_module": "@jupyter-widgets/controls",
      "model_module_version": "1.3.0",
      "model_name": "RadioButtonsModel",
      "state": {
       "_options_labels": [
        "Yes",
        "No"
       ],
       "description": "use dataset weights?",
       "index": 0,
       "layout": "IPY_MODEL_a7afa1b3e6934335abda808115ae7217",
       "style": "IPY_MODEL_4f6f750aed4747b98d73d483b8543208"
      }
     },
     "6542e0bf6aa54e518b901cf711d05ad6": {
      "model_module": "@jupyter-widgets/controls",
      "model_module_version": "1.3.0",
      "model_name": "FloatTextModel",
      "state": {
       "layout": "IPY_MODEL_6fe2592a708944988baa84b19e89ed73",
       "step": 0.01,
       "style": "IPY_MODEL_49b61fc989f5437694a68bad8e40f2a5"
      }
     },
     "657497588a3f4a28afcf85da263d080c": {
      "model_module": "@jupyter-widgets/controls",
      "model_module_version": "1.3.0",
      "model_name": "HTMLModel",
      "state": {
       "layout": "IPY_MODEL_93086774713545e3b29dc4d93e6f115b",
       "style": "IPY_MODEL_d1701d761f744e63a420b42aa21d5e5f",
       "value": "thick"
      }
     },
     "65efe50ddadc4256b7bfd92b00e9d588": {
      "model_module": "@jupyter-widgets/base",
      "model_module_version": "1.1.0",
      "model_name": "LayoutModel",
      "state": {}
     },
     "664d8d7e36554f6fa35fd4e2d79dfc61": {
      "model_module": "@jupyter-widgets/controls",
      "model_module_version": "1.3.0",
      "model_name": "DescriptionStyleModel",
      "state": {
       "description_width": "0px"
      }
     },
     "66e18297c3b144c1bd6ba2019d954b6e": {
      "model_module": "@jupyter-widgets/controls",
      "model_module_version": "1.3.0",
      "model_name": "HBoxModel",
      "state": {
       "children": [
        "IPY_MODEL_b70a01c4fedd4f50a34eddd67abb9815",
        "IPY_MODEL_7d030a33e8f249a897bc3d5a236365ab",
        "IPY_MODEL_2b4298c4a5cd469a9c2e94ddad19524c",
        "IPY_MODEL_17ac965c68a340669b502745108a0b09",
        "IPY_MODEL_c4a91dd97a384a219d2245b05f2dcad1",
        "IPY_MODEL_70e16605b55f430392eb2df2de98a9a9",
        "IPY_MODEL_18f23f1cb35b499c99065543040ea229",
        "IPY_MODEL_e634ceef09ea4fcbb2bc639be734a691"
       ],
       "layout": "IPY_MODEL_47a2f16be414439bbe0dbc37123567ef"
      }
     },
     "66e3c0a9e6d34c378bc32959f60f8deb": {
      "model_module": "@jupyter-widgets/base",
      "model_module_version": "1.1.0",
      "model_name": "LayoutModel",
      "state": {}
     },
     "673330ac08f740b2820f16478099b39b": {
      "model_module": "@jupyter-widgets/base",
      "model_module_version": "1.1.0",
      "model_name": "LayoutModel",
      "state": {}
     },
     "67713ac2ba714d009f05c5572b1901a9": {
      "model_module": "@jupyter-widgets/base",
      "model_module_version": "1.1.0",
      "model_name": "LayoutModel",
      "state": {}
     },
     "67838f4fef604b70a98af4ef31fc6332": {
      "model_module": "@jupyter-widgets/controls",
      "model_module_version": "1.3.0",
      "model_name": "DescriptionStyleModel",
      "state": {
       "description_width": ""
      }
     },
     "67cb7030ac874066995bce7ed91557c2": {
      "model_module": "@jupyter-widgets/base",
      "model_module_version": "1.1.0",
      "model_name": "LayoutModel",
      "state": {}
     },
     "6824e7f4597d404aa3f60aecdf095703": {
      "model_module": "@jupyter-widgets/controls",
      "model_module_version": "1.3.0",
      "model_name": "VBoxModel",
      "state": {
       "children": [
        "IPY_MODEL_7c45ee253e9448948510f260e39c1c8b",
        "IPY_MODEL_b19f0bbef3fe4622b9df01e02ad91f82",
        "IPY_MODEL_f324763622a44006aba263516bec3b66",
        "IPY_MODEL_14f78c3312a048e6854bec6960dda71d"
       ],
       "layout": "IPY_MODEL_80a5a03b38bf47578b4c4cd5db37c98a"
      }
     },
     "6866876e5dce4e69bf26d19b4e4fbd3e": {
      "model_module": "@jupyter-widgets/controls",
      "model_module_version": "1.3.0",
      "model_name": "DescriptionStyleModel",
      "state": {
       "description_width": ""
      }
     },
     "68cd2a755d234eae9c809809189148c0": {
      "model_module": "@jupyter-widgets/controls",
      "model_module_version": "1.3.0",
      "model_name": "FloatTextModel",
      "state": {
       "layout": "IPY_MODEL_ab428c01337448cab354b53f7ca8ed51",
       "step": 0.01,
       "style": "IPY_MODEL_2bb757a92f35427cace6ee18091bb8e1"
      }
     },
     "68d95e4155914377bd9d02f950c70810": {
      "model_module": "@jupyter-widgets/base",
      "model_module_version": "1.1.0",
      "model_name": "LayoutModel",
      "state": {}
     },
     "695867caa1cd408f9d91cac557977140": {
      "model_module": "@jupyter-widgets/base",
      "model_module_version": "1.1.0",
      "model_name": "LayoutModel",
      "state": {}
     },
     "695f744bf19f43cb814a50d11a1b6a80": {
      "model_module": "@jupyter-widgets/controls",
      "model_module_version": "1.3.0",
      "model_name": "DescriptionStyleModel",
      "state": {
       "description_width": ""
      }
     },
     "6ab9243467514d67b47ad3ca44dcd5b2": {
      "model_module": "@jupyter-widgets/controls",
      "model_module_version": "1.3.0",
      "model_name": "FloatTextModel",
      "state": {
       "layout": "IPY_MODEL_4ec6a248cb3f4e789acc47f67ca92633",
       "step": 1,
       "style": "IPY_MODEL_b2951d9ac5244912924cc112341201b5"
      }
     },
     "6bd5a83313e141ecaf522a76da5839a3": {
      "model_module": "@jupyter-widgets/controls",
      "model_module_version": "1.3.0",
      "model_name": "DescriptionStyleModel",
      "state": {
       "description_width": ""
      }
     },
     "6bf996875e9f4ad48bc320759cfb8250": {
      "model_module": "@jupyter-widgets/controls",
      "model_module_version": "1.3.0",
      "model_name": "DescriptionStyleModel",
      "state": {
       "description_width": ""
      }
     },
     "6ca08b47eb98490ca260476b5451856f": {
      "model_module": "@jupyter-widgets/controls",
      "model_module_version": "1.3.0",
      "model_name": "DescriptionStyleModel",
      "state": {
       "description_width": ""
      }
     },
     "6cf30fc681164c4cae6e846e88b36609": {
      "model_module": "@jupyter-widgets/base",
      "model_module_version": "1.1.0",
      "model_name": "LayoutModel",
      "state": {}
     },
     "6d8f87c1c8c54d708953e601e4e1245a": {
      "model_module": "@jupyter-widgets/controls",
      "model_module_version": "1.3.0",
      "model_name": "DescriptionStyleModel",
      "state": {
       "description_width": "0px"
      }
     },
     "6da9d76cb23a415f88cafcd8eb71c1df": {
      "model_module": "@jupyter-widgets/controls",
      "model_module_version": "1.3.0",
      "model_name": "FloatTextModel",
      "state": {
       "layout": "IPY_MODEL_561d128f3f5f46039e77b4b7de51bac4",
       "step": 0.01,
       "style": "IPY_MODEL_3060a69cd7a647a29ce6cb0ddf857b94",
       "value": 6.94
      }
     },
     "6dae88f6391b4ba18763948d90bb06fa": {
      "model_module": "@jupyter-widgets/controls",
      "model_module_version": "1.3.0",
      "model_name": "DescriptionStyleModel",
      "state": {
       "description_width": "0px"
      }
     },
     "6deefd0a632a4683b4534d7d39d25769": {
      "model_module": "@jupyter-widgets/base",
      "model_module_version": "1.1.0",
      "model_name": "LayoutModel",
      "state": {}
     },
     "6e0a75a85fa948dfb6a5f82c5a4b062b": {
      "model_module": "@jupyter-widgets/controls",
      "model_module_version": "1.3.0",
      "model_name": "FloatTextModel",
      "state": {
       "layout": "IPY_MODEL_1e4e579be108457db753ec2a3036ba86",
       "step": 0.01,
       "style": "IPY_MODEL_4ba0502d68ea412db945275ebe3b3e9e",
       "value": 0.1
      }
     },
     "6e54173f16ac41f39414adc98892976d": {
      "model_module": "@jupyter-widgets/base",
      "model_module_version": "1.1.0",
      "model_name": "LayoutModel",
      "state": {}
     },
     "6e5a5cd79c6b4a6b83a0878f3763a878": {
      "model_module": "@jupyter-widgets/base",
      "model_module_version": "1.1.0",
      "model_name": "LayoutModel",
      "state": {}
     },
     "6efda5a3d4fb4e2fa5e45b6e03e6b932": {
      "model_module": "@jupyter-widgets/base",
      "model_module_version": "1.1.0",
      "model_name": "LayoutModel",
      "state": {}
     },
     "6fd4f24448e344c1a4a72cd5a1f06c93": {
      "model_module": "@jupyter-widgets/base",
      "model_module_version": "1.1.0",
      "model_name": "LayoutModel",
      "state": {}
     },
     "6fe2592a708944988baa84b19e89ed73": {
      "model_module": "@jupyter-widgets/base",
      "model_module_version": "1.1.0",
      "model_name": "LayoutModel",
      "state": {}
     },
     "70471b4daff64603b2614d529404b20b": {
      "model_module": "@jupyter-widgets/controls",
      "model_module_version": "1.3.0",
      "model_name": "FloatTextModel",
      "state": {
       "layout": "IPY_MODEL_4cdd1b299f0a4f07b140458fdcc020ba",
       "step": 0.01,
       "style": "IPY_MODEL_459dea58f0a84ce1a57481b9d24ee143"
      }
     },
     "7050c02fbac8403e82336ca1884eb6c6": {
      "model_module": "@jupyter-widgets/controls",
      "model_module_version": "1.3.0",
      "model_name": "HBoxModel",
      "state": {
       "children": [
        "IPY_MODEL_a89f9716760f4a2f9cb745df2d0b3aa9",
        "IPY_MODEL_ee52a65860ae48b4ae4e2d6171681761",
        "IPY_MODEL_76bf9b193fda43b08869104df4b7174e",
        "IPY_MODEL_2edbf761e42a4e33ab8afce7921ffbbb",
        "IPY_MODEL_edaf00249c464344b67446be9149443e",
        "IPY_MODEL_810d7d4f666546268ac91799ec8b24d0",
        "IPY_MODEL_e2ccb9cbcd0c48569aa917b0e708afcc",
        "IPY_MODEL_965699a2e7c24bcebada82d4cfccf90b"
       ],
       "layout": "IPY_MODEL_145fafd908574028ac627bcaa071d61d"
      }
     },
     "7080252e96ea44e89aa967436f8f26db": {
      "model_module": "@jupyter-widgets/controls",
      "model_module_version": "1.3.0",
      "model_name": "DescriptionStyleModel",
      "state": {
       "description_width": "0px"
      }
     },
     "70e16605b55f430392eb2df2de98a9a9": {
      "model_module": "@jupyter-widgets/controls",
      "model_module_version": "1.3.0",
      "model_name": "CheckboxModel",
      "state": {
       "disabled": false,
       "layout": "IPY_MODEL_db69f5293e334a6d9f7053041ef30890",
       "style": "IPY_MODEL_35b8966a3f6c4a49956ab218d2facd89",
       "value": false
      }
     },
     "712955ed0b584075850ab2b79954f3de": {
      "model_module": "@jupyter-widgets/controls",
      "model_module_version": "1.3.0",
      "model_name": "HBoxModel",
      "state": {
       "children": [
        "IPY_MODEL_f06281a484294ccab8fbaf88d4714e99",
        "IPY_MODEL_126881b77f0349359b03715e0f363ce8"
       ],
       "layout": "IPY_MODEL_ab19695f408c4e1b8af0e84b728159d6"
      }
     },
     "714b4dad5886432a81ed49b9e18b7554": {
      "model_module": "@jupyter-widgets/controls",
      "model_module_version": "1.3.0",
      "model_name": "DescriptionStyleModel",
      "state": {
       "description_width": ""
      }
     },
     "71779898eb9c435786829844974bfde6": {
      "model_module": "@jupyter-widgets/base",
      "model_module_version": "1.1.0",
      "model_name": "LayoutModel",
      "state": {}
     },
     "717feb136ef64e5e88219e199879f92a": {
      "model_module": "@jupyter-widgets/base",
      "model_module_version": "1.1.0",
      "model_name": "LayoutModel",
      "state": {
       "flex": "1 1 auto",
       "width": "auto"
      }
     },
     "71ac49887912441888b7e73f7741fe5d": {
      "model_module": "@jupyter-widgets/controls",
      "model_module_version": "1.3.0",
      "model_name": "ButtonModel",
      "state": {
       "description": "To code",
       "layout": "IPY_MODEL_03cde78b2506422f9ed88f40d095a7c1",
       "style": "IPY_MODEL_b7a6dcab2bb5462c961999c12a8e6ed3"
      }
     },
     "71d2c36dc180417787a0df10e6124aba": {
      "model_module": "@jupyter-widgets/controls",
      "model_module_version": "1.3.0",
      "model_name": "FloatTextModel",
      "state": {
       "layout": "IPY_MODEL_74665f4a9ef7453fb7fd36352785b634",
       "step": 0.01,
       "style": "IPY_MODEL_ff1101f3ec1d43478fdb85bf1b1b41db",
       "value": 4.14
      }
     },
     "71f2e4d4d6f140dfab1724c2e9bbc4f5": {
      "model_module": "@jupyter-widgets/base",
      "model_module_version": "1.1.0",
      "model_name": "LayoutModel",
      "state": {}
     },
     "722adef51798449b8f3e049b197a5bab": {
      "model_module": "@jupyter-widgets/base",
      "model_module_version": "1.1.0",
      "model_name": "LayoutModel",
      "state": {}
     },
     "724061d14ca247449ee717938ddc7fc8": {
      "model_module": "@jupyter-widgets/controls",
      "model_module_version": "1.3.0",
      "model_name": "HTMLModel",
      "state": {
       "layout": "IPY_MODEL_1b7bb72bd1504e0c9edbed0da312b1e4",
       "style": "IPY_MODEL_615f1a0e78d942be80b807ebaaf9dfc9",
       "value": "rough"
      }
     },
     "727f364cdd0d404e9a69bcfdc4a98e23": {
      "model_module": "@jupyter-widgets/base",
      "model_module_version": "1.1.0",
      "model_name": "LayoutModel",
      "state": {}
     },
     "7306c37122e44bb89a4156267e2148bc": {
      "model_module": "@jupyter-widgets/controls",
      "model_module_version": "1.3.0",
      "model_name": "DescriptionStyleModel",
      "state": {
       "description_width": ""
      }
     },
     "73203486acd04c67a5d338d3b2839ee6": {
      "model_module": "@jupyter-widgets/base",
      "model_module_version": "1.1.0",
      "model_name": "LayoutModel",
      "state": {}
     },
     "73e3252333264b37b3f5fdfa65cef79e": {
      "model_module": "@jupyter-widgets/base",
      "model_module_version": "1.1.0",
      "model_name": "LayoutModel",
      "state": {}
     },
     "740c068ddc9c4d1baf159683efbba3a8": {
      "model_module": "@jupyter-widgets/controls",
      "model_module_version": "1.3.0",
      "model_name": "DescriptionStyleModel",
      "state": {
       "description_width": "0px"
      }
     },
     "74150610318b47c0922f014ee83d364a": {
      "model_module": "@jupyter-widgets/controls",
      "model_module_version": "1.3.0",
      "model_name": "BoundedFloatTextModel",
      "state": {
       "layout": "IPY_MODEL_5695117dae7b4c9a8b109250e2d19606",
       "max": 20,
       "style": "IPY_MODEL_1d40dfa793374677bed0c0515e7165e7"
      }
     },
     "74665f4a9ef7453fb7fd36352785b634": {
      "model_module": "@jupyter-widgets/base",
      "model_module_version": "1.1.0",
      "model_name": "LayoutModel",
      "state": {}
     },
     "74e91a3de8044fd6909e3d5d55e31af0": {
      "model_module": "@jupyter-widgets/controls",
      "model_module_version": "1.3.0",
      "model_name": "DescriptionStyleModel",
      "state": {
       "description_width": ""
      }
     },
     "750b2b8c76c241f0b361a2bd953625b1": {
      "model_module": "@jupyter-widgets/base",
      "model_module_version": "1.1.0",
      "model_name": "LayoutModel",
      "state": {}
     },
     "761810844e8d4ef99bbfff8a12a286f8": {
      "model_module": "@jupyter-widgets/base",
      "model_module_version": "1.1.0",
      "model_name": "LayoutModel",
      "state": {}
     },
     "766e510a97d747d6a87b73ae84621800": {
      "model_module": "@jupyter-widgets/controls",
      "model_module_version": "1.3.0",
      "model_name": "CheckboxModel",
      "state": {
       "disabled": false,
       "layout": "IPY_MODEL_695867caa1cd408f9d91cac557977140",
       "style": "IPY_MODEL_901ae58466ab41f196a59625864b17cd",
       "value": false
      }
     },
     "76a17bb0cf714c1fb4570f5366933fa6": {
      "model_module": "@jupyter-widgets/controls",
      "model_module_version": "1.3.0",
      "model_name": "HTMLModel",
      "state": {
       "layout": "IPY_MODEL_1b7bb72bd1504e0c9edbed0da312b1e4",
       "style": "IPY_MODEL_60ef9ad4e70340d582073ebf19d2af03",
       "value": "isld"
      }
     },
     "76bf9b193fda43b08869104df4b7174e": {
      "model_module": "@jupyter-widgets/controls",
      "model_module_version": "1.3.0",
      "model_name": "FloatTextModel",
      "state": {
       "layout": "IPY_MODEL_2fc79b4b9e514865b349d3af605cf77c",
       "step": 0.01,
       "style": "IPY_MODEL_37f11698a36d462a9542cdeb81e18b21",
       "value": 3.47
      }
     },
     "772c7ddd53164d08ab457ebd36109b97": {
      "model_module": "@jupyter-widgets/controls",
      "model_module_version": "1.3.0",
      "model_name": "FloatTextModel",
      "state": {
       "layout": "IPY_MODEL_722adef51798449b8f3e049b197a5bab",
       "step": 0.01,
       "style": "IPY_MODEL_eae11e7e828149638799d573405338a7"
      }
     },
     "7760a3a3a6464c5da5023ec500be7008": {
      "model_module": "@jupyter-widgets/base",
      "model_module_version": "1.1.0",
      "model_name": "LayoutModel",
      "state": {}
     },
     "77a10a9d46ab42628057abb4ce5d204f": {
      "model_module": "@jupyter-widgets/controls",
      "model_module_version": "1.3.0",
      "model_name": "RadioButtonsModel",
      "state": {
       "_options_labels": [
        "Yes",
        "No"
       ],
       "description": "use dataset weights?",
       "index": 0,
       "layout": "IPY_MODEL_71779898eb9c435786829844974bfde6",
       "style": "IPY_MODEL_8cd76323b4374d2e83c3f3f2cfad9c9b"
      }
     },
     "77a897c1c85f454fbc57c367b147432d": {
      "model_module": "@jupyter-widgets/controls",
      "model_module_version": "1.3.0",
      "model_name": "FloatTextModel",
      "state": {
       "layout": "IPY_MODEL_ebef82aff3b94b599e7e4bacf1d09fff",
       "step": 1,
       "style": "IPY_MODEL_8d8288334aa04b0fa792ab9977023847",
       "value": 3
      }
     },
     "77d797effc3c43c89e32367758c39889": {
      "model_module": "@jupyter-widgets/controls",
      "model_module_version": "1.3.0",
      "model_name": "CheckboxModel",
      "state": {
       "disabled": false,
       "layout": "IPY_MODEL_3dde60bdf33143ccbf7b6db04bb8623c",
       "style": "IPY_MODEL_c74c27e119e2478e80e474dd4189e5da",
       "value": false
      }
     },
     "77e288442eb7476ab20e5ea91ce4f26a": {
      "model_module": "@jupyter-widgets/controls",
      "model_module_version": "1.3.0",
      "model_name": "DescriptionStyleModel",
      "state": {
       "description_width": ""
      }
     },
     "7886bd772cf34b6186f9505944a8781a": {
      "model_module": "@jupyter-widgets/base",
      "model_module_version": "1.1.0",
      "model_name": "LayoutModel",
      "state": {}
     },
     "792fb812a9b241508d5a5c8956ef3ee7": {
      "model_module": "@jupyter-widgets/controls",
      "model_module_version": "1.3.0",
      "model_name": "DescriptionStyleModel",
      "state": {
       "description_width": ""
      }
     },
     "7982dd214e4648eab46420b5691dcd80": {
      "model_module": "@jupyter-widgets/base",
      "model_module_version": "1.1.0",
      "model_name": "LayoutModel",
      "state": {}
     },
     "79de8814344546d3982e85c4a5ba8696": {
      "model_module": "@jupyter-widgets/base",
      "model_module_version": "1.1.0",
      "model_name": "LayoutModel",
      "state": {}
     },
     "7a14f9433ff944f4a1204940719e66ab": {
      "model_module": "@jupyter-widgets/base",
      "model_module_version": "1.1.0",
      "model_name": "LayoutModel",
      "state": {}
     },
     "7a403bfca87a4aa481f865eee7265035": {
      "model_module": "@jupyter-widgets/controls",
      "model_module_version": "1.3.0",
      "model_name": "DescriptionStyleModel",
      "state": {
       "description_width": "0px"
      }
     },
     "7a525ee286a542749e20a23f627b059e": {
      "model_module": "@jupyter-widgets/base",
      "model_module_version": "1.1.0",
      "model_name": "LayoutModel",
      "state": {}
     },
     "7a642b002adf4c229c9feaeac0c728ee": {
      "model_module": "@jupyter-widgets/controls",
      "model_module_version": "1.3.0",
      "model_name": "FloatTextModel",
      "state": {
       "description": "backing",
       "disabled": true,
       "layout": "IPY_MODEL_29df47e688b944328de658bfee02219c",
       "step": 1,
       "style": "IPY_MODEL_2caaf65fd10a42349ec67ff4eb41a22d"
      }
     },
     "7aecf105b715474ea2d8a1136f6f3f04": {
      "model_module": "@jupyter-widgets/controls",
      "model_module_version": "1.3.0",
      "model_name": "CheckboxModel",
      "state": {
       "disabled": false,
       "layout": "IPY_MODEL_e1d4864a2eca49df8d6881e781f721f8",
       "style": "IPY_MODEL_1836714cdc0949c3bc80a5a3c76fdf78",
       "value": false
      }
     },
     "7b84277734ba40d88e04f0ee5f207dbb": {
      "model_module": "@jupyter-widgets/base",
      "model_module_version": "1.1.0",
      "model_name": "LayoutModel",
      "state": {}
     },
     "7b963910bfd3495383e5d5ce2c79f659": {
      "model_module": "@jupyter-widgets/controls",
      "model_module_version": "1.3.0",
      "model_name": "DescriptionStyleModel",
      "state": {
       "description_width": ""
      }
     },
     "7c0db3efcb434051ae07892f03e9be82": {
      "model_module": "@jupyter-widgets/base",
      "model_module_version": "1.1.0",
      "model_name": "LayoutModel",
      "state": {}
     },
     "7c1864fffbf54961aa49f49fb7e43585": {
      "model_module": "@jupyter-widgets/controls",
      "model_module_version": "1.3.0",
      "model_name": "DescriptionStyleModel",
      "state": {
       "description_width": "0px"
      }
     },
     "7c45ee253e9448948510f260e39c1c8b": {
      "model_module": "@jupyter-widgets/controls",
      "model_module_version": "1.3.0",
      "model_name": "HBoxModel",
      "state": {
       "children": [
        "IPY_MODEL_657497588a3f4a28afcf85da263d080c",
        "IPY_MODEL_f5c88acbefe248c78fe798aab14d0d74",
        "IPY_MODEL_9858868a3b624454bb5969a1211455f5",
        "IPY_MODEL_31f7fd2ecfdc42c1b6e7c749f27297dc"
       ],
       "layout": "IPY_MODEL_841a691459494807b4c7d851470ea56f"
      }
     },
     "7cd691a17051416cb9914b7db603118d": {
      "model_module": "@jupyter-widgets/base",
      "model_module_version": "1.1.0",
      "model_name": "LayoutModel",
      "state": {}
     },
     "7d030a33e8f249a897bc3d5a236365ab": {
      "model_module": "@jupyter-widgets/controls",
      "model_module_version": "1.3.0",
      "model_name": "CheckboxModel",
      "state": {
       "disabled": true,
       "layout": "IPY_MODEL_bb1652ed70b044b68478bd7ff5641d5e",
       "style": "IPY_MODEL_160eae0a597e4e6ba5819fb9527daef6",
       "value": false
      }
     },
     "7d1351294fe54f6db3812495e9e08628": {
      "model_module": "@jupyter-widgets/controls",
      "model_module_version": "1.3.0",
      "model_name": "HTMLModel",
      "state": {
       "layout": "IPY_MODEL_0aa7f2d7ec5a4081b5462262b1a09000",
       "style": "IPY_MODEL_bf3e105585924c9fa28382bccfbcef2a",
       "value": "isld"
      }
     },
     "7d523aa5250447a3954f53944482f83b": {
      "model_module": "@jupyter-widgets/controls",
      "model_module_version": "1.3.0",
      "model_name": "CheckboxModel",
      "state": {
       "disabled": false,
       "layout": "IPY_MODEL_3fc7fe3cb86748389b4904eaccc7a1c8",
       "style": "IPY_MODEL_4a2907eb6a964405a3adcc06d70d497b",
       "value": false
      }
     },
     "7db4914fa4674a50b22897c3ed202b09": {
      "model_module": "@jupyter-widgets/base",
      "model_module_version": "1.1.0",
      "model_name": "LayoutModel",
      "state": {}
     },
     "7de3ae0103fb4b258f7caae341bda125": {
      "model_module": "@jupyter-widgets/base",
      "model_module_version": "1.1.0",
      "model_name": "LayoutModel",
      "state": {}
     },
     "7e2ee85433024b58be7c651c7fcf37e1": {
      "model_module": "@jupyter-widgets/controls",
      "model_module_version": "1.3.0",
      "model_name": "FloatTextModel",
      "state": {
       "layout": "IPY_MODEL_cbc40275bb224d7394fdd497b4e238ec",
       "step": 1,
       "style": "IPY_MODEL_b8d5ba15d59d4b538e052261ce88ccb3",
       "value": 50
      }
     },
     "7e3570b4013d48dfa6772d77bc5f9d28": {
      "model_module": "@jupyter-widgets/controls",
      "model_module_version": "1.3.0",
      "model_name": "DescriptionStyleModel",
      "state": {
       "description_width": "0px"
      }
     },
     "7f01cb7bb6dd4d8ba0be7d3fe5183c3f": {
      "model_module": "@jupyter-widgets/base",
      "model_module_version": "1.1.0",
      "model_name": "LayoutModel",
      "state": {}
     },
     "7f5e783aeebf44be900b3583d2b0f326": {
      "model_module": "@jupyter-widgets/controls",
      "model_module_version": "1.3.0",
      "model_name": "DescriptionStyleModel",
      "state": {
       "description_width": ""
      }
     },
     "7fa52f73b99f4d04baa9ef186dd03ffc": {
      "model_module": "@jupyter-widgets/controls",
      "model_module_version": "1.3.0",
      "model_name": "DescriptionStyleModel",
      "state": {
       "description_width": "0px"
      }
     },
     "803d0ed2a98a4128bb307b3fae254ad8": {
      "model_module": "@jupyter-widgets/controls",
      "model_module_version": "1.3.0",
      "model_name": "FloatTextModel",
      "state": {
       "layout": "IPY_MODEL_305aef88ac004132bf44abc702d3092a",
       "step": 1e-07,
       "style": "IPY_MODEL_c7545b8f8d324fcf9d878fd7ddac3a7f",
       "value": 2e-05
      }
     },
     "80a5a03b38bf47578b4c4cd5db37c98a": {
      "model_module": "@jupyter-widgets/base",
      "model_module_version": "1.1.0",
      "model_name": "LayoutModel",
      "state": {}
     },
     "810d7d4f666546268ac91799ec8b24d0": {
      "model_module": "@jupyter-widgets/controls",
      "model_module_version": "1.3.0",
      "model_name": "CheckboxModel",
      "state": {
       "disabled": false,
       "layout": "IPY_MODEL_a73057ab38b343438f5153bbbcfcb697",
       "style": "IPY_MODEL_7a403bfca87a4aa481f865eee7265035",
       "value": false
      }
     },
     "814aa3fc678c44828e5f92fe76e16404": {
      "model_module": "@jupyter-widgets/base",
      "model_module_version": "1.1.0",
      "model_name": "LayoutModel",
      "state": {}
     },
     "81a3f00886cb418c9811ec65a3cc7dc0": {
      "model_module": "@jupyter-widgets/controls",
      "model_module_version": "1.3.0",
      "model_name": "VBoxModel",
      "state": {
       "children": [
        "IPY_MODEL_1861b8e6c0a7435c8b4f5169d01ec5d8"
       ],
       "layout": "IPY_MODEL_6efda5a3d4fb4e2fa5e45b6e03e6b932"
      }
     },
     "81beaebade724dbbb3f5563ffa122e43": {
      "model_module": "@jupyter-widgets/base",
      "model_module_version": "1.1.0",
      "model_name": "LayoutModel",
      "state": {}
     },
     "81fe922b196e41bd9876ad3f14da4983": {
      "model_module": "@jupyter-widgets/base",
      "model_module_version": "1.1.0",
      "model_name": "LayoutModel",
      "state": {}
     },
     "820d4130488c4dcb918c4ed32f625dbd": {
      "model_module": "@jupyter-widgets/base",
      "model_module_version": "1.1.0",
      "model_name": "LayoutModel",
      "state": {}
     },
     "822a3cba657b4b9390305f3778219af5": {
      "model_module": "@jupyter-widgets/controls",
      "model_module_version": "1.3.0",
      "model_name": "FloatTextModel",
      "state": {
       "layout": "IPY_MODEL_73e3252333264b37b3f5fdfa65cef79e",
       "step": 1e-08,
       "style": "IPY_MODEL_6866876e5dce4e69bf26d19b4e4fbd3e",
       "value": 1e-08
      }
     },
     "82687fa264fe485e9a61d6b499c2301a": {
      "model_module": "@jupyter-widgets/base",
      "model_module_version": "1.1.0",
      "model_name": "LayoutModel",
      "state": {}
     },
     "8326b8419ab6466a8198f319d1975fe7": {
      "model_module": "@jupyter-widgets/controls",
      "model_module_version": "1.3.0",
      "model_name": "FloatTextModel",
      "state": {
       "layout": "IPY_MODEL_6fd4f24448e344c1a4a72cd5a1f06c93",
       "step": 1,
       "style": "IPY_MODEL_0cf8aa1d03c4462e8aeddf0a458fd442"
      }
     },
     "834c5bad903644b387214b18e16fadb2": {
      "model_module": "@jupyter-widgets/controls",
      "model_module_version": "1.3.0",
      "model_name": "DescriptionStyleModel",
      "state": {
       "description_width": ""
      }
     },
     "841a691459494807b4c7d851470ea56f": {
      "model_module": "@jupyter-widgets/base",
      "model_module_version": "1.1.0",
      "model_name": "LayoutModel",
      "state": {}
     },
     "8433e476ab6a4efd830f3e05c0fb69dd": {
      "model_module": "@jupyter-widgets/base",
      "model_module_version": "1.1.0",
      "model_name": "LayoutModel",
      "state": {}
     },
     "84346a750c4e48298bd3afa362f757ee": {
      "model_module": "@jupyter-widgets/base",
      "model_module_version": "1.1.0",
      "model_name": "LayoutModel",
      "state": {}
     },
     "8456f4bad07746feb944197ea48dc6c3": {
      "model_module": "@jupyter-widgets/base",
      "model_module_version": "1.1.0",
      "model_name": "LayoutModel",
      "state": {}
     },
     "85da861c9a4540808734a7e5d1345b6a": {
      "model_module": "@jupyter-widgets/base",
      "model_module_version": "1.1.0",
      "model_name": "LayoutModel",
      "state": {}
     },
     "8621ffc87dc94d9ebf47927116d66ed2": {
      "model_module": "@jupyter-widgets/controls",
      "model_module_version": "1.3.0",
      "model_name": "HTMLModel",
      "state": {
       "layout": "IPY_MODEL_717feb136ef64e5e88219e199879f92a",
       "style": "IPY_MODEL_e13d06bd729c4edab91a01fc133bce60",
       "value": "thick"
      }
     },
     "8641306bec3b459493823fca6463ac1d": {
      "model_module": "@jupyter-widgets/controls",
      "model_module_version": "1.3.0",
      "model_name": "HBoxModel",
      "state": {
       "children": [
        "IPY_MODEL_238468db4924404fbe72af71599547de",
        "IPY_MODEL_d3991872860e49568975c91fda480064"
       ],
       "layout": "IPY_MODEL_1e1ac246d20e4a94b01da2f69ed5d105"
      }
     },
     "86541fb61ff547ff8db379dfd9846c7a": {
      "model_module": "@jupyter-widgets/base",
      "model_module_version": "1.1.0",
      "model_name": "LayoutModel",
      "state": {}
     },
     "8707f6c979a94030bff93973f1c58d51": {
      "model_module": "@jupyter-widgets/base",
      "model_module_version": "1.1.0",
      "model_name": "LayoutModel",
      "state": {}
     },
     "87f0b39d6296445f88d51d159a34e29b": {
      "model_module": "@jupyter-widgets/controls",
      "model_module_version": "1.3.0",
      "model_name": "CheckboxModel",
      "state": {
       "disabled": false,
       "layout": "IPY_MODEL_282851c2f4cb411fb5a3a96c5edb78cd",
       "style": "IPY_MODEL_f3006c7a8f2a4ee7b710f1ed94efb791",
       "value": false
      }
     },
     "8803559e6a5f47fab41db2bee6768d0a": {
      "model_module": "@jupyter-widgets/controls",
      "model_module_version": "1.3.0",
      "model_name": "DescriptionStyleModel",
      "state": {
       "description_width": ""
      }
     },
     "8819fd193eb948179ca90b295e2cb61b": {
      "model_module": "@jupyter-widgets/base",
      "model_module_version": "1.1.0",
      "model_name": "LayoutModel",
      "state": {}
     },
     "881df6a3f929492bb46e95ffc82240b6": {
      "model_module": "@jupyter-widgets/controls",
      "model_module_version": "1.3.0",
      "model_name": "DescriptionStyleModel",
      "state": {
       "description_width": ""
      }
     },
     "88fd577fa7ec4e9ba570558369f6c773": {
      "model_module": "@jupyter-widgets/controls",
      "model_module_version": "1.3.0",
      "model_name": "FloatTextModel",
      "state": {
       "layout": "IPY_MODEL_9b4277c1bdf94e4d9411a1c798b75f95",
       "step": 0.01,
       "style": "IPY_MODEL_2a14f4c493004cba91ac74ab0e9f5d71"
      }
     },
     "88ff89eb3c574da9b2dfdd9579a8d140": {
      "model_module": "@jupyter-widgets/controls",
      "model_module_version": "1.3.0",
      "model_name": "CheckboxModel",
      "state": {
       "disabled": false,
       "layout": "IPY_MODEL_9b8a7c0e17ae4f1390aa25b57e2eaf1a",
       "style": "IPY_MODEL_a74d22261a40405a8777c4008279deb9",
       "value": false
      }
     },
     "891e04aebee849778c0292435325b630": {
      "model_module": "@jupyter-widgets/base",
      "model_module_version": "1.1.0",
      "model_name": "LayoutModel",
      "state": {}
     },
     "8994fa9fe01b47dcb9b7323a9f0672b5": {
      "model_module": "@jupyter-widgets/controls",
      "model_module_version": "1.3.0",
      "model_name": "DescriptionStyleModel",
      "state": {
       "description_width": ""
      }
     },
     "89ab110d459b41f9814e334efe87a5c8": {
      "model_module": "@jupyter-widgets/base",
      "model_module_version": "1.1.0",
      "model_name": "LayoutModel",
      "state": {}
     },
     "8a486bae2ac04d49b3ac0e8ec7d8bf5c": {
      "model_module": "@jupyter-widgets/controls",
      "model_module_version": "1.3.0",
      "model_name": "FloatTextModel",
      "state": {
       "layout": "IPY_MODEL_f06669bd09f34d0da26ebab5a14c031a",
       "step": 0.01,
       "style": "IPY_MODEL_293900ff3f014468a1b863007fc45f5f"
      }
     },
     "8a8da5ef17e443818147aed5efb39c9e": {
      "model_module": "@jupyter-widgets/controls",
      "model_module_version": "1.3.0",
      "model_name": "DescriptionStyleModel",
      "state": {
       "description_width": ""
      }
     },
     "8ac531f4468d4e4d92444a19167f4fe2": {
      "model_module": "@jupyter-widgets/base",
      "model_module_version": "1.1.0",
      "model_name": "LayoutModel",
      "state": {}
     },
     "8ad394678e9b4bd5a2f827c3b8b049af": {
      "model_module": "@jupyter-widgets/controls",
      "model_module_version": "1.3.0",
      "model_name": "FloatTextModel",
      "state": {
       "layout": "IPY_MODEL_02967db3fd294523901f83f30eda80fc",
       "step": 1,
       "style": "IPY_MODEL_77e288442eb7476ab20e5ea91ce4f26a"
      }
     },
     "8ad41b7998914ec7992a7d917778c692": {
      "model_module": "@jupyter-widgets/base",
      "model_module_version": "1.1.0",
      "model_name": "LayoutModel",
      "state": {}
     },
     "8b08d3ee08ca4ee6bef9440f8b39caf4": {
      "model_module": "@jupyter-widgets/controls",
      "model_module_version": "1.3.0",
      "model_name": "FloatTextModel",
      "state": {
       "layout": "IPY_MODEL_571b845371154b22aff28936ba3be38d",
       "step": 1,
       "style": "IPY_MODEL_e7540c6996b14a7288e598dc41f79a3c"
      }
     },
     "8b0aba54e5894d06876b678120cf0c95": {
      "model_module": "@jupyter-widgets/controls",
      "model_module_version": "1.3.0",
      "model_name": "FloatTextModel",
      "state": {
       "layout": "IPY_MODEL_fab5b73fc0944076b106e7e4549721f5",
       "step": 0.01,
       "style": "IPY_MODEL_6bf996875e9f4ad48bc320759cfb8250",
       "value": 4.14
      }
     },
     "8b1ea989402143f0a664775234096c81": {
      "model_module": "@jupyter-widgets/controls",
      "model_module_version": "1.3.0",
      "model_name": "DescriptionStyleModel",
      "state": {
       "description_width": "120px"
      }
     },
     "8c719f6043124c76accc5f91f4da2593": {
      "model_module": "@jupyter-widgets/base",
      "model_module_version": "1.1.0",
      "model_name": "LayoutModel",
      "state": {}
     },
     "8cd4091726ae4650960efd2ca40a8831": {
      "model_module": "@jupyter-widgets/controls",
      "model_module_version": "1.3.0",
      "model_name": "FloatTextModel",
      "state": {
       "layout": "IPY_MODEL_49307d5adf63429e99d6580744a2b635",
       "step": 0.01,
       "style": "IPY_MODEL_3495faefc8c34769a25daf0ecfef1588",
       "value": 6
      }
     },
     "8cd76323b4374d2e83c3f3f2cfad9c9b": {
      "model_module": "@jupyter-widgets/controls",
      "model_module_version": "1.3.0",
      "model_name": "DescriptionStyleModel",
      "state": {
       "description_width": "initial"
      }
     },
     "8d24c2d3e93d4786bb4395e83cefd9ea": {
      "model_module": "@jupyter-widgets/base",
      "model_module_version": "1.1.0",
      "model_name": "LayoutModel",
      "state": {}
     },
     "8d8288334aa04b0fa792ab9977023847": {
      "model_module": "@jupyter-widgets/controls",
      "model_module_version": "1.3.0",
      "model_name": "DescriptionStyleModel",
      "state": {
       "description_width": "0px"
      }
     },
     "8da1ce12c35245689b9d4293e87a276d": {
      "model_module": "@jupyter-widgets/base",
      "model_module_version": "1.1.0",
      "model_name": "LayoutModel",
      "state": {}
     },
     "8e07257da4e843b8a1a2b475db03bc44": {
      "model_module": "@jupyter-widgets/controls",
      "model_module_version": "1.3.0",
      "model_name": "TextModel",
      "state": {
       "description": "dataset:",
       "disabled": true,
       "layout": "IPY_MODEL_99661f50e06548b39b0d3a7a5ef1b1ff",
       "style": "IPY_MODEL_29017f39e557423d905b0c5af69043ef"
      }
     },
     "8e6e7b215b9d49df8a8406fad52ce3d0": {
      "model_module": "@jupyter-widgets/controls",
      "model_module_version": "1.3.0",
      "model_name": "DescriptionStyleModel",
      "state": {
       "description_width": ""
      }
     },
     "8eae3f59e1a0406bb7f6343c73841e6b": {
      "model_module": "@jupyter-widgets/base",
      "model_module_version": "1.1.0",
      "model_name": "LayoutModel",
      "state": {}
     },
     "8eb3b83752664032b39be6a0fdb305e8": {
      "model_module": "@jupyter-widgets/base",
      "model_module_version": "1.1.0",
      "model_name": "LayoutModel",
      "state": {
       "width": "10%"
      }
     },
     "8f157343d8de4265946b2bc4d7f33584": {
      "model_module": "@jupyter-widgets/controls",
      "model_module_version": "1.3.0",
      "model_name": "DescriptionStyleModel",
      "state": {
       "description_width": ""
      }
     },
     "8f178a1d3f7c425e8f405b32e49193be": {
      "model_module": "@jupyter-widgets/controls",
      "model_module_version": "1.3.0",
      "model_name": "FloatTextModel",
      "state": {
       "layout": "IPY_MODEL_d5dc468979b548d5b4b451bb8adb00a6",
       "step": 1,
       "style": "IPY_MODEL_881df6a3f929492bb46e95ffc82240b6"
      }
     },
     "901ae58466ab41f196a59625864b17cd": {
      "model_module": "@jupyter-widgets/controls",
      "model_module_version": "1.3.0",
      "model_name": "DescriptionStyleModel",
      "state": {
       "description_width": "0px"
      }
     },
     "905d751070dd4839863382aadcf14eb7": {
      "model_module": "@jupyter-widgets/controls",
      "model_module_version": "1.3.0",
      "model_name": "BoundedFloatTextModel",
      "state": {
       "layout": "IPY_MODEL_006f2d4571594aeca76a39f9287ada47",
       "max": 20,
       "style": "IPY_MODEL_3e276074f24a41bb9cf9a6d558f1ff9f",
       "value": 20
      }
     },
     "914935b1e844485ca428d459ca52057d": {
      "model_module": "@jupyter-widgets/controls",
      "model_module_version": "1.3.0",
      "model_name": "DescriptionStyleModel",
      "state": {
       "description_width": "0px"
      }
     },
     "914aaeb2e5494d01957f290ed3835bdc": {
      "model_module": "@jupyter-widgets/controls",
      "model_module_version": "1.3.0",
      "model_name": "DescriptionStyleModel",
      "state": {
       "description_width": "0px"
      }
     },
     "914c0e7e4f5841b4b6a734b7f0ab070f": {
      "model_module": "@jupyter-widgets/base",
      "model_module_version": "1.1.0",
      "model_name": "LayoutModel",
      "state": {}
     },
     "91c05eabc66f49f1afdd3f7b553c3424": {
      "model_module": "@jupyter-widgets/controls",
      "model_module_version": "1.3.0",
      "model_name": "DescriptionStyleModel",
      "state": {
       "description_width": "50px"
      }
     },
     "925cf67cbcd64b4494611124984c0060": {
      "model_module": "@jupyter-widgets/controls",
      "model_module_version": "1.3.0",
      "model_name": "ButtonStyleModel",
      "state": {}
     },
     "9271e1b2f4c04c83897e92c3ecc6e7e7": {
      "model_module": "@jupyter-widgets/controls",
      "model_module_version": "1.3.0",
      "model_name": "FloatTextModel",
      "state": {
       "layout": "IPY_MODEL_7de3ae0103fb4b258f7caae341bda125",
       "step": 0.01,
       "style": "IPY_MODEL_29fef9a97d294607acad74571a2581ca"
      }
     },
     "9283db28d09f4849b34bc28ed15adc1d": {
      "model_module": "@jupyter-widgets/controls",
      "model_module_version": "1.3.0",
      "model_name": "FloatTextModel",
      "state": {
       "layout": "IPY_MODEL_8da1ce12c35245689b9d4293e87a276d",
       "step": 0.01,
       "style": "IPY_MODEL_c018c69f54244eb7a257e7ea3ceafce3"
      }
     },
     "92bf048cbbc7470fb6f890f0b8f73167": {
      "model_module": "@jupyter-widgets/controls",
      "model_module_version": "1.3.0",
      "model_name": "DescriptionStyleModel",
      "state": {
       "description_width": ""
      }
     },
     "92da85aaf6624ebea0078227d0d133fe": {
      "model_module": "@jupyter-widgets/controls",
      "model_module_version": "1.3.0",
      "model_name": "DescriptionStyleModel",
      "state": {
       "description_width": "50px"
      }
     },
     "93086774713545e3b29dc4d93e6f115b": {
      "model_module": "@jupyter-widgets/base",
      "model_module_version": "1.1.0",
      "model_name": "LayoutModel",
      "state": {
       "flex": "1 1 auto",
       "width": "auto"
      }
     },
     "9317baa87d1641f4bdd2376050ca05dc": {
      "model_module": "@jupyter-widgets/base",
      "model_module_version": "1.1.0",
      "model_name": "LayoutModel",
      "state": {}
     },
     "932786eb40d74d29859f25478d025648": {
      "model_module": "@jupyter-widgets/controls",
      "model_module_version": "1.3.0",
      "model_name": "FloatTextModel",
      "state": {
       "layout": "IPY_MODEL_15158a866cd3499b8a3fd454bcbcd32b",
       "step": 0.01,
       "style": "IPY_MODEL_e7f0fb596860461d8120b65fffac10d6"
      }
     },
     "9329f943ef934ddf9f573ee2f6b4c5ed": {
      "model_module": "@jupyter-widgets/controls",
      "model_module_version": "1.3.0",
      "model_name": "FloatTextModel",
      "state": {
       "layout": "IPY_MODEL_9fb42cac409f42ea99d043e2de87b866",
       "step": 1e-07,
       "style": "IPY_MODEL_0d01671a9cf149418664f7209ab1fbed",
       "value": 2e-05
      }
     },
     "935ceea2d1ad404ab093ced1f04fb86d": {
      "model_module": "@jupyter-widgets/controls",
      "model_module_version": "1.3.0",
      "model_name": "VBoxModel",
      "state": {
       "children": [
        "IPY_MODEL_5f5ab38f0e254954969b108d0e74c26c",
        "IPY_MODEL_66e18297c3b144c1bd6ba2019d954b6e",
        "IPY_MODEL_54fcbbf473554f16b69f77b9a89503bd",
        "IPY_MODEL_368129351ecf41b78f877254d72d3667"
       ],
       "layout": "IPY_MODEL_15a2a0c26a3044f2bd1b9c3b54de4d1f"
      }
     },
     "93620fc79f344203be7d0f1edad15e85": {
      "model_module": "@jupyter-widgets/base",
      "model_module_version": "1.1.0",
      "model_name": "LayoutModel",
      "state": {}
     },
     "9376983807454bce978b3af759dfb7c3": {
      "model_module": "@jupyter-widgets/base",
      "model_module_version": "1.1.0",
      "model_name": "LayoutModel",
      "state": {}
     },
     "94572151362748c2b44a78939447dd42": {
      "model_module": "@jupyter-widgets/controls",
      "model_module_version": "1.3.0",
      "model_name": "FloatTextModel",
      "state": {
       "layout": "IPY_MODEL_a6aa2dbfeb994cf385183c3ce99580b6",
       "step": 1,
       "style": "IPY_MODEL_df6543e47e144968b82dcfa5953a7aed"
      }
     },
     "94b18883016b4f6bbc100d5f831879fe": {
      "model_module": "@jupyter-widgets/controls",
      "model_module_version": "1.3.0",
      "model_name": "FloatTextModel",
      "state": {
       "layout": "IPY_MODEL_da0602b4e28348e3985436768c08836e",
       "step": 0.01,
       "style": "IPY_MODEL_02b65e2fef24446098e692502c806f3b"
      }
     },
     "9504bc133b8d4e3aa678a82e59abe183": {
      "model_module": "@jupyter-widgets/base",
      "model_module_version": "1.1.0",
      "model_name": "LayoutModel",
      "state": {}
     },
     "958b6b30053e4ac09449199311b9a842": {
      "model_module": "@jupyter-widgets/controls",
      "model_module_version": "1.3.0",
      "model_name": "DescriptionStyleModel",
      "state": {
       "description_width": ""
      }
     },
     "963d3cc3bda047fe8389cd3830c616c6": {
      "model_module": "@jupyter-widgets/controls",
      "model_module_version": "1.3.0",
      "model_name": "FloatTextModel",
      "state": {
       "layout": "IPY_MODEL_b6c42ca65c384307a0f2dc6c325df0a6",
       "step": 0.01,
       "style": "IPY_MODEL_f2fd2ce7cfbf4d8693494a3154f6bf4a"
      }
     },
     "965699a2e7c24bcebada82d4cfccf90b": {
      "model_module": "@jupyter-widgets/controls",
      "model_module_version": "1.3.0",
      "model_name": "CheckboxModel",
      "state": {
       "disabled": false,
       "layout": "IPY_MODEL_f985121d31f7421caf067937472a4013",
       "style": "IPY_MODEL_3f6e54ae351c456ea2599cd8e0629a02",
       "value": false
      }
     },
     "968b851532a44739b2ecd4e3d3afe601": {
      "model_module": "@jupyter-widgets/base",
      "model_module_version": "1.1.0",
      "model_name": "LayoutModel",
      "state": {}
     },
     "969e691e21bf454ca3409d44144279ef": {
      "model_module": "@jupyter-widgets/controls",
      "model_module_version": "1.3.0",
      "model_name": "FloatTextModel",
      "state": {
       "layout": "IPY_MODEL_9d52d970f0014dc799876ee0fe6090db",
       "step": 1,
       "style": "IPY_MODEL_194d9339d8cb48ee9926a077d7f4dbce"
      }
     },
     "97eaa5a8d24646c4bc9dad5b946d4703": {
      "model_module": "@jupyter-widgets/controls",
      "model_module_version": "1.3.0",
      "model_name": "HBoxModel",
      "state": {
       "children": [
        "IPY_MODEL_e2badd0ac13c4d878779a0dfc6332684",
        "IPY_MODEL_71ac49887912441888b7e73f7741fe5d"
       ],
       "layout": "IPY_MODEL_9d316572d435425f8ac448486aa92230"
      }
     },
     "980df8e75ce14366a817234d2bd4b58e": {
      "model_module": "@jupyter-widgets/base",
      "model_module_version": "1.1.0",
      "model_name": "LayoutModel",
      "state": {}
     },
     "9851df9d723d42b6af5e4a23fa3e2295": {
      "model_module": "@jupyter-widgets/base",
      "model_module_version": "1.1.0",
      "model_name": "LayoutModel",
      "state": {}
     },
     "9858868a3b624454bb5969a1211455f5": {
      "model_module": "@jupyter-widgets/controls",
      "model_module_version": "1.3.0",
      "model_name": "HTMLModel",
      "state": {
       "layout": "IPY_MODEL_93086774713545e3b29dc4d93e6f115b",
       "style": "IPY_MODEL_41dd75624a9c4989b50671b58949a72d",
       "value": "isld"
      }
     },
     "98756664fb8142a28bf96f77dbc4caaa": {
      "model_module": "@jupyter-widgets/base",
      "model_module_version": "1.1.0",
      "model_name": "LayoutModel",
      "state": {
       "width": "100%"
      }
     },
     "98c4a9aa34db47139c836fab04941126": {
      "model_module": "@jupyter-widgets/base",
      "model_module_version": "1.1.0",
      "model_name": "LayoutModel",
      "state": {}
     },
     "98ea01b5c4c8495e97ea3d58c0725237": {
      "model_module": "@jupyter-widgets/controls",
      "model_module_version": "1.3.0",
      "model_name": "DescriptionStyleModel",
      "state": {
       "description_width": ""
      }
     },
     "99661f50e06548b39b0d3a7a5ef1b1ff": {
      "model_module": "@jupyter-widgets/base",
      "model_module_version": "1.1.0",
      "model_name": "LayoutModel",
      "state": {}
     },
     "997fe1fa19eb4f23af19aa5ce7c3c6d3": {
      "model_module": "@jupyter-widgets/base",
      "model_module_version": "1.1.0",
      "model_name": "LayoutModel",
      "state": {}
     },
     "99cf27c261714bd08e3c028877225e19": {
      "model_module": "@jupyter-widgets/controls",
      "model_module_version": "1.3.0",
      "model_name": "DescriptionStyleModel",
      "state": {
       "description_width": ""
      }
     },
     "9af1f94d4ba04a53bb13640db04e838f": {
      "model_module": "@jupyter-widgets/base",
      "model_module_version": "1.1.0",
      "model_name": "LayoutModel",
      "state": {}
     },
     "9b2e7dea792e44b996e6f07d32217b10": {
      "model_module": "@jupyter-widgets/base",
      "model_module_version": "1.1.0",
      "model_name": "LayoutModel",
      "state": {}
     },
     "9b4277c1bdf94e4d9411a1c798b75f95": {
      "model_module": "@jupyter-widgets/base",
      "model_module_version": "1.1.0",
      "model_name": "LayoutModel",
      "state": {}
     },
     "9b43b9efe27c4ca49711a6a13a8a4c3b": {
      "model_module": "@jupyter-widgets/controls",
      "model_module_version": "1.3.0",
      "model_name": "DescriptionStyleModel",
      "state": {
       "description_width": ""
      }
     },
     "9b46996a301a49f5b76b7e291de794b1": {
      "model_module": "@jupyter-widgets/controls",
      "model_module_version": "1.3.0",
      "model_name": "DescriptionStyleModel",
      "state": {
       "description_width": ""
      }
     },
     "9b838504261442b88fbbc46422e80544": {
      "model_module": "@jupyter-widgets/controls",
      "model_module_version": "1.3.0",
      "model_name": "FloatTextModel",
      "state": {
       "layout": "IPY_MODEL_b9110fd9d5194907acab1822e4b55933",
       "step": 0.01,
       "style": "IPY_MODEL_dcb466fb4a504e31801202a85a524870",
       "value": 6.94
      }
     },
     "9b8a7c0e17ae4f1390aa25b57e2eaf1a": {
      "model_module": "@jupyter-widgets/base",
      "model_module_version": "1.1.0",
      "model_name": "LayoutModel",
      "state": {}
     },
     "9c9980cdcd9f4b81a85c481b8a0b5330": {
      "model_module": "@jupyter-widgets/base",
      "model_module_version": "1.1.0",
      "model_name": "LayoutModel",
      "state": {}
     },
     "9c9eb88770a14da180fe5714ead12e10": {
      "model_module": "@jupyter-widgets/controls",
      "model_module_version": "1.3.0",
      "model_name": "ButtonStyleModel",
      "state": {}
     },
     "9d316572d435425f8ac448486aa92230": {
      "model_module": "@jupyter-widgets/base",
      "model_module_version": "1.1.0",
      "model_name": "LayoutModel",
      "state": {}
     },
     "9d52d970f0014dc799876ee0fe6090db": {
      "model_module": "@jupyter-widgets/base",
      "model_module_version": "1.1.0",
      "model_name": "LayoutModel",
      "state": {}
     },
     "9d5edd1bf4d44d89be7e55039aef9a14": {
      "model_module": "@jupyter-widgets/controls",
      "model_module_version": "1.3.0",
      "model_name": "FloatTextModel",
      "state": {
       "layout": "IPY_MODEL_9504bc133b8d4e3aa678a82e59abe183",
       "step": 0.01,
       "style": "IPY_MODEL_5b56a1b2b84449789447b61dfe076d59"
      }
     },
     "9ddb7b676bf546ad8dccdecb806ea240": {
      "model_module": "@jupyter-widgets/controls",
      "model_module_version": "1.3.0",
      "model_name": "HBoxModel",
      "state": {
       "children": [
        "IPY_MODEL_7a642b002adf4c229c9feaeac0c728ee",
        "IPY_MODEL_39d664c70244400c82b58d3a95d30b78",
        "IPY_MODEL_a9e9081226c4455b89cdb25d00a03622",
        "IPY_MODEL_fd559c3c26e743bc837e7d0bc3343220",
        "IPY_MODEL_e75f213bb1984459b48702fb5342fdda",
        "IPY_MODEL_33ffeb1391ca419fbaf16319f1af8705",
        "IPY_MODEL_205c821c65624e60b438df3699310a80",
        "IPY_MODEL_5078e36eaef640e586614a6da4601456"
       ],
       "layout": "IPY_MODEL_e68b73f1766344b3a9ab6e42c30208eb"
      }
     },
     "9ebd1a3fa4e3401a820e00eab23a5238": {
      "model_module": "@jupyter-widgets/controls",
      "model_module_version": "1.3.0",
      "model_name": "DescriptionStyleModel",
      "state": {
       "description_width": ""
      }
     },
     "9f1c08e5b5f54c90b89e0e86013a6b20": {
      "model_module": "@jupyter-widgets/controls",
      "model_module_version": "1.3.0",
      "model_name": "DescriptionStyleModel",
      "state": {
       "description_width": ""
      }
     },
     "9f91e56029974ba985e8884f8995f54d": {
      "model_module": "@jupyter-widgets/controls",
      "model_module_version": "1.3.0",
      "model_name": "FloatTextModel",
      "state": {
       "layout": "IPY_MODEL_05c4a67007aa4c049cb3d5189e66805c",
       "step": 0.01,
       "style": "IPY_MODEL_40ef4d8843884ce0a4cdfc65492f0207"
      }
     },
     "9fafbb1659dd4c81a2703d1f8c5d5b67": {
      "model_module": "@jupyter-widgets/controls",
      "model_module_version": "1.3.0",
      "model_name": "VBoxModel",
      "state": {
       "children": [
        "IPY_MODEL_aeefa631af8d48f4a7a67075f4a52e4d"
       ],
       "layout": "IPY_MODEL_d11fb94819fa43499cce8c9be5f19dc9"
      }
     },
     "9fb42cac409f42ea99d043e2de87b866": {
      "model_module": "@jupyter-widgets/base",
      "model_module_version": "1.1.0",
      "model_name": "LayoutModel",
      "state": {}
     },
     "a08c9c76210f476d86989feba139af16": {
      "model_module": "@jupyter-widgets/base",
      "model_module_version": "1.1.0",
      "model_name": "LayoutModel",
      "state": {}
     },
     "a0adab4d771b468d9de535bf155d0671": {
      "model_module": "@jupyter-widgets/controls",
      "model_module_version": "1.3.0",
      "model_name": "DescriptionStyleModel",
      "state": {
       "description_width": "0px"
      }
     },
     "a15d716179da4c1986ba5f86f7a8c91d": {
      "model_module": "@jupyter-widgets/controls",
      "model_module_version": "1.3.0",
      "model_name": "VBoxModel",
      "state": {
       "children": [
        "IPY_MODEL_a42f38a31d5e420cb2e46f411e318fb4",
        "IPY_MODEL_653830edd9db49608a04916eab64dadd",
        "IPY_MODEL_4d153c12d061491fa03fcd8881e14cc4"
       ],
       "layout": "IPY_MODEL_a89b1b263313405ca554337744562f70"
      }
     },
     "a1c7a32b00c4405896aa1435e8b354f5": {
      "model_module": "@jupyter-widgets/base",
      "model_module_version": "1.1.0",
      "model_name": "LayoutModel",
      "state": {}
     },
     "a21d431a54b74ce4bdbb5a0ba94e025b": {
      "model_module": "@jupyter-widgets/controls",
      "model_module_version": "1.3.0",
      "model_name": "DescriptionStyleModel",
      "state": {
       "description_width": ""
      }
     },
     "a29f899837164bf18374dc436d49cb0e": {
      "model_module": "@jupyter-widgets/controls",
      "model_module_version": "1.3.0",
      "model_name": "DescriptionStyleModel",
      "state": {
       "description_width": ""
      }
     },
     "a338198756ac45c286185c326d756d3d": {
      "model_module": "@jupyter-widgets/controls",
      "model_module_version": "1.3.0",
      "model_name": "DescriptionStyleModel",
      "state": {
       "description_width": ""
      }
     },
     "a34a7cb07044430ca76074ed4397833c": {
      "model_module": "@jupyter-widgets/controls",
      "model_module_version": "1.3.0",
      "model_name": "FloatTextModel",
      "state": {
       "layout": "IPY_MODEL_2b55b3f4ab8c44d283d75203f721c86a",
       "step": 1,
       "style": "IPY_MODEL_aada36ee8a074ed7904a30a6710d9d04"
      }
     },
     "a34a925f93a24c359ed3a7da8e1fcb86": {
      "model_module": "@jupyter-widgets/base",
      "model_module_version": "1.1.0",
      "model_name": "LayoutModel",
      "state": {}
     },
     "a378028e51564faa8ed58ef0016fc3af": {
      "model_module": "@jupyter-widgets/base",
      "model_module_version": "1.1.0",
      "model_name": "LayoutModel",
      "state": {}
     },
     "a37ebb03dff848b2aed9d4bc582b2c36": {
      "model_module": "@jupyter-widgets/base",
      "model_module_version": "1.1.0",
      "model_name": "LayoutModel",
      "state": {}
     },
     "a3bd9d03b13c451897a292c0cda90ed3": {
      "model_module": "@jupyter-widgets/controls",
      "model_module_version": "1.3.0",
      "model_name": "FloatTextModel",
      "state": {
       "layout": "IPY_MODEL_dadd70a4a96041f6a3ff4118acb958c6",
       "step": 1,
       "style": "IPY_MODEL_523f11072db94098baf41185a6814afa",
       "value": 3
      }
     },
     "a42f38a31d5e420cb2e46f411e318fb4": {
      "model_module": "@jupyter-widgets/controls",
      "model_module_version": "1.3.0",
      "model_name": "DropdownModel",
      "state": {
       "_options_labels": [
        "lin",
        "logY",
        "YX4",
        "YX2"
       ],
       "description": "Plot Type:",
       "index": 0,
       "layout": "IPY_MODEL_3e8bbca0c3ae44a690778d345c78247f",
       "style": "IPY_MODEL_c263136de084479e9e7aedf0117fcf8d"
      }
     },
     "a4a733077fa5475fb6c50f51a5f6535e": {
      "model_module": "@jupyter-widgets/controls",
      "model_module_version": "1.3.0",
      "model_name": "DescriptionStyleModel",
      "state": {
       "description_width": ""
      }
     },
     "a4ab8ec74ff24c7e9d4eb2f77d4d6a54": {
      "model_module": "@jupyter-widgets/output",
      "model_module_version": "1.0.0",
      "model_name": "OutputModel",
      "state": {
       "layout": "IPY_MODEL_aa3a678ec72743a5ada6abc8ff6fb6e7"
      }
     },
     "a61936435b8842269f44c60e33c227fb": {
      "model_module": "@jupyter-widgets/base",
      "model_module_version": "1.1.0",
      "model_name": "LayoutModel",
      "state": {}
     },
     "a627d181465f497bbe04df9f957cad78": {
      "model_module": "@jupyter-widgets/base",
      "model_module_version": "1.1.0",
      "model_name": "LayoutModel",
      "state": {}
     },
     "a641b928328742c7a740c94330adf5e9": {
      "model_module": "@jupyter-widgets/base",
      "model_module_version": "1.1.0",
      "model_name": "LayoutModel",
      "state": {}
     },
     "a678df8ddd2c4aa0bbe39283ce18a05e": {
      "model_module": "@jupyter-widgets/controls",
      "model_module_version": "1.3.0",
      "model_name": "FloatTextModel",
      "state": {
       "description": "1",
       "layout": "IPY_MODEL_39d3a528eb0949bc914185b25ab84fa3",
       "step": 1,
       "style": "IPY_MODEL_46ef47a3cc244a5b91a827b29afd1cbb",
       "value": 25
      }
     },
     "a6aa2dbfeb994cf385183c3ce99580b6": {
      "model_module": "@jupyter-widgets/base",
      "model_module_version": "1.1.0",
      "model_name": "LayoutModel",
      "state": {}
     },
     "a73057ab38b343438f5153bbbcfcb697": {
      "model_module": "@jupyter-widgets/base",
      "model_module_version": "1.1.0",
      "model_name": "LayoutModel",
      "state": {}
     },
     "a74673511aa8479b8891d814b20ec59f": {
      "model_module": "@jupyter-widgets/controls",
      "model_module_version": "1.3.0",
      "model_name": "DescriptionStyleModel",
      "state": {
       "description_width": "120px"
      }
     },
     "a74d22261a40405a8777c4008279deb9": {
      "model_module": "@jupyter-widgets/controls",
      "model_module_version": "1.3.0",
      "model_name": "DescriptionStyleModel",
      "state": {
       "description_width": "0px"
      }
     },
     "a7afa1b3e6934335abda808115ae7217": {
      "model_module": "@jupyter-widgets/base",
      "model_module_version": "1.1.0",
      "model_name": "LayoutModel",
      "state": {}
     },
     "a7c476364e9f456997cbc4440dc4c0cf": {
      "model_module": "@jupyter-widgets/controls",
      "model_module_version": "1.3.0",
      "model_name": "FloatTextModel",
      "state": {
       "layout": "IPY_MODEL_e200cfe8eaf44036b66b60ea76a63abf",
       "step": 0.01,
       "style": "IPY_MODEL_2d07ba1a673442f396be00cf406097f6"
      }
     },
     "a7ea1e929d7f477586908f3d6e042322": {
      "model_module": "@jupyter-widgets/base",
      "model_module_version": "1.1.0",
      "model_name": "LayoutModel",
      "state": {}
     },
     "a89b1b263313405ca554337744562f70": {
      "model_module": "@jupyter-widgets/base",
      "model_module_version": "1.1.0",
      "model_name": "LayoutModel",
      "state": {}
     },
     "a89f9716760f4a2f9cb745df2d0b3aa9": {
      "model_module": "@jupyter-widgets/controls",
      "model_module_version": "1.3.0",
      "model_name": "FloatTextModel",
      "state": {
       "description": "1",
       "layout": "IPY_MODEL_aed19666b09f404795aa3dcf18a429ec",
       "step": 1,
       "style": "IPY_MODEL_101733ac7fdd412a921729464abea043",
       "value": 25
      }
     },
     "a8a9a91e10e14f3f8b302f4af933cf5e": {
      "model_module": "@jupyter-widgets/controls",
      "model_module_version": "1.3.0",
      "model_name": "HTMLModel",
      "state": {
       "layout": "IPY_MODEL_717feb136ef64e5e88219e199879f92a",
       "style": "IPY_MODEL_6ca08b47eb98490ca260476b5451856f",
       "value": "rough"
      }
     },
     "a8c0591363a944a7b96be53f58cd16fe": {
      "model_module": "@jupyter-widgets/controls",
      "model_module_version": "1.3.0",
      "model_name": "FloatTextModel",
      "state": {
       "description": "1",
       "layout": "IPY_MODEL_609ecd30e46649dd80dae51bfbc8ca7c",
       "step": 1,
       "style": "IPY_MODEL_92da85aaf6624ebea0078227d0d133fe",
       "value": 25
      }
     },
     "a927e38b8cdd4cae97dd5eb52321926c": {
      "model_module": "@jupyter-widgets/base",
      "model_module_version": "1.1.0",
      "model_name": "LayoutModel",
      "state": {}
     },
     "a9a233cf5d594e8b84258cbf79d6c473": {
      "model_module": "@jupyter-widgets/controls",
      "model_module_version": "1.3.0",
      "model_name": "DescriptionStyleModel",
      "state": {
       "description_width": "0px"
      }
     },
     "a9b320c4ec514ee497c11509cc3dd9c1": {
      "model_module": "@jupyter-widgets/base",
      "model_module_version": "1.1.0",
      "model_name": "LayoutModel",
      "state": {}
     },
     "a9e9081226c4455b89cdb25d00a03622": {
      "model_module": "@jupyter-widgets/controls",
      "model_module_version": "1.3.0",
      "model_name": "FloatTextModel",
      "state": {
       "layout": "IPY_MODEL_360d978cb8f541e0adf2aa3e42f5e84a",
       "step": 0.01,
       "style": "IPY_MODEL_50acae81810c4cb88670998db167ee0a",
       "value": 2.07
      }
     },
     "a9fa242344b8482886d4584ced78f546": {
      "model_module": "@jupyter-widgets/base",
      "model_module_version": "1.1.0",
      "model_name": "LayoutModel",
      "state": {}
     },
     "aa3a463c715641d3b4a10c307ecb32f2": {
      "model_module": "@jupyter-widgets/controls",
      "model_module_version": "1.3.0",
      "model_name": "CheckboxModel",
      "state": {
       "disabled": true,
       "layout": "IPY_MODEL_d8c741f8d38d4539acccf431f8bb8aa9",
       "style": "IPY_MODEL_a9a233cf5d594e8b84258cbf79d6c473",
       "value": false
      }
     },
     "aa3a678ec72743a5ada6abc8ff6fb6e7": {
      "model_module": "@jupyter-widgets/base",
      "model_module_version": "1.1.0",
      "model_name": "LayoutModel",
      "state": {}
     },
     "aada36ee8a074ed7904a30a6710d9d04": {
      "model_module": "@jupyter-widgets/controls",
      "model_module_version": "1.3.0",
      "model_name": "DescriptionStyleModel",
      "state": {
       "description_width": ""
      }
     },
     "ab19695f408c4e1b8af0e84b728159d6": {
      "model_module": "@jupyter-widgets/base",
      "model_module_version": "1.1.0",
      "model_name": "LayoutModel",
      "state": {}
     },
     "ab428c01337448cab354b53f7ca8ed51": {
      "model_module": "@jupyter-widgets/base",
      "model_module_version": "1.1.0",
      "model_name": "LayoutModel",
      "state": {}
     },
     "ab47906ab9224fc6a7bac8e21dc2a9da": {
      "model_module": "@jupyter-widgets/base",
      "model_module_version": "1.1.0",
      "model_name": "LayoutModel",
      "state": {}
     },
     "ac539532bf84413cabda5d34e3f59d08": {
      "model_module": "@jupyter-widgets/controls",
      "model_module_version": "1.3.0",
      "model_name": "HBoxModel",
      "state": {
       "children": [
        "IPY_MODEL_0177fbaa615b4f58beeec2c4e2e9970f",
        "IPY_MODEL_17e05e5fcc94480f8ccb0f7a1716b464",
        "IPY_MODEL_371c027fffc24898a5dd68cca14c441b",
        "IPY_MODEL_2498632b2fa1479abb36a9ab5cc96fb7"
       ],
       "layout": "IPY_MODEL_047f79ce90e54d8ea3a1a8f8e00c039c"
      }
     },
     "ac5944bb74b0448eb76cebfea30bb9cd": {
      "model_module": "@jupyter-widgets/base",
      "model_module_version": "1.1.0",
      "model_name": "LayoutModel",
      "state": {}
     },
     "ac5c2fe019e6420eb79b204d6fb994c8": {
      "model_module": "@jupyter-widgets/controls",
      "model_module_version": "1.3.0",
      "model_name": "VBoxModel",
      "state": {
       "children": [
        "IPY_MODEL_e470e09783c244c5943be98c45e6dfca",
        "IPY_MODEL_77a10a9d46ab42628057abb4ce5d204f",
        "IPY_MODEL_586b17e53ff648a6a236dc44c5946670"
       ],
       "layout": "IPY_MODEL_0a3e8be9855b493bae0d3ee42f34021f"
      }
     },
     "ac5f18b4eb584dc980f2d9d7d3a17f19": {
      "model_module": "@jupyter-widgets/base",
      "model_module_version": "1.1.0",
      "model_name": "LayoutModel",
      "state": {}
     },
     "ac90c4ff85f54adaba1d7cd16f439204": {
      "model_module": "@jupyter-widgets/base",
      "model_module_version": "1.1.0",
      "model_name": "LayoutModel",
      "state": {}
     },
     "ad5cf1c774a7472e92fb53c1d8848057": {
      "model_module": "@jupyter-widgets/controls",
      "model_module_version": "1.3.0",
      "model_name": "DescriptionStyleModel",
      "state": {
       "description_width": ""
      }
     },
     "ad8e31c47a984c7386ee7a9d8db485b7": {
      "model_module": "@jupyter-widgets/base",
      "model_module_version": "1.1.0",
      "model_name": "LayoutModel",
      "state": {
       "width": "10%"
      }
     },
     "adfd97bed234404ba94a3b9f645f9397": {
      "model_module": "@jupyter-widgets/controls",
      "model_module_version": "1.3.0",
      "model_name": "DescriptionStyleModel",
      "state": {
       "description_width": ""
      }
     },
     "aeb91b0fda9947d294b4f8f8c95c36cc": {
      "model_module": "@jupyter-widgets/base",
      "model_module_version": "1.1.0",
      "model_name": "LayoutModel",
      "state": {}
     },
     "aed19666b09f404795aa3dcf18a429ec": {
      "model_module": "@jupyter-widgets/base",
      "model_module_version": "1.1.0",
      "model_name": "LayoutModel",
      "state": {}
     },
     "aee8ccba027e4bc6836d9c7128f9bee1": {
      "model_module": "@jupyter-widgets/controls",
      "model_module_version": "1.3.0",
      "model_name": "FloatTextModel",
      "state": {
       "layout": "IPY_MODEL_fd3465f4359d4852b31c603209c93d9b",
       "step": 0.01,
       "style": "IPY_MODEL_37fcb0c0fa634f14a366bd366a9efc03"
      }
     },
     "aeefa631af8d48f4a7a67075f4a52e4d": {
      "model_module": "@jupyter-widgets/controls",
      "model_module_version": "1.3.0",
      "model_name": "ButtonModel",
      "state": {
       "description": "Set default limits",
       "layout": "IPY_MODEL_f64e37b56f20456c9b957ad99a73415e",
       "style": "IPY_MODEL_925cf67cbcd64b4494611124984c0060"
      }
     },
     "af1781b1e0a641608bdf88b1016a7f11": {
      "model_module": "@jupyter-widgets/base",
      "model_module_version": "1.1.0",
      "model_name": "LayoutModel",
      "state": {}
     },
     "afda4b15852f449e8e7dea4debd41e6b": {
      "model_module": "@jupyter-widgets/base",
      "model_module_version": "1.1.0",
      "model_name": "LayoutModel",
      "state": {}
     },
     "b01fa77b107c4fda967521415c490fa7": {
      "model_module": "@jupyter-widgets/base",
      "model_module_version": "1.1.0",
      "model_name": "LayoutModel",
      "state": {}
     },
     "b0563e35af5f4ab6af4dd512207621a4": {
      "model_module": "@jupyter-widgets/base",
      "model_module_version": "1.1.0",
      "model_name": "LayoutModel",
      "state": {}
     },
     "b060a6bfa6fd4372ad2d8841dca2e4ac": {
      "model_module": "@jupyter-widgets/controls",
      "model_module_version": "1.3.0",
      "model_name": "FloatTextModel",
      "state": {
       "layout": "IPY_MODEL_dae9cf8f00c94a5cbea2793dde200467",
       "step": 0.01,
       "style": "IPY_MODEL_1c987039e5f14ed19513647dff33a8de"
      }
     },
     "b063772705964bc3937bd97ecf7d759f": {
      "model_module": "@jupyter-widgets/base",
      "model_module_version": "1.1.0",
      "model_name": "LayoutModel",
      "state": {}
     },
     "b1028ca608c34c93aecadc364adbe9cf": {
      "model_module": "@jupyter-widgets/controls",
      "model_module_version": "1.3.0",
      "model_name": "VBoxModel",
      "state": {
       "children": [
        "IPY_MODEL_21a96e556626402a85affbe806333011",
        "IPY_MODEL_ac539532bf84413cabda5d34e3f59d08",
        "IPY_MODEL_d9e8ab7bafe542b0a2debaccfb378e31",
        "IPY_MODEL_6824e7f4597d404aa3f60aecdf095703",
        "IPY_MODEL_2626db30e50b4a248915451e3277bdb0",
        "IPY_MODEL_56ea845600884a9aba607f495c70f095"
       ],
       "layout": "IPY_MODEL_40e0ff2beb0e4009a2fa509fa68854a3"
      }
     },
     "b121b42c737149658632a47e5e53a5d4": {
      "model_module": "@jupyter-widgets/controls",
      "model_module_version": "1.3.0",
      "model_name": "ButtonModel",
      "state": {
       "description": "Set default limits",
       "layout": "IPY_MODEL_e518f105285f41ab9afe301ed513c356",
       "style": "IPY_MODEL_16a30a3799d54fbfbfc93cf02734c338"
      }
     },
     "b19f0bbef3fe4622b9df01e02ad91f82": {
      "model_module": "@jupyter-widgets/controls",
      "model_module_version": "1.3.0",
      "model_name": "HBoxModel",
      "state": {
       "children": [
        "IPY_MODEL_2531f867c622490bbec64e6a2d789b72",
        "IPY_MODEL_5058c3f39916404d84070ba8e756c3db",
        "IPY_MODEL_ba95d19ff42e4bd8be7a7195bc1c1395",
        "IPY_MODEL_b63dba57b1644330aaff822c8a5b9a6c",
        "IPY_MODEL_bd5f3f28538e4f1daf12e50dc41f103a",
        "IPY_MODEL_c2adae04d04f4defb44e49977ad4377d",
        "IPY_MODEL_bd013597e181437eafe49b5d42c45003",
        "IPY_MODEL_3bc334e08a614f2a9657aa8c6a1e7748"
       ],
       "layout": "IPY_MODEL_2e12643eab344749a3b9610ce5bf84ea"
      }
     },
     "b1b2501c050e46c09da1676942029cdb": {
      "model_module": "@jupyter-widgets/controls",
      "model_module_version": "1.3.0",
      "model_name": "DescriptionStyleModel",
      "state": {
       "description_width": "0px"
      }
     },
     "b233a4531c2b4c87a40a6ef96e123f1a": {
      "model_module": "@jupyter-widgets/controls",
      "model_module_version": "1.3.0",
      "model_name": "DescriptionStyleModel",
      "state": {
       "description_width": ""
      }
     },
     "b2951d9ac5244912924cc112341201b5": {
      "model_module": "@jupyter-widgets/controls",
      "model_module_version": "1.3.0",
      "model_name": "DescriptionStyleModel",
      "state": {
       "description_width": ""
      }
     },
     "b2d765fee04e4bc8af9658e6a73f9d7d": {
      "model_module": "@jupyter-widgets/base",
      "model_module_version": "1.1.0",
      "model_name": "LayoutModel",
      "state": {}
     },
     "b3d983c4f7774cd1b5162c1ff8e39d15": {
      "model_module": "@jupyter-widgets/base",
      "model_module_version": "1.1.0",
      "model_name": "LayoutModel",
      "state": {}
     },
     "b409f6460ce1458a93821bb6ff8f150e": {
      "model_module": "@jupyter-widgets/controls",
      "model_module_version": "1.3.0",
      "model_name": "FloatTextModel",
      "state": {
       "layout": "IPY_MODEL_4e4f57a2c1974126a575a7c98b947f71",
       "step": 0.01,
       "style": "IPY_MODEL_834c5bad903644b387214b18e16fadb2"
      }
     },
     "b465508bc82144769137e1fde401f72c": {
      "model_module": "@jupyter-widgets/controls",
      "model_module_version": "1.3.0",
      "model_name": "HBoxModel",
      "state": {
       "children": [
        "IPY_MODEL_0177fbaa615b4f58beeec2c4e2e9970f",
        "IPY_MODEL_17e05e5fcc94480f8ccb0f7a1716b464",
        "IPY_MODEL_371c027fffc24898a5dd68cca14c441b",
        "IPY_MODEL_2498632b2fa1479abb36a9ab5cc96fb7"
       ],
       "layout": "IPY_MODEL_cddab5291abf48cbaed80e04e6cee00c"
      }
     },
     "b5f855bf6d2b4e5dbc6e712895486cb5": {
      "model_module": "@jupyter-widgets/base",
      "model_module_version": "1.1.0",
      "model_name": "LayoutModel",
      "state": {}
     },
     "b63dba57b1644330aaff822c8a5b9a6c": {
      "model_module": "@jupyter-widgets/controls",
      "model_module_version": "1.3.0",
      "model_name": "CheckboxModel",
      "state": {
       "disabled": false,
       "layout": "IPY_MODEL_8819fd193eb948179ca90b295e2cb61b",
       "style": "IPY_MODEL_3a8c40bbb43e4d13b2d6574c1a4bdb45",
       "value": false
      }
     },
     "b681f5bd7b944161918f6745396e2073": {
      "model_module": "@jupyter-widgets/controls",
      "model_module_version": "1.3.0",
      "model_name": "DescriptionStyleModel",
      "state": {
       "description_width": "0px"
      }
     },
     "b691e026f40c4df8a6bc11037c26f88b": {
      "model_module": "@jupyter-widgets/base",
      "model_module_version": "1.1.0",
      "model_name": "LayoutModel",
      "state": {}
     },
     "b6c42ca65c384307a0f2dc6c325df0a6": {
      "model_module": "@jupyter-widgets/base",
      "model_module_version": "1.1.0",
      "model_name": "LayoutModel",
      "state": {}
     },
     "b70a01c4fedd4f50a34eddd67abb9815": {
      "model_module": "@jupyter-widgets/controls",
      "model_module_version": "1.3.0",
      "model_name": "FloatTextModel",
      "state": {
       "description": "fronting",
       "disabled": true,
       "layout": "IPY_MODEL_fb8ec657d2534adebe90740da9cad9b8",
       "step": 1,
       "style": "IPY_MODEL_2ccf3a66faa64270ab3a2063b58db1f2"
      }
     },
     "b762815767e94081a870874bde801db0": {
      "model_module": "@jupyter-widgets/controls",
      "model_module_version": "1.3.0",
      "model_name": "VBoxModel",
      "state": {
       "children": [
        "IPY_MODEL_ba616f96d4824464ad91df18c15721bf",
        "IPY_MODEL_12844b6adf124d45a40c2bfef93576b0",
        "IPY_MODEL_4f5441029d5345d09ee76361f64d5330",
        "IPY_MODEL_dd631fab0ed14f0495c16fa6f5f1e985",
        "IPY_MODEL_61afa1872a7f4268937a3f8302633db9",
        "IPY_MODEL_d6bc684c4cb946d6abd4d2e576399dec"
       ],
       "layout": "IPY_MODEL_06b5d4d06c9640df901dfd7a93ec04fc"
      }
     },
     "b76485d068cf4d7badadcc6e640b45f1": {
      "model_module": "@jupyter-widgets/controls",
      "model_module_version": "1.3.0",
      "model_name": "DescriptionStyleModel",
      "state": {
       "description_width": "0px"
      }
     },
     "b79ade8f5c594e9f8054840d4a944b62": {
      "model_module": "@jupyter-widgets/controls",
      "model_module_version": "1.3.0",
      "model_name": "DescriptionStyleModel",
      "state": {
       "description_width": ""
      }
     },
     "b7a6dcab2bb5462c961999c12a8e6ed3": {
      "model_module": "@jupyter-widgets/controls",
      "model_module_version": "1.3.0",
      "model_name": "ButtonStyleModel",
      "state": {}
     },
     "b8840397ea70425ebf413fbc61371d41": {
      "model_module": "@jupyter-widgets/base",
      "model_module_version": "1.1.0",
      "model_name": "LayoutModel",
      "state": {}
     },
     "b8d5ba15d59d4b538e052261ce88ccb3": {
      "model_module": "@jupyter-widgets/controls",
      "model_module_version": "1.3.0",
      "model_name": "DescriptionStyleModel",
      "state": {
       "description_width": ""
      }
     },
     "b90f1b7b46d5495e80ac168c38e963db": {
      "model_module": "@jupyter-widgets/base",
      "model_module_version": "1.1.0",
      "model_name": "LayoutModel",
      "state": {}
     },
     "b9110fd9d5194907acab1822e4b55933": {
      "model_module": "@jupyter-widgets/base",
      "model_module_version": "1.1.0",
      "model_name": "LayoutModel",
      "state": {}
     },
     "b97f4f3dc48b4b3e8e94f890169c04ab": {
      "model_module": "@jupyter-widgets/controls",
      "model_module_version": "1.3.0",
      "model_name": "DescriptionStyleModel",
      "state": {
       "description_width": ""
      }
     },
     "b986179b9a7d4e569271fe2252b06b94": {
      "model_module": "@jupyter-widgets/controls",
      "model_module_version": "1.3.0",
      "model_name": "HTMLModel",
      "state": {
       "layout": "IPY_MODEL_0aa7f2d7ec5a4081b5462262b1a09000",
       "style": "IPY_MODEL_4f57b42eab34417f9b7c78b8ef6dbc92",
       "value": "thick"
      }
     },
     "ba616f96d4824464ad91df18c15721bf": {
      "model_module": "@jupyter-widgets/controls",
      "model_module_version": "1.3.0",
      "model_name": "BoundedIntTextModel",
      "state": {
       "description": "Number of layers",
       "layout": "IPY_MODEL_d4c4ddb9ea814e56a28b3afc0fad1e8b",
       "max": 1000,
       "style": "IPY_MODEL_a74673511aa8479b8891d814b20ec59f",
       "value": 1
      }
     },
     "ba6b803043b14780b7863e09e4791ed7": {
      "model_module": "@jupyter-widgets/controls",
      "model_module_version": "1.3.0",
      "model_name": "FloatTextModel",
      "state": {
       "layout": "IPY_MODEL_98c4a9aa34db47139c836fab04941126",
       "step": 1,
       "style": "IPY_MODEL_d42c2e45f74a402db2e8a0cb0b352ca8"
      }
     },
     "ba95d19ff42e4bd8be7a7195bc1c1395": {
      "model_module": "@jupyter-widgets/controls",
      "model_module_version": "1.3.0",
      "model_name": "FloatTextModel",
      "state": {
       "layout": "IPY_MODEL_8c719f6043124c76accc5f91f4da2593",
       "step": 0.01,
       "style": "IPY_MODEL_379d395f2ed44cc09d94495c590d1993"
      }
     },
     "bb1652ed70b044b68478bd7ff5641d5e": {
      "model_module": "@jupyter-widgets/base",
      "model_module_version": "1.1.0",
      "model_name": "LayoutModel",
      "state": {}
     },
     "bb26272e4d4941e8b28374af95be0c63": {
      "model_module": "@jupyter-widgets/base",
      "model_module_version": "1.1.0",
      "model_name": "LayoutModel",
      "state": {}
     },
     "bb9041ed7ecd4362bdba29fbcd41e6b5": {
      "model_module": "@jupyter-widgets/base",
      "model_module_version": "1.1.0",
      "model_name": "LayoutModel",
      "state": {}
     },
     "bbc00ce03b7d42feab868996911337c2": {
      "model_module": "@jupyter-widgets/base",
      "model_module_version": "1.1.0",
      "model_name": "LayoutModel",
      "state": {}
     },
     "bbea990c0122494ebc14314c6b345592": {
      "model_module": "@jupyter-widgets/base",
      "model_module_version": "1.1.0",
      "model_name": "LayoutModel",
      "state": {}
     },
     "bc2763d8466c48bbac0e01ecd692edcf": {
      "model_module": "@jupyter-widgets/controls",
      "model_module_version": "1.3.0",
      "model_name": "FloatTextModel",
      "state": {
       "description": "backing",
       "disabled": true,
       "layout": "IPY_MODEL_c25e6d0ce0c04752a1a403ff75273ade",
       "step": 1,
       "style": "IPY_MODEL_91c05eabc66f49f1afdd3f7b553c3424"
      }
     },
     "bcd480cfbd28418c881993cbc8910ad4": {
      "model_module": "@jupyter-widgets/base",
      "model_module_version": "1.1.0",
      "model_name": "LayoutModel",
      "state": {}
     },
     "bce0422b92004296a525a471aae18b1f": {
      "model_module": "@jupyter-widgets/controls",
      "model_module_version": "1.3.0",
      "model_name": "HTMLModel",
      "state": {
       "layout": "IPY_MODEL_c38aa7b4ff3c45bd8572cd170b172bee",
       "style": "IPY_MODEL_cdac275dd71842488c5b62545866fb66",
       "value": "thick"
      }
     },
     "bd013597e181437eafe49b5d42c45003": {
      "model_module": "@jupyter-widgets/controls",
      "model_module_version": "1.3.0",
      "model_name": "FloatTextModel",
      "state": {
       "disabled": true,
       "layout": "IPY_MODEL_27d4ca1c074744819a25e21f522aa988",
       "step": 1,
       "style": "IPY_MODEL_ffb12da1804e48d3b731c5f7997d9f61"
      }
     },
     "bd3f8f46789f4af9b1944fbc2e7c7db0": {
      "model_module": "@jupyter-widgets/controls",
      "model_module_version": "1.3.0",
      "model_name": "DescriptionStyleModel",
      "state": {
       "description_width": "0px"
      }
     },
     "bd5f3f28538e4f1daf12e50dc41f103a": {
      "model_module": "@jupyter-widgets/controls",
      "model_module_version": "1.3.0",
      "model_name": "FloatTextModel",
      "state": {
       "layout": "IPY_MODEL_c2bf7c31843e486dbe3219c108126b5c",
       "step": 0.01,
       "style": "IPY_MODEL_265c4d644f8a4fde86b025ef5854cd05"
      }
     },
     "bdb5a0e66c5644c59d9041d04d43169b": {
      "model_module": "@jupyter-widgets/controls",
      "model_module_version": "1.3.0",
      "model_name": "FloatTextModel",
      "state": {
       "layout": "IPY_MODEL_e49e05f1471e4075a512941aae96e395",
       "step": 0.01,
       "style": "IPY_MODEL_958b6b30053e4ac09449199311b9a842"
      }
     },
     "be14a8b2bb2b44eab03e36e7315ceb5f": {
      "model_module": "@jupyter-widgets/controls",
      "model_module_version": "1.3.0",
      "model_name": "CheckboxModel",
      "state": {
       "disabled": false,
       "layout": "IPY_MODEL_7760a3a3a6464c5da5023ec500be7008",
       "style": "IPY_MODEL_e94987b23bbc4f51be8ee6fd6d32c736",
       "value": false
      }
     },
     "be40b93f661644f4aa70956f636bd8f0": {
      "model_module": "@jupyter-widgets/controls",
      "model_module_version": "1.3.0",
      "model_name": "DescriptionStyleModel",
      "state": {
       "description_width": "0px"
      }
     },
     "be8c73d8cc1d414cb4037449b0119876": {
      "model_module": "@jupyter-widgets/controls",
      "model_module_version": "1.3.0",
      "model_name": "BoundedFloatTextModel",
      "state": {
       "layout": "IPY_MODEL_f2033f9887d7463bb092cf3f4e108d51",
       "max": 20,
       "style": "IPY_MODEL_9f1c08e5b5f54c90b89e0e86013a6b20",
       "value": 20
      }
     },
     "bef00b507c6345169f3d1c7d1c893b8e": {
      "model_module": "@jupyter-widgets/controls",
      "model_module_version": "1.3.0",
      "model_name": "HBoxModel",
      "state": {
       "children": [
        "IPY_MODEL_0241569975e647eaa4c134a7202c4446",
        "IPY_MODEL_5bd1134c1e8f4a09b07d5f7f83feb88b",
        "IPY_MODEL_eae38201ccf549fea49e77c684e2c6d9",
        "IPY_MODEL_c8f40647fa1e4ee9827fd87544808b67"
       ],
       "layout": "IPY_MODEL_727f364cdd0d404e9a69bcfdc4a98e23"
      }
     },
     "bef8bf86621e416b91df32ea3db097d1": {
      "model_module": "@jupyter-widgets/base",
      "model_module_version": "1.1.0",
      "model_name": "LayoutModel",
      "state": {}
     },
     "bf3e105585924c9fa28382bccfbcef2a": {
      "model_module": "@jupyter-widgets/controls",
      "model_module_version": "1.3.0",
      "model_name": "DescriptionStyleModel",
      "state": {
       "description_width": ""
      }
     },
     "bf713a95570e4b6ba320d91cad25bef5": {
      "model_module": "@jupyter-widgets/controls",
      "model_module_version": "1.3.0",
      "model_name": "HTMLModel",
      "state": {
       "layout": "IPY_MODEL_1b7bb72bd1504e0c9edbed0da312b1e4",
       "style": "IPY_MODEL_a4a733077fa5475fb6c50f51a5f6535e",
       "value": "sld"
      }
     },
     "c018c69f54244eb7a257e7ea3ceafce3": {
      "model_module": "@jupyter-widgets/controls",
      "model_module_version": "1.3.0",
      "model_name": "DescriptionStyleModel",
      "state": {
       "description_width": "0px"
      }
     },
     "c1314f7c55aa4dbeab0c5ab4b5f4555f": {
      "model_module": "@jupyter-widgets/controls",
      "model_module_version": "1.3.0",
      "model_name": "DescriptionStyleModel",
      "state": {
       "description_width": "120px"
      }
     },
     "c14117cc120348b59b06454b1103cf85": {
      "model_module": "@jupyter-widgets/controls",
      "model_module_version": "1.3.0",
      "model_name": "TextModel",
      "state": {
       "description": "dataset:",
       "disabled": true,
       "layout": "IPY_MODEL_8ac531f4468d4e4d92444a19167f4fe2",
       "style": "IPY_MODEL_fc061f31a15b4782913c89253318230e"
      }
     },
     "c25e6d0ce0c04752a1a403ff75273ade": {
      "model_module": "@jupyter-widgets/base",
      "model_module_version": "1.1.0",
      "model_name": "LayoutModel",
      "state": {}
     },
     "c263136de084479e9e7aedf0117fcf8d": {
      "model_module": "@jupyter-widgets/controls",
      "model_module_version": "1.3.0",
      "model_name": "DescriptionStyleModel",
      "state": {
       "description_width": ""
      }
     },
     "c2adae04d04f4defb44e49977ad4377d": {
      "model_module": "@jupyter-widgets/controls",
      "model_module_version": "1.3.0",
      "model_name": "CheckboxModel",
      "state": {
       "disabled": false,
       "layout": "IPY_MODEL_9317baa87d1641f4bdd2376050ca05dc",
       "style": "IPY_MODEL_172eaba6aac84ee2b67390a958a7623d",
       "value": false
      }
     },
     "c2bf7c31843e486dbe3219c108126b5c": {
      "model_module": "@jupyter-widgets/base",
      "model_module_version": "1.1.0",
      "model_name": "LayoutModel",
      "state": {}
     },
     "c31c385b3e334d4f928c2ce390d095d3": {
      "model_module": "@jupyter-widgets/controls",
      "model_module_version": "1.3.0",
      "model_name": "BoundedFloatTextModel",
      "state": {
       "layout": "IPY_MODEL_4075687aa07d4329ab4bdebc32176b9d",
       "max": 20,
       "style": "IPY_MODEL_d4998bfcc9dd425cbbbd26bcaf6dd552",
       "value": 20
      }
     },
     "c38aa7b4ff3c45bd8572cd170b172bee": {
      "model_module": "@jupyter-widgets/base",
      "model_module_version": "1.1.0",
      "model_name": "LayoutModel",
      "state": {
       "flex": "1 1 auto",
       "width": "auto"
      }
     },
     "c3bbb5701d3a410bb9401dd2c2de1111": {
      "model_module": "@jupyter-widgets/controls",
      "model_module_version": "1.3.0",
      "model_name": "HBoxModel",
      "state": {
       "children": [
        "IPY_MODEL_2495ae1950c54e5881c3e6a446d2721c",
        "IPY_MODEL_45d80306b3864819bf2f635a8c8bb1df",
        "IPY_MODEL_258d939c30e542cc88a183d5f9ff31b4",
        "IPY_MODEL_6391a30e388c4d489c451a7dbf75d827",
        "IPY_MODEL_9271e1b2f4c04c83897e92c3ecc6e7e7",
        "IPY_MODEL_766e510a97d747d6a87b73ae84621800",
        "IPY_MODEL_4ab6008e6efe4deb82a133018973d718",
        "IPY_MODEL_0b075140ff7b44c193437ac65edde026"
       ],
       "layout": "IPY_MODEL_68d95e4155914377bd9d02f950c70810"
      }
     },
     "c3e4c1cf64654326a9ee6a2a960187ee": {
      "model_module": "@jupyter-widgets/controls",
      "model_module_version": "1.3.0",
      "model_name": "DescriptionStyleModel",
      "state": {
       "description_width": ""
      }
     },
     "c4532a2d9984452081318c458ba93d83": {
      "model_module": "@jupyter-widgets/controls",
      "model_module_version": "1.3.0",
      "model_name": "DescriptionStyleModel",
      "state": {
       "description_width": "0px"
      }
     },
     "c4a91dd97a384a219d2245b05f2dcad1": {
      "model_module": "@jupyter-widgets/controls",
      "model_module_version": "1.3.0",
      "model_name": "FloatTextModel",
      "state": {
       "layout": "IPY_MODEL_7a525ee286a542749e20a23f627b059e",
       "step": 0.01,
       "style": "IPY_MODEL_f03b1e1a471c46dc86b53f7da6fc0b99"
      }
     },
     "c4ca7235b17842e48b7d52769cbeb4bf": {
      "model_module": "@jupyter-widgets/base",
      "model_module_version": "1.1.0",
      "model_name": "LayoutModel",
      "state": {}
     },
     "c4f545733a614e68ac7f7ccd278b36d8": {
      "model_module": "@jupyter-widgets/base",
      "model_module_version": "1.1.0",
      "model_name": "LayoutModel",
      "state": {}
     },
     "c581dc5699b444fbb633c24daa09389f": {
      "model_module": "@jupyter-widgets/controls",
      "model_module_version": "1.3.0",
      "model_name": "CheckboxModel",
      "state": {
       "disabled": false,
       "layout": "IPY_MODEL_ac90c4ff85f54adaba1d7cd16f439204",
       "style": "IPY_MODEL_2a8eeb4fe1f447af8a7143c9440a8c70",
       "value": false
      }
     },
     "c5d57f9192ae438eb7b3b8e16622a21f": {
      "model_module": "@jupyter-widgets/controls",
      "model_module_version": "1.3.0",
      "model_name": "FloatTextModel",
      "state": {
       "disabled": true,
       "layout": "IPY_MODEL_9af1f94d4ba04a53bb13640db04e838f",
       "step": 1,
       "style": "IPY_MODEL_b1b2501c050e46c09da1676942029cdb"
      }
     },
     "c73cc7846bfe487bacb735fa47969059": {
      "model_module": "@jupyter-widgets/base",
      "model_module_version": "1.1.0",
      "model_name": "LayoutModel",
      "state": {}
     },
     "c74c27e119e2478e80e474dd4189e5da": {
      "model_module": "@jupyter-widgets/controls",
      "model_module_version": "1.3.0",
      "model_name": "DescriptionStyleModel",
      "state": {
       "description_width": "0px"
      }
     },
     "c7545b8f8d324fcf9d878fd7ddac3a7f": {
      "model_module": "@jupyter-widgets/controls",
      "model_module_version": "1.3.0",
      "model_name": "DescriptionStyleModel",
      "state": {
       "description_width": ""
      }
     },
     "c76c284228b94da3b405192eaf286fdd": {
      "model_module": "@jupyter-widgets/controls",
      "model_module_version": "1.3.0",
      "model_name": "RadioButtonsModel",
      "state": {
       "_options_labels": [
        "Yes",
        "No"
       ],
       "description": "use dataset weights?",
       "index": 0,
       "layout": "IPY_MODEL_e1407999c54b4e1e88aaf1f670c800f6",
       "style": "IPY_MODEL_15e9821a369d46be99d5a24dba075c41"
      }
     },
     "c783381e15dd41388c618862795a95f7": {
      "model_module": "@jupyter-widgets/base",
      "model_module_version": "1.1.0",
      "model_name": "LayoutModel",
      "state": {
       "width": "10%"
      }
     },
     "c7ac626357d14e099c1759ff305f2353": {
      "model_module": "@jupyter-widgets/base",
      "model_module_version": "1.1.0",
      "model_name": "LayoutModel",
      "state": {}
     },
     "c877acd15129471ba45fa4abc4f52591": {
      "model_module": "@jupyter-widgets/controls",
      "model_module_version": "1.3.0",
      "model_name": "VBoxModel",
      "state": {
       "children": [
        "IPY_MODEL_e470e09783c244c5943be98c45e6dfca",
        "IPY_MODEL_77a10a9d46ab42628057abb4ce5d204f",
        "IPY_MODEL_586b17e53ff648a6a236dc44c5946670"
       ],
       "layout": "IPY_MODEL_224dc0c686a04831a9f56bd071d87038"
      }
     },
     "c8f40647fa1e4ee9827fd87544808b67": {
      "model_module": "@jupyter-widgets/controls",
      "model_module_version": "1.3.0",
      "model_name": "CheckboxModel",
      "state": {
       "disabled": false,
       "layout": "IPY_MODEL_06bf4a2eddc94561a07b606ff959da10",
       "style": "IPY_MODEL_7c1864fffbf54961aa49f49fb7e43585",
       "value": false
      }
     },
     "ca537704d52242d6ad3fb911147ba821": {
      "model_module": "@jupyter-widgets/controls",
      "model_module_version": "1.3.0",
      "model_name": "DescriptionStyleModel",
      "state": {
       "description_width": "120px"
      }
     },
     "ca54219bf3124271bc84bab6ac183a6d": {
      "model_module": "@jupyter-widgets/controls",
      "model_module_version": "1.3.0",
      "model_name": "DescriptionStyleModel",
      "state": {
       "description_width": ""
      }
     },
     "ca67e064e8704882893dc1e5c55f1300": {
      "model_module": "@jupyter-widgets/base",
      "model_module_version": "1.1.0",
      "model_name": "LayoutModel",
      "state": {}
     },
     "cad217d63f68426cbc7affdc668f1487": {
      "model_module": "@jupyter-widgets/base",
      "model_module_version": "1.1.0",
      "model_name": "LayoutModel",
      "state": {}
     },
     "cbc40275bb224d7394fdd497b4e238ec": {
      "model_module": "@jupyter-widgets/base",
      "model_module_version": "1.1.0",
      "model_name": "LayoutModel",
      "state": {}
     },
     "cbe3a480fb2d4227adc5e285ea16b6f8": {
      "model_module": "@jupyter-widgets/base",
      "model_module_version": "1.1.0",
      "model_name": "LayoutModel",
      "state": {}
     },
     "cd5eb5fd24d34255abf122ac2aaae5aa": {
      "model_module": "@jupyter-widgets/controls",
      "model_module_version": "1.3.0",
      "model_name": "FloatTextModel",
      "state": {
       "layout": "IPY_MODEL_b8840397ea70425ebf413fbc61371d41",
       "step": 0.01,
       "style": "IPY_MODEL_0b85cc06ee084747b06029e0230a84e3"
      }
     },
     "cdac275dd71842488c5b62545866fb66": {
      "model_module": "@jupyter-widgets/controls",
      "model_module_version": "1.3.0",
      "model_name": "DescriptionStyleModel",
      "state": {
       "description_width": ""
      }
     },
     "cddab5291abf48cbaed80e04e6cee00c": {
      "model_module": "@jupyter-widgets/base",
      "model_module_version": "1.1.0",
      "model_name": "LayoutModel",
      "state": {}
     },
     "ce2dc0ef5dbe4a2ca17ee3b35b0cf3fa": {
      "model_module": "@jupyter-widgets/controls",
      "model_module_version": "1.3.0",
      "model_name": "DescriptionStyleModel",
      "state": {
       "description_width": ""
      }
     },
     "ce7074aba0884a42aeb3c377d9657696": {
      "model_module": "@jupyter-widgets/base",
      "model_module_version": "1.1.0",
      "model_name": "LayoutModel",
      "state": {}
     },
     "ce80e5e3ced046729c62e94e5743c098": {
      "model_module": "@jupyter-widgets/controls",
      "model_module_version": "1.3.0",
      "model_name": "FloatTextModel",
      "state": {
       "description": "chi-squared:",
       "disabled": true,
       "layout": "IPY_MODEL_23dd0e6fd9de47fa926dad02147385b2",
       "step": null,
       "style": "IPY_MODEL_e28a77a669de40f3b9c5c512210713cf"
      }
     },
     "ce8affc0e8fb4bb2967b1453bde6b369": {
      "model_module": "@jupyter-widgets/controls",
      "model_module_version": "1.3.0",
      "model_name": "DescriptionStyleModel",
      "state": {
       "description_width": ""
      }
     },
     "cea9ca2407a54b3d83260ed1d4d418e9": {
      "model_module": "@jupyter-widgets/controls",
      "model_module_version": "1.3.0",
      "model_name": "FloatTextModel",
      "state": {
       "layout": "IPY_MODEL_08d7a159719d4d12bd29777ac1cdd417",
       "step": 0.01,
       "style": "IPY_MODEL_b97f4f3dc48b4b3e8e94f890169c04ab",
       "value": 0.1
      }
     },
     "cef64ad2564b48408782abc103b5ff06": {
      "model_module": "@jupyter-widgets/controls",
      "model_module_version": "1.3.0",
      "model_name": "ButtonStyleModel",
      "state": {}
     },
     "cf917e546c974a4692429d052141a725": {
      "model_module": "@jupyter-widgets/controls",
      "model_module_version": "1.3.0",
      "model_name": "DescriptionStyleModel",
      "state": {
       "description_width": "0px"
      }
     },
     "cf9cbfc84129424fb3e6b826da84d2ba": {
      "model_module": "@jupyter-widgets/controls",
      "model_module_version": "1.3.0",
      "model_name": "FloatTextModel",
      "state": {
       "layout": "IPY_MODEL_1d6ffd1f45404e679417f43765db70df",
       "step": 0.01,
       "style": "IPY_MODEL_714b4dad5886432a81ed49b9e18b7554"
      }
     },
     "cfbb2fd153b8482ead5e2e6b6df0758f": {
      "model_module": "@jupyter-widgets/controls",
      "model_module_version": "1.3.0",
      "model_name": "VBoxModel",
      "state": {
       "children": [
        "IPY_MODEL_21a96e556626402a85affbe806333011",
        "IPY_MODEL_b465508bc82144769137e1fde401f72c",
        "IPY_MODEL_712955ed0b584075850ab2b79954f3de",
        "IPY_MODEL_f143037e7cb54e09b230e0bb33415c19",
        "IPY_MODEL_306f6b7d6e5447058ab74dc5addfb3d0",
        "IPY_MODEL_97eaa5a8d24646c4bc9dad5b946d4703"
       ],
       "layout": "IPY_MODEL_f80a93eea140490aa9411bbd10f95b3d"
      }
     },
     "cfc1ea55b11b4694a76a86f1d8b188ef": {
      "model_module": "@jupyter-widgets/controls",
      "model_module_version": "1.3.0",
      "model_name": "FloatTextModel",
      "state": {
       "layout": "IPY_MODEL_6cf30fc681164c4cae6e846e88b36609",
       "step": 0.01,
       "style": "IPY_MODEL_e5a7c70805a5445fb2e135aeb4c90ef5"
      }
     },
     "d043b5dfac314a59bbbea1c8d6c621cb": {
      "model_module": "@jupyter-widgets/controls",
      "model_module_version": "1.3.0",
      "model_name": "DescriptionStyleModel",
      "state": {
       "description_width": ""
      }
     },
     "d0ba51d5a8c94d3ca18d28b57bfb2a8f": {
      "model_module": "@jupyter-widgets/base",
      "model_module_version": "1.1.0",
      "model_name": "LayoutModel",
      "state": {}
     },
     "d11fb94819fa43499cce8c9be5f19dc9": {
      "model_module": "@jupyter-widgets/base",
      "model_module_version": "1.1.0",
      "model_name": "LayoutModel",
      "state": {}
     },
     "d125fcd00a5e44b088302f3318f618ba": {
      "model_module": "@jupyter-widgets/base",
      "model_module_version": "1.1.0",
      "model_name": "LayoutModel",
      "state": {}
     },
     "d13e10bccca44ef2894ff071ef5f2ba4": {
      "model_module": "@jupyter-widgets/base",
      "model_module_version": "1.1.0",
      "model_name": "LayoutModel",
      "state": {}
     },
     "d1701d761f744e63a420b42aa21d5e5f": {
      "model_module": "@jupyter-widgets/controls",
      "model_module_version": "1.3.0",
      "model_name": "DescriptionStyleModel",
      "state": {
       "description_width": ""
      }
     },
     "d1a01a5cd45f4ce6b96dc2076620585b": {
      "model_module": "@jupyter-widgets/controls",
      "model_module_version": "1.3.0",
      "model_name": "FloatTextModel",
      "state": {
       "layout": "IPY_MODEL_175c00f19cf24a2c8322b2b7af147b28",
       "step": 1,
       "style": "IPY_MODEL_4a6d0c9bb9ba48c79db16857737440b7",
       "value": 3
      }
     },
     "d1cb373711224b03b04653815ffa965d": {
      "model_module": "@jupyter-widgets/base",
      "model_module_version": "1.1.0",
      "model_name": "LayoutModel",
      "state": {}
     },
     "d1ce0d6ccb9b48e9996f6c0b63beea4f": {
      "model_module": "@jupyter-widgets/controls",
      "model_module_version": "1.3.0",
      "model_name": "DescriptionStyleModel",
      "state": {
       "description_width": "0px"
      }
     },
     "d1fa5c68cbf14a9cafda3ccfb72973c6": {
      "model_module": "@jupyter-widgets/controls",
      "model_module_version": "1.3.0",
      "model_name": "VBoxModel",
      "state": {
       "children": [
        "IPY_MODEL_2c87ae0ec3cc4d588c573e79e1a95220",
        "IPY_MODEL_1e6f69a1537645b5b762e5d161a9d57e"
       ],
       "layout": "IPY_MODEL_e98bf21b8f0b40c88b16b792a950e122"
      }
     },
     "d2156545fabe44439e6557fd3e4174da": {
      "model_module": "@jupyter-widgets/base",
      "model_module_version": "1.1.0",
      "model_name": "LayoutModel",
      "state": {}
     },
     "d2968afc266f49048cde72e86597c4a7": {
      "model_module": "@jupyter-widgets/controls",
      "model_module_version": "1.3.0",
      "model_name": "FloatTextModel",
      "state": {
       "layout": "IPY_MODEL_8707f6c979a94030bff93973f1c58d51",
       "step": 0.01,
       "style": "IPY_MODEL_ca54219bf3124271bc84bab6ac183a6d"
      }
     },
     "d2a40d4a3ad04ce4b1100ddd0d97d2bc": {
      "model_module": "@jupyter-widgets/controls",
      "model_module_version": "1.3.0",
      "model_name": "FloatTextModel",
      "state": {
       "layout": "IPY_MODEL_296c7bb80f5d49718f3c171f37c268e7",
       "step": null,
       "style": "IPY_MODEL_54d4fef96b894ac0ac12e13ea1710b2a"
      }
     },
     "d3991872860e49568975c91fda480064": {
      "model_module": "@jupyter-widgets/controls",
      "model_module_version": "1.3.0",
      "model_name": "ButtonModel",
      "state": {
       "description": "To code",
       "layout": "IPY_MODEL_ac5f18b4eb584dc980f2d9d7d3a17f19",
       "style": "IPY_MODEL_9c9eb88770a14da180fe5714ead12e10"
      }
     },
     "d42c2e45f74a402db2e8a0cb0b352ca8": {
      "model_module": "@jupyter-widgets/controls",
      "model_module_version": "1.3.0",
      "model_name": "DescriptionStyleModel",
      "state": {
       "description_width": ""
      }
     },
     "d43a63c1e25240ed85294cc11cd78096": {
      "model_module": "@jupyter-widgets/controls",
      "model_module_version": "1.3.0",
      "model_name": "CheckboxModel",
      "state": {
       "disabled": false,
       "layout": "IPY_MODEL_528d08f8aeed47bdb99d39170d3ee8fa",
       "style": "IPY_MODEL_5ec751177cc744368f27cd41608e95e5",
       "value": false
      }
     },
     "d4998bfcc9dd425cbbbd26bcaf6dd552": {
      "model_module": "@jupyter-widgets/controls",
      "model_module_version": "1.3.0",
      "model_name": "DescriptionStyleModel",
      "state": {
       "description_width": ""
      }
     },
     "d4c4ddb9ea814e56a28b3afc0fad1e8b": {
      "model_module": "@jupyter-widgets/base",
      "model_module_version": "1.1.0",
      "model_name": "LayoutModel",
      "state": {}
     },
     "d55bd3f9cadd4ed294f503ca42a6ee46": {
      "model_module": "@jupyter-widgets/controls",
      "model_module_version": "1.3.0",
      "model_name": "DescriptionStyleModel",
      "state": {
       "description_width": ""
      }
     },
     "d56ef38921364d2cbd22e1cc224a1d01": {
      "model_module": "@jupyter-widgets/base",
      "model_module_version": "1.1.0",
      "model_name": "LayoutModel",
      "state": {}
     },
     "d5c61d0891b6462db74c3cab382cbd95": {
      "model_module": "@jupyter-widgets/base",
      "model_module_version": "1.1.0",
      "model_name": "LayoutModel",
      "state": {}
     },
     "d5daaa9eaef243f982a971fbd88f611e": {
      "model_module": "@jupyter-widgets/controls",
      "model_module_version": "1.3.0",
      "model_name": "DescriptionStyleModel",
      "state": {
       "description_width": ""
      }
     },
     "d5dc468979b548d5b4b451bb8adb00a6": {
      "model_module": "@jupyter-widgets/base",
      "model_module_version": "1.1.0",
      "model_name": "LayoutModel",
      "state": {}
     },
     "d643c63ad39d4c7988030473953ed6b5": {
      "model_module": "@jupyter-widgets/controls",
      "model_module_version": "1.3.0",
      "model_name": "FloatTextModel",
      "state": {
       "layout": "IPY_MODEL_d9bc8a5056f748cc8e4ca41f6739e171",
       "step": 0.01,
       "style": "IPY_MODEL_74e91a3de8044fd6909e3d5d55e31af0",
       "value": 4.14
      }
     },
     "d65ca2b9ef5642a385758f0f1d733093": {
      "model_module": "@jupyter-widgets/controls",
      "model_module_version": "1.3.0",
      "model_name": "DescriptionStyleModel",
      "state": {
       "description_width": ""
      }
     },
     "d6798f50cbe14a7fbd998a1a6ed1fdfa": {
      "model_module": "@jupyter-widgets/controls",
      "model_module_version": "1.3.0",
      "model_name": "FloatTextModel",
      "state": {
       "layout": "IPY_MODEL_d13e10bccca44ef2894ff071ef5f2ba4",
       "step": 0.01,
       "style": "IPY_MODEL_23dc85dade2b4688b390657b86fcef56",
       "value": 3.47
      }
     },
     "d6bc684c4cb946d6abd4d2e576399dec": {
      "model_module": "@jupyter-widgets/controls",
      "model_module_version": "1.3.0",
      "model_name": "HBoxModel",
      "state": {
       "children": [
        "IPY_MODEL_398350e780f84ac6ac8769561118bff5",
        "IPY_MODEL_3826106276cc43e7b65eeaab5905f867"
       ],
       "layout": "IPY_MODEL_2f9ee1ec8de94fda942d7f3d047c3c5d"
      }
     },
     "d6e731f0cbbb42649947024f49ae62a2": {
      "model_module": "@jupyter-widgets/controls",
      "model_module_version": "1.3.0",
      "model_name": "DescriptionStyleModel",
      "state": {
       "description_width": ""
      }
     },
     "d7a2600a20394d81b91a7b4846e15b9b": {
      "model_module": "@jupyter-widgets/controls",
      "model_module_version": "1.3.0",
      "model_name": "FloatTextModel",
      "state": {
       "layout": "IPY_MODEL_84346a750c4e48298bd3afa362f757ee",
       "step": 0.01,
       "style": "IPY_MODEL_5a827f55a0f142fd908a75f30c585cfa"
      }
     },
     "d7acab0fee674362a4392a5bf8b43809": {
      "model_module": "@jupyter-widgets/controls",
      "model_module_version": "1.3.0",
      "model_name": "FloatTextModel",
      "state": {
       "layout": "IPY_MODEL_7a14f9433ff944f4a1204940719e66ab",
       "step": 0.01,
       "style": "IPY_MODEL_7306c37122e44bb89a4156267e2148bc"
      }
     },
     "d8c741f8d38d4539acccf431f8bb8aa9": {
      "model_module": "@jupyter-widgets/base",
      "model_module_version": "1.1.0",
      "model_name": "LayoutModel",
      "state": {}
     },
     "d9bc8a5056f748cc8e4ca41f6739e171": {
      "model_module": "@jupyter-widgets/base",
      "model_module_version": "1.1.0",
      "model_name": "LayoutModel",
      "state": {}
     },
     "d9e56949086642269c6a7b87ed2b80e7": {
      "model_module": "@jupyter-widgets/controls",
      "model_module_version": "1.3.0",
      "model_name": "DescriptionStyleModel",
      "state": {
       "description_width": ""
      }
     },
     "d9e8ab7bafe542b0a2debaccfb378e31": {
      "model_module": "@jupyter-widgets/controls",
      "model_module_version": "1.3.0",
      "model_name": "HBoxModel",
      "state": {
       "children": [
        "IPY_MODEL_f06281a484294ccab8fbaf88d4714e99",
        "IPY_MODEL_126881b77f0349359b03715e0f363ce8"
       ],
       "layout": "IPY_MODEL_e33d3ce6a59f40b09c4cff940d38dcec"
      }
     },
     "d9fb4dfe69fd4a8ba496c71ac456154a": {
      "model_module": "@jupyter-widgets/controls",
      "model_module_version": "1.3.0",
      "model_name": "FloatTextModel",
      "state": {
       "layout": "IPY_MODEL_1fa15b9103b946bebdb868cb534ae4e4",
       "step": 0.01,
       "style": "IPY_MODEL_321cd952fec2418890fc001f1e1c2858"
      }
     },
     "da0602b4e28348e3985436768c08836e": {
      "model_module": "@jupyter-widgets/base",
      "model_module_version": "1.1.0",
      "model_name": "LayoutModel",
      "state": {}
     },
     "da65ed1855e84180b22425362b524fd5": {
      "model_module": "@jupyter-widgets/controls",
      "model_module_version": "1.3.0",
      "model_name": "DescriptionStyleModel",
      "state": {
       "description_width": ""
      }
     },
     "dab635e857e64a6e9b995dcd1f76261f": {
      "model_module": "@jupyter-widgets/controls",
      "model_module_version": "1.3.0",
      "model_name": "HBoxModel",
      "state": {
       "children": [
        "IPY_MODEL_b986179b9a7d4e569271fe2252b06b94",
        "IPY_MODEL_f5f1653e0ccd48f6984c30d94fc442fb",
        "IPY_MODEL_7d1351294fe54f6db3812495e9e08628",
        "IPY_MODEL_1bb492752dac4acfaae5ccc3807a4627"
       ],
       "layout": "IPY_MODEL_bb9041ed7ecd4362bdba29fbcd41e6b5"
      }
     },
     "dac7093c5ef44072b98f36d44539ee31": {
      "model_module": "@jupyter-widgets/controls",
      "model_module_version": "1.3.0",
      "model_name": "DescriptionStyleModel",
      "state": {
       "description_width": ""
      }
     },
     "dadd70a4a96041f6a3ff4118acb958c6": {
      "model_module": "@jupyter-widgets/base",
      "model_module_version": "1.1.0",
      "model_name": "LayoutModel",
      "state": {}
     },
     "dae9cf8f00c94a5cbea2793dde200467": {
      "model_module": "@jupyter-widgets/base",
      "model_module_version": "1.1.0",
      "model_name": "LayoutModel",
      "state": {}
     },
     "db69f5293e334a6d9f7053041ef30890": {
      "model_module": "@jupyter-widgets/base",
      "model_module_version": "1.1.0",
      "model_name": "LayoutModel",
      "state": {}
     },
     "dcb466fb4a504e31801202a85a524870": {
      "model_module": "@jupyter-widgets/controls",
      "model_module_version": "1.3.0",
      "model_name": "DescriptionStyleModel",
      "state": {
       "description_width": ""
      }
     },
     "dcd56147870f47a58e30dfa0d1cdedf1": {
      "model_module": "@jupyter-widgets/base",
      "model_module_version": "1.1.0",
      "model_name": "LayoutModel",
      "state": {}
     },
     "dd406996a7c54a7a8c233bed483eb524": {
      "model_module": "@jupyter-widgets/controls",
      "model_module_version": "1.3.0",
      "model_name": "FloatTextModel",
      "state": {
       "layout": "IPY_MODEL_b90f1b7b46d5495e80ac168c38e963db",
       "step": 0.01,
       "style": "IPY_MODEL_580c1ad5f6a84d1c966c8277f8adc6d9",
       "value": 6
      }
     },
     "dd631fab0ed14f0495c16fa6f5f1e985": {
      "model_module": "@jupyter-widgets/controls",
      "model_module_version": "1.3.0",
      "model_name": "VBoxModel",
      "state": {
       "children": [
        "IPY_MODEL_3e27da82ea88409790d9a7388398e57e",
        "IPY_MODEL_0d8efcb9bc04496d8a16a10f406ee3fc",
        "IPY_MODEL_ffe8e461bd3249e181429353a1979cd5",
        "IPY_MODEL_9ddb7b676bf546ad8dccdecb806ea240"
       ],
       "layout": "IPY_MODEL_980df8e75ce14366a817234d2bd4b58e"
      }
     },
     "dec46c3d22014c23a490387e3e83d3ea": {
      "model_module": "@jupyter-widgets/base",
      "model_module_version": "1.1.0",
      "model_name": "LayoutModel",
      "state": {}
     },
     "df0dda4f24954debaea524e7ef6346e4": {
      "model_module": "@jupyter-widgets/controls",
      "model_module_version": "1.3.0",
      "model_name": "TabModel",
      "state": {
       "_titles": {
        "0": "Model",
        "1": "Limits",
        "2": "Options"
       },
       "children": [
        "IPY_MODEL_b1028ca608c34c93aecadc364adbe9cf",
        "IPY_MODEL_9fafbb1659dd4c81a2703d1f8c5d5b67",
        "IPY_MODEL_5ff63e8818284585abbdcb449f329fd5"
       ],
       "layout": "IPY_MODEL_a627d181465f497bbe04df9f957cad78"
      }
     },
     "df6543e47e144968b82dcfa5953a7aed": {
      "model_module": "@jupyter-widgets/controls",
      "model_module_version": "1.3.0",
      "model_name": "DescriptionStyleModel",
      "state": {
       "description_width": ""
      }
     },
     "df7dca3e3952482b98ce764012214922": {
      "model_module": "@jupyter-widgets/controls",
      "model_module_version": "1.3.0",
      "model_name": "HBoxModel",
      "state": {
       "children": [
        "IPY_MODEL_a678df8ddd2c4aa0bbe39283ce18a05e",
        "IPY_MODEL_56ba1c0047b64dad92944733cc6b156d",
        "IPY_MODEL_37e9bc790b6f424582bc8ecd10e6b36b",
        "IPY_MODEL_e56396309ce64fe282b166b073457e7f",
        "IPY_MODEL_9283db28d09f4849b34bc28ed15adc1d",
        "IPY_MODEL_0446476ee4bc4aabb8e0a8e8a6b3b438",
        "IPY_MODEL_a3bd9d03b13c451897a292c0cda90ed3",
        "IPY_MODEL_2fa2680a21294d3c8dfe6ac3092d63b8"
       ],
       "layout": "IPY_MODEL_8433e476ab6a4efd830f3e05c0fb69dd"
      }
     },
     "dfb9de55eecc46fbbb1893f3e2c9a041": {
      "model_module": "@jupyter-widgets/controls",
      "model_module_version": "1.3.0",
      "model_name": "DescriptionStyleModel",
      "state": {
       "description_width": ""
      }
     },
     "dfea5de35f9646b394cd4795f19eb632": {
      "model_module": "@jupyter-widgets/base",
      "model_module_version": "1.1.0",
      "model_name": "LayoutModel",
      "state": {}
     },
     "e13d06bd729c4edab91a01fc133bce60": {
      "model_module": "@jupyter-widgets/controls",
      "model_module_version": "1.3.0",
      "model_name": "DescriptionStyleModel",
      "state": {
       "description_width": ""
      }
     },
     "e1407999c54b4e1e88aaf1f670c800f6": {
      "model_module": "@jupyter-widgets/base",
      "model_module_version": "1.1.0",
      "model_name": "LayoutModel",
      "state": {}
     },
     "e1d4864a2eca49df8d6881e781f721f8": {
      "model_module": "@jupyter-widgets/base",
      "model_module_version": "1.1.0",
      "model_name": "LayoutModel",
      "state": {}
     },
     "e200cfe8eaf44036b66b60ea76a63abf": {
      "model_module": "@jupyter-widgets/base",
      "model_module_version": "1.1.0",
      "model_name": "LayoutModel",
      "state": {}
     },
     "e28a77a669de40f3b9c5c512210713cf": {
      "model_module": "@jupyter-widgets/controls",
      "model_module_version": "1.3.0",
      "model_name": "DescriptionStyleModel",
      "state": {
       "description_width": ""
      }
     },
     "e2a75088975d41a99e54f6e90c9ccab3": {
      "model_module": "@jupyter-widgets/controls",
      "model_module_version": "1.3.0",
      "model_name": "FloatTextModel",
      "state": {
       "layout": "IPY_MODEL_fdfdb3a152f14c29ba8a152f998967f3",
       "step": 0.01,
       "style": "IPY_MODEL_b233a4531c2b4c87a40a6ef96e123f1a"
      }
     },
     "e2badd0ac13c4d878779a0dfc6332684": {
      "model_module": "@jupyter-widgets/controls",
      "model_module_version": "1.3.0",
      "model_name": "ButtonModel",
      "state": {
       "description": "Do Fit",
       "layout": "IPY_MODEL_10fe5b23fb59405299cf23b99e89ce4b",
       "style": "IPY_MODEL_3ccceb6e512d4ffb8b39af4ab5974923"
      }
     },
     "e2ccb9cbcd0c48569aa917b0e708afcc": {
      "model_module": "@jupyter-widgets/controls",
      "model_module_version": "1.3.0",
      "model_name": "FloatTextModel",
      "state": {
       "layout": "IPY_MODEL_c7ac626357d14e099c1759ff305f2353",
       "step": 1,
       "style": "IPY_MODEL_635a06ec1d14447aac4512063e47284c",
       "value": 3
      }
     },
     "e33d3ce6a59f40b09c4cff940d38dcec": {
      "model_module": "@jupyter-widgets/base",
      "model_module_version": "1.1.0",
      "model_name": "LayoutModel",
      "state": {}
     },
     "e430d0f70f45496180d186860c279922": {
      "model_module": "@jupyter-widgets/base",
      "model_module_version": "1.1.0",
      "model_name": "LayoutModel",
      "state": {
       "width": "100%"
      }
     },
     "e46f513e49ec4a77ae6321e7db360666": {
      "model_module": "@jupyter-widgets/controls",
      "model_module_version": "1.3.0",
      "model_name": "DescriptionStyleModel",
      "state": {
       "description_width": "0px"
      }
     },
     "e470e09783c244c5943be98c45e6dfca": {
      "model_module": "@jupyter-widgets/controls",
      "model_module_version": "1.3.0",
      "model_name": "DropdownModel",
      "state": {
       "_options_labels": [
        "lin",
        "logY",
        "YX4",
        "YX2"
       ],
       "description": "Plot Type:",
       "index": 0,
       "layout": "IPY_MODEL_c4f545733a614e68ac7f7ccd278b36d8",
       "style": "IPY_MODEL_99cf27c261714bd08e3c028877225e19"
      }
     },
     "e49e05f1471e4075a512941aae96e395": {
      "model_module": "@jupyter-widgets/base",
      "model_module_version": "1.1.0",
      "model_name": "LayoutModel",
      "state": {}
     },
     "e4fd508cd2024107878b6c5a85664d2f": {
      "model_module": "@jupyter-widgets/controls",
      "model_module_version": "1.3.0",
      "model_name": "HBoxModel",
      "state": {
       "children": [
        "IPY_MODEL_bce0422b92004296a525a471aae18b1f",
        "IPY_MODEL_ff8b3f942eff4169bf86b089df193ee2",
        "IPY_MODEL_0e0cf76d7c8942b5b7ddddb24bc44374",
        "IPY_MODEL_51504f4eaea14b418317e3138ed22b00"
       ],
       "layout": "IPY_MODEL_af1781b1e0a641608bdf88b1016a7f11"
      }
     },
     "e510ba4cb1c5471b82a2866ef3acb733": {
      "model_module": "@jupyter-widgets/controls",
      "model_module_version": "1.3.0",
      "model_name": "FloatTextModel",
      "state": {
       "layout": "IPY_MODEL_2c75de1f775342a5a7f084cca74a449e",
       "step": 1,
       "style": "IPY_MODEL_dfb9de55eecc46fbbb1893f3e2c9a041"
      }
     },
     "e518f105285f41ab9afe301ed513c356": {
      "model_module": "@jupyter-widgets/base",
      "model_module_version": "1.1.0",
      "model_name": "LayoutModel",
      "state": {}
     },
     "e56396309ce64fe282b166b073457e7f": {
      "model_module": "@jupyter-widgets/controls",
      "model_module_version": "1.3.0",
      "model_name": "CheckboxModel",
      "state": {
       "disabled": false,
       "layout": "IPY_MODEL_a61936435b8842269f44c60e33c227fb",
       "style": "IPY_MODEL_c4532a2d9984452081318c458ba93d83",
       "value": false
      }
     },
     "e5a7c70805a5445fb2e135aeb4c90ef5": {
      "model_module": "@jupyter-widgets/controls",
      "model_module_version": "1.3.0",
      "model_name": "DescriptionStyleModel",
      "state": {
       "description_width": ""
      }
     },
     "e5cf5ca9bb7f4a59b46b1fb6a0212f3b": {
      "model_module": "@jupyter-widgets/controls",
      "model_module_version": "1.3.0",
      "model_name": "VBoxModel",
      "state": {
       "children": [
        "IPY_MODEL_4af2156e3c7a48319a2bd947bd681057",
        "IPY_MODEL_c76c284228b94da3b405192eaf286fdd",
        "IPY_MODEL_0c209097643345378460c9b646959adf"
       ],
       "layout": "IPY_MODEL_d2156545fabe44439e6557fd3e4174da"
      }
     },
     "e634ceef09ea4fcbb2bc639be734a691": {
      "model_module": "@jupyter-widgets/controls",
      "model_module_version": "1.3.0",
      "model_name": "CheckboxModel",
      "state": {
       "disabled": true,
       "layout": "IPY_MODEL_0ae4b6f468434e099bd8cdbb03ab151e",
       "style": "IPY_MODEL_7080252e96ea44e89aa967436f8f26db",
       "value": false
      }
     },
     "e68b73f1766344b3a9ab6e42c30208eb": {
      "model_module": "@jupyter-widgets/base",
      "model_module_version": "1.1.0",
      "model_name": "LayoutModel",
      "state": {}
     },
     "e73efb2d5835475a890dbf2c60136d37": {
      "model_module": "@jupyter-widgets/controls",
      "model_module_version": "1.3.0",
      "model_name": "HTMLModel",
      "state": {
       "layout": "IPY_MODEL_717feb136ef64e5e88219e199879f92a",
       "style": "IPY_MODEL_a29f899837164bf18374dc436d49cb0e",
       "value": "isld"
      }
     },
     "e7540c6996b14a7288e598dc41f79a3c": {
      "model_module": "@jupyter-widgets/controls",
      "model_module_version": "1.3.0",
      "model_name": "DescriptionStyleModel",
      "state": {
       "description_width": ""
      }
     },
     "e75f213bb1984459b48702fb5342fdda": {
      "model_module": "@jupyter-widgets/controls",
      "model_module_version": "1.3.0",
      "model_name": "FloatTextModel",
      "state": {
       "layout": "IPY_MODEL_5fbf2fb9abd2479f95a5059941732f57",
       "step": 0.01,
       "style": "IPY_MODEL_14a08fd47ac5438290d800a3eb5605ee"
      }
     },
     "e7c60e161e454fb288c0fb5414cc716e": {
      "model_module": "@jupyter-widgets/base",
      "model_module_version": "1.1.0",
      "model_name": "LayoutModel",
      "state": {}
     },
     "e7f0fb596860461d8120b65fffac10d6": {
      "model_module": "@jupyter-widgets/controls",
      "model_module_version": "1.3.0",
      "model_name": "DescriptionStyleModel",
      "state": {
       "description_width": ""
      }
     },
     "e8275f9a72e24187bf8a9f97e3722170": {
      "model_module": "@jupyter-widgets/base",
      "model_module_version": "1.1.0",
      "model_name": "LayoutModel",
      "state": {}
     },
     "e88013f1d15b4525b6d3ecb4bd76a246": {
      "model_module": "@jupyter-widgets/controls",
      "model_module_version": "1.3.0",
      "model_name": "FloatTextModel",
      "state": {
       "layout": "IPY_MODEL_ed9a23fe757a4a2ca40c7cf65e0433cb",
       "step": 0.01,
       "style": "IPY_MODEL_92bf048cbbc7470fb6f890f0b8f73167"
      }
     },
     "e896e06001464f1e941fdd15b06de0e2": {
      "model_module": "@jupyter-widgets/controls",
      "model_module_version": "1.3.0",
      "model_name": "DescriptionStyleModel",
      "state": {
       "description_width": "0px"
      }
     },
     "e8cc7ac1ef8a43128a1fdf50c9a11fb3": {
      "model_module": "@jupyter-widgets/controls",
      "model_module_version": "1.3.0",
      "model_name": "DescriptionStyleModel",
      "state": {
       "description_width": ""
      }
     },
     "e91367fc56c34786aba8b618d440e983": {
      "model_module": "@jupyter-widgets/controls",
      "model_module_version": "1.3.0",
      "model_name": "FloatTextModel",
      "state": {
       "layout": "IPY_MODEL_35dbce8029a348289c9a914fc32cc864",
       "step": 1,
       "style": "IPY_MODEL_3559793a8d804ac5bd5e001e95c4a51c"
      }
     },
     "e9152d817a884887a837716ca6ecc054": {
      "model_module": "@jupyter-widgets/controls",
      "model_module_version": "1.3.0",
      "model_name": "HBoxModel",
      "state": {
       "children": [
        "IPY_MODEL_a89f9716760f4a2f9cb745df2d0b3aa9",
        "IPY_MODEL_ee52a65860ae48b4ae4e2d6171681761",
        "IPY_MODEL_76bf9b193fda43b08869104df4b7174e",
        "IPY_MODEL_2edbf761e42a4e33ab8afce7921ffbbb",
        "IPY_MODEL_edaf00249c464344b67446be9149443e",
        "IPY_MODEL_810d7d4f666546268ac91799ec8b24d0",
        "IPY_MODEL_e2ccb9cbcd0c48569aa917b0e708afcc",
        "IPY_MODEL_965699a2e7c24bcebada82d4cfccf90b"
       ],
       "layout": "IPY_MODEL_ed11f8936cb647189343ff2ef9cc7ac0"
      }
     },
     "e94987b23bbc4f51be8ee6fd6d32c736": {
      "model_module": "@jupyter-widgets/controls",
      "model_module_version": "1.3.0",
      "model_name": "DescriptionStyleModel",
      "state": {
       "description_width": "0px"
      }
     },
     "e98bf21b8f0b40c88b16b792a950e122": {
      "model_module": "@jupyter-widgets/base",
      "model_module_version": "1.1.0",
      "model_name": "LayoutModel",
      "state": {}
     },
     "e9e21cd7688f4df381bb752d82640654": {
      "model_module": "@jupyter-widgets/controls",
      "model_module_version": "1.3.0",
      "model_name": "VBoxModel",
      "state": {
       "children": [
        "IPY_MODEL_34a5a63ab9d14006b0efc9230b11a770",
        "IPY_MODEL_1727e8ce2c6945dbb3448c09f7b32fad",
        "IPY_MODEL_58a3303253554effb39ad87fff82dc97",
        "IPY_MODEL_529860ea45774c279a29c168b3b60800",
        "IPY_MODEL_095dbe833f8d4f34a9adcb5912716f74",
        "IPY_MODEL_8641306bec3b459493823fca6463ac1d"
       ],
       "layout": "IPY_MODEL_42fff8cd8c854384915de0cc45e91fda"
      }
     },
     "ea44127d7f8b4447ad30a9817aebd78f": {
      "model_module": "@jupyter-widgets/controls",
      "model_module_version": "1.3.0",
      "model_name": "VBoxModel",
      "state": {
       "children": [
        "IPY_MODEL_aeefa631af8d48f4a7a67075f4a52e4d"
       ],
       "layout": "IPY_MODEL_750b2b8c76c241f0b361a2bd953625b1"
      }
     },
     "eae11e7e828149638799d573405338a7": {
      "model_module": "@jupyter-widgets/controls",
      "model_module_version": "1.3.0",
      "model_name": "DescriptionStyleModel",
      "state": {
       "description_width": ""
      }
     },
     "eae38201ccf549fea49e77c684e2c6d9": {
      "model_module": "@jupyter-widgets/controls",
      "model_module_version": "1.3.0",
      "model_name": "BoundedFloatTextModel",
      "state": {
       "description": "dq/q",
       "layout": "IPY_MODEL_5159b101bc7a4d94adb25d40f0044bc5",
       "max": 20,
       "style": "IPY_MODEL_1d1256cee0f54af89a27fd7c368c046c",
       "value": 5
      }
     },
     "eba7169ec8d743daa9203a4d6406c365": {
      "model_module": "@jupyter-widgets/controls",
      "model_module_version": "1.3.0",
      "model_name": "DescriptionStyleModel",
      "state": {
       "description_width": "0px"
      }
     },
     "ebdc87874c0241c49f0e97576b104e72": {
      "model_module": "@jupyter-widgets/base",
      "model_module_version": "1.1.0",
      "model_name": "LayoutModel",
      "state": {}
     },
     "ebef82aff3b94b599e7e4bacf1d09fff": {
      "model_module": "@jupyter-widgets/base",
      "model_module_version": "1.1.0",
      "model_name": "LayoutModel",
      "state": {}
     },
     "ec41e53f8ac44e7e8fab6a3eb5dd97b0": {
      "model_module": "@jupyter-widgets/controls",
      "model_module_version": "1.3.0",
      "model_name": "FloatTextModel",
      "state": {
       "layout": "IPY_MODEL_65efe50ddadc4256b7bfd92b00e9d588",
       "step": 0.01,
       "style": "IPY_MODEL_4700ecbd0d4a412ba2daec1829fb403e"
      }
     },
     "ec92611041ba4e28a9513bdd6f3f8b78": {
      "model_module": "@jupyter-widgets/controls",
      "model_module_version": "1.3.0",
      "model_name": "DescriptionStyleModel",
      "state": {
       "description_width": "120px"
      }
     },
     "ecb2c47607374155a4cce28182c99ff6": {
      "model_module": "@jupyter-widgets/base",
      "model_module_version": "1.1.0",
      "model_name": "LayoutModel",
      "state": {}
     },
     "ed0c8767e26648e3b4f64634bbb4ba0c": {
      "model_module": "@jupyter-widgets/controls",
      "model_module_version": "1.3.0",
      "model_name": "DescriptionStyleModel",
      "state": {
       "description_width": "120px"
      }
     },
     "ed11f8936cb647189343ff2ef9cc7ac0": {
      "model_module": "@jupyter-widgets/base",
      "model_module_version": "1.1.0",
      "model_name": "LayoutModel",
      "state": {}
     },
     "ed23f11ba73e4971944c8438eadb2d09": {
      "model_module": "@jupyter-widgets/base",
      "model_module_version": "1.1.0",
      "model_name": "LayoutModel",
      "state": {
       "width": "10%"
      }
     },
     "ed77249f0fd0467ab7cee2915123d8a2": {
      "model_module": "@jupyter-widgets/controls",
      "model_module_version": "1.3.0",
      "model_name": "HTMLModel",
      "state": {
       "layout": "IPY_MODEL_1467db06930c46a9a3675488f5a10446",
       "style": "IPY_MODEL_2c8f09e9ab4a4e37925be3b6fc974ceb",
       "value": "isld"
      }
     },
     "ed9a23fe757a4a2ca40c7cf65e0433cb": {
      "model_module": "@jupyter-widgets/base",
      "model_module_version": "1.1.0",
      "model_name": "LayoutModel",
      "state": {}
     },
     "edaf00249c464344b67446be9149443e": {
      "model_module": "@jupyter-widgets/controls",
      "model_module_version": "1.3.0",
      "model_name": "FloatTextModel",
      "state": {
       "layout": "IPY_MODEL_a34a925f93a24c359ed3a7da8e1fcb86",
       "step": 0.01,
       "style": "IPY_MODEL_4365e97c0c4a43488af013cbc986b1ce"
      }
     },
     "ee52a65860ae48b4ae4e2d6171681761": {
      "model_module": "@jupyter-widgets/controls",
      "model_module_version": "1.3.0",
      "model_name": "CheckboxModel",
      "state": {
       "disabled": false,
       "layout": "IPY_MODEL_ca67e064e8704882893dc1e5c55f1300",
       "style": "IPY_MODEL_3792b17ca29346769291b92461ce0e27",
       "value": false
      }
     },
     "eeef5a90f1dc4067ad808de9d1fdbf6a": {
      "model_module": "@jupyter-widgets/base",
      "model_module_version": "1.1.0",
      "model_name": "LayoutModel",
      "state": {}
     },
     "ef413c7391424e87a4e88c8a2102b665": {
      "model_module": "@jupyter-widgets/base",
      "model_module_version": "1.1.0",
      "model_name": "LayoutModel",
      "state": {
       "width": "100%"
      }
     },
     "ef6f18229dcc4fba80aaed4a5c8f00a9": {
      "model_module": "@jupyter-widgets/controls",
      "model_module_version": "1.3.0",
      "model_name": "DescriptionStyleModel",
      "state": {
       "description_width": "120px"
      }
     },
     "efc512753ac544fca7fe862526116538": {
      "model_module": "@jupyter-widgets/base",
      "model_module_version": "1.1.0",
      "model_name": "LayoutModel",
      "state": {}
     },
     "efdfc0513e0f46f295afe29a398a05c9": {
      "model_module": "@jupyter-widgets/controls",
      "model_module_version": "1.3.0",
      "model_name": "DescriptionStyleModel",
      "state": {
       "description_width": ""
      }
     },
     "f00ab4575ba74c57a5720899af562db4": {
      "model_module": "@jupyter-widgets/controls",
      "model_module_version": "1.3.0",
      "model_name": "DescriptionStyleModel",
      "state": {
       "description_width": "0px"
      }
     },
     "f03b1e1a471c46dc86b53f7da6fc0b99": {
      "model_module": "@jupyter-widgets/controls",
      "model_module_version": "1.3.0",
      "model_name": "DescriptionStyleModel",
      "state": {
       "description_width": "0px"
      }
     },
     "f06281a484294ccab8fbaf88d4714e99": {
      "model_module": "@jupyter-widgets/controls",
      "model_module_version": "1.3.0",
      "model_name": "FloatTextModel",
      "state": {
       "description": "background",
       "layout": "IPY_MODEL_c73cc7846bfe487bacb735fa47969059",
       "step": 1e-07,
       "style": "IPY_MODEL_8b1ea989402143f0a664775234096c81",
       "value": 1e-07
      }
     },
     "f06669bd09f34d0da26ebab5a14c031a": {
      "model_module": "@jupyter-widgets/base",
      "model_module_version": "1.1.0",
      "model_name": "LayoutModel",
      "state": {}
     },
     "f143037e7cb54e09b230e0bb33415c19": {
      "model_module": "@jupyter-widgets/controls",
      "model_module_version": "1.3.0",
      "model_name": "VBoxModel",
      "state": {
       "children": [
        "IPY_MODEL_64bda1bda92645aba7ea8f913d2d8fd6",
        "IPY_MODEL_0ec6276fa4d045b6844cebcbddd27152",
        "IPY_MODEL_df7dca3e3952482b98ce764012214922",
        "IPY_MODEL_1f0c93cc66be4f0580ce6a86e08d4ca6"
       ],
       "layout": "IPY_MODEL_45e94649720e4229bf1b8c325023d6c4"
      }
     },
     "f2033f9887d7463bb092cf3f4e108d51": {
      "model_module": "@jupyter-widgets/base",
      "model_module_version": "1.1.0",
      "model_name": "LayoutModel",
      "state": {}
     },
     "f2fd2ce7cfbf4d8693494a3154f6bf4a": {
      "model_module": "@jupyter-widgets/controls",
      "model_module_version": "1.3.0",
      "model_name": "DescriptionStyleModel",
      "state": {
       "description_width": ""
      }
     },
     "f3006c7a8f2a4ee7b710f1ed94efb791": {
      "model_module": "@jupyter-widgets/controls",
      "model_module_version": "1.3.0",
      "model_name": "DescriptionStyleModel",
      "state": {
       "description_width": "0px"
      }
     },
     "f324763622a44006aba263516bec3b66": {
      "model_module": "@jupyter-widgets/controls",
      "model_module_version": "1.3.0",
      "model_name": "HBoxModel",
      "state": {
       "children": [
        "IPY_MODEL_a678df8ddd2c4aa0bbe39283ce18a05e",
        "IPY_MODEL_56ba1c0047b64dad92944733cc6b156d",
        "IPY_MODEL_37e9bc790b6f424582bc8ecd10e6b36b",
        "IPY_MODEL_e56396309ce64fe282b166b073457e7f",
        "IPY_MODEL_9283db28d09f4849b34bc28ed15adc1d",
        "IPY_MODEL_0446476ee4bc4aabb8e0a8e8a6b3b438",
        "IPY_MODEL_a3bd9d03b13c451897a292c0cda90ed3",
        "IPY_MODEL_2fa2680a21294d3c8dfe6ac3092d63b8"
       ],
       "layout": "IPY_MODEL_8456f4bad07746feb944197ea48dc6c3"
      }
     },
     "f32cf45ce48f49af99d82f1b39f3464b": {
      "model_module": "@jupyter-widgets/controls",
      "model_module_version": "1.3.0",
      "model_name": "DescriptionStyleModel",
      "state": {
       "description_width": ""
      }
     },
     "f3bdb310f0184c19be51987eaab67f1d": {
      "model_module": "@jupyter-widgets/controls",
      "model_module_version": "1.3.0",
      "model_name": "DescriptionStyleModel",
      "state": {
       "description_width": ""
      }
     },
     "f3c16e351e2947ecaeac08168c3bfc75": {
      "model_module": "@jupyter-widgets/base",
      "model_module_version": "1.1.0",
      "model_name": "LayoutModel",
      "state": {}
     },
     "f46c5de5f1c443de910724727b975e99": {
      "model_module": "@jupyter-widgets/base",
      "model_module_version": "1.1.0",
      "model_name": "LayoutModel",
      "state": {}
     },
     "f498c938119e482db73569c6f8fa9bf9": {
      "model_module": "@jupyter-widgets/base",
      "model_module_version": "1.1.0",
      "model_name": "LayoutModel",
      "state": {}
     },
     "f49f9cbe156a47039381a8e76eadfd20": {
      "model_module": "@jupyter-widgets/base",
      "model_module_version": "1.1.0",
      "model_name": "LayoutModel",
      "state": {}
     },
     "f4d65f76c96e42d3b2d5ee213c8acba9": {
      "model_module": "@jupyter-widgets/controls",
      "model_module_version": "1.3.0",
      "model_name": "DescriptionStyleModel",
      "state": {
       "description_width": ""
      }
     },
     "f5204773072e4c1b9e184515ca5a6d19": {
      "model_module": "@jupyter-widgets/controls",
      "model_module_version": "1.3.0",
      "model_name": "DescriptionStyleModel",
      "state": {
       "description_width": "0px"
      }
     },
     "f5ab66e060e5462d93fa612175953dc2": {
      "model_module": "@jupyter-widgets/controls",
      "model_module_version": "1.3.0",
      "model_name": "HBoxModel",
      "state": {
       "children": [
        "IPY_MODEL_20886e39ae994a8eb0e09624e1a3562a",
        "IPY_MODEL_c581dc5699b444fbb633c24daa09389f"
       ],
       "layout": "IPY_MODEL_bcd480cfbd28418c881993cbc8910ad4"
      }
     },
     "f5c88acbefe248c78fe798aab14d0d74": {
      "model_module": "@jupyter-widgets/controls",
      "model_module_version": "1.3.0",
      "model_name": "HTMLModel",
      "state": {
       "layout": "IPY_MODEL_93086774713545e3b29dc4d93e6f115b",
       "style": "IPY_MODEL_d9e56949086642269c6a7b87ed2b80e7",
       "value": "sld"
      }
     },
     "f5f1653e0ccd48f6984c30d94fc442fb": {
      "model_module": "@jupyter-widgets/controls",
      "model_module_version": "1.3.0",
      "model_name": "HTMLModel",
      "state": {
       "layout": "IPY_MODEL_0aa7f2d7ec5a4081b5462262b1a09000",
       "style": "IPY_MODEL_3e3005d393e7427099979656cc8d3269",
       "value": "sld"
      }
     },
     "f6235edba5e54d2083599b176b7db3f6": {
      "model_module": "@jupyter-widgets/base",
      "model_module_version": "1.1.0",
      "model_name": "LayoutModel",
      "state": {}
     },
     "f64e37b56f20456c9b957ad99a73415e": {
      "model_module": "@jupyter-widgets/base",
      "model_module_version": "1.1.0",
      "model_name": "LayoutModel",
      "state": {}
     },
     "f6a20d21019445499939f07d8162a40d": {
      "model_module": "@jupyter-widgets/controls",
      "model_module_version": "1.3.0",
      "model_name": "DescriptionStyleModel",
      "state": {
       "description_width": ""
      }
     },
     "f70122b837c94d22b7313fa17be3fa86": {
      "model_module": "@jupyter-widgets/controls",
      "model_module_version": "1.3.0",
      "model_name": "DescriptionStyleModel",
      "state": {
       "description_width": ""
      }
     },
     "f724769714da42f093201d958233da62": {
      "model_module": "@jupyter-widgets/base",
      "model_module_version": "1.1.0",
      "model_name": "LayoutModel",
      "state": {}
     },
     "f72a67269bae4bcf854b4b56bda3e1f2": {
      "model_module": "@jupyter-widgets/controls",
      "model_module_version": "1.3.0",
      "model_name": "FloatTextModel",
      "state": {
       "layout": "IPY_MODEL_293ef9cdec9d45f9ac1abba1be3d17d0",
       "step": 0.01,
       "style": "IPY_MODEL_e8cc7ac1ef8a43128a1fdf50c9a11fb3"
      }
     },
     "f7c60bcda5f245e2b78eb823d9b97b9f": {
      "model_module": "@jupyter-widgets/controls",
      "model_module_version": "1.3.0",
      "model_name": "FloatTextModel",
      "state": {
       "layout": "IPY_MODEL_5acf87fdb96a4cd6bb4e8a0521f0644b",
       "step": 1,
       "style": "IPY_MODEL_fd97da8806354edbac2ac5bb838ea94b"
      }
     },
     "f7f1d5b562874ac58910e3a73d55b779": {
      "model_module": "@jupyter-widgets/controls",
      "model_module_version": "1.3.0",
      "model_name": "DescriptionStyleModel",
      "state": {
       "description_width": ""
      }
     },
     "f80a93eea140490aa9411bbd10f95b3d": {
      "model_module": "@jupyter-widgets/base",
      "model_module_version": "1.1.0",
      "model_name": "LayoutModel",
      "state": {}
     },
     "f915730a4da040f49d92190e3c6d6534": {
      "model_module": "@jupyter-widgets/base",
      "model_module_version": "1.1.0",
      "model_name": "LayoutModel",
      "state": {}
     },
     "f975b8e08bda4d81be9ebf4cc8ea02f2": {
      "model_module": "@jupyter-widgets/controls",
      "model_module_version": "1.3.0",
      "model_name": "FloatTextModel",
      "state": {
       "description": "chi-squared:",
       "disabled": true,
       "layout": "IPY_MODEL_42444a970d1f459fab9d60dca33f3039",
       "step": null,
       "style": "IPY_MODEL_46e6f5357e7e48ee96e380dc5e8dd248"
      }
     },
     "f97eae34f8294a79ac81c44dd2fe4d30": {
      "model_module": "@jupyter-widgets/controls",
      "model_module_version": "1.3.0",
      "model_name": "VBoxModel",
      "state": {
       "children": [
        "IPY_MODEL_2e68456e6be34d099b87248f2c767b02",
        "IPY_MODEL_a4ab8ec74ff24c7e9d4eb2f77d4d6a54"
       ],
       "layout": "IPY_MODEL_a9b320c4ec514ee497c11509cc3dd9c1"
      }
     },
     "f985121d31f7421caf067937472a4013": {
      "model_module": "@jupyter-widgets/base",
      "model_module_version": "1.1.0",
      "model_name": "LayoutModel",
      "state": {}
     },
     "f9f395f148444f3487182fbefe925871": {
      "model_module": "@jupyter-widgets/controls",
      "model_module_version": "1.3.0",
      "model_name": "DescriptionStyleModel",
      "state": {
       "description_width": "0px"
      }
     },
     "fa0de2e1e3f8487282098a72392b54ec": {
      "model_module": "@jupyter-widgets/controls",
      "model_module_version": "1.3.0",
      "model_name": "BoundedFloatTextModel",
      "state": {
       "layout": "IPY_MODEL_58de351e6ad04620bdea9220b9925690",
       "max": 20,
       "style": "IPY_MODEL_f32cf45ce48f49af99d82f1b39f3464b"
      }
     },
     "fa9cc0d97d99492099e159ed9c72eeb0": {
      "model_module": "@jupyter-widgets/controls",
      "model_module_version": "1.3.0",
      "model_name": "DescriptionStyleModel",
      "state": {
       "description_width": ""
      }
     },
     "fab5b73fc0944076b106e7e4549721f5": {
      "model_module": "@jupyter-widgets/base",
      "model_module_version": "1.1.0",
      "model_name": "LayoutModel",
      "state": {}
     },
     "fb65bf57a5864736a27eb09d9027e309": {
      "model_module": "@jupyter-widgets/controls",
      "model_module_version": "1.3.0",
      "model_name": "DescriptionStyleModel",
      "state": {
       "description_width": "0px"
      }
     },
     "fb8ec657d2534adebe90740da9cad9b8": {
      "model_module": "@jupyter-widgets/base",
      "model_module_version": "1.1.0",
      "model_name": "LayoutModel",
      "state": {}
     },
     "fc061f31a15b4782913c89253318230e": {
      "model_module": "@jupyter-widgets/controls",
      "model_module_version": "1.3.0",
      "model_name": "DescriptionStyleModel",
      "state": {
       "description_width": ""
      }
     },
     "fc283c6806dd40459c76d211008a16ea": {
      "model_module": "@jupyter-widgets/base",
      "model_module_version": "1.1.0",
      "model_name": "LayoutModel",
      "state": {}
     },
     "fd1b1a6952bd4f9c8d9cfc15a9543bce": {
      "model_module": "@jupyter-widgets/base",
      "model_module_version": "1.1.0",
      "model_name": "LayoutModel",
      "state": {}
     },
     "fd24fabc323245eeaad9eb5bc999b548": {
      "model_module": "@jupyter-widgets/controls",
      "model_module_version": "1.3.0",
      "model_name": "HBoxModel",
      "state": {
       "children": [
        "IPY_MODEL_412f243eba30463fb375830b2ea2a32c",
        "IPY_MODEL_2db13c4cb3934e4d9d4e493c1be45e82",
        "IPY_MODEL_59f86df9aa2142e29b6de8b1a8a160dc",
        "IPY_MODEL_d43a63c1e25240ed85294cc11cd78096",
        "IPY_MODEL_3e0ff1c2de134b0f93750d39932a437a",
        "IPY_MODEL_5f125e99af4a4dbb87540d38536d7f35",
        "IPY_MODEL_c5d57f9192ae438eb7b3b8e16622a21f",
        "IPY_MODEL_11bd7ef6d35e4e578d27072743d4759e"
       ],
       "layout": "IPY_MODEL_b5f855bf6d2b4e5dbc6e712895486cb5"
      }
     },
     "fd2e4ae04d2b47d78b614e2e104182d0": {
      "model_module": "@jupyter-widgets/controls",
      "model_module_version": "1.3.0",
      "model_name": "FloatTextModel",
      "state": {
       "layout": "IPY_MODEL_f498c938119e482db73569c6f8fa9bf9",
       "step": 0.01,
       "style": "IPY_MODEL_67838f4fef604b70a98af4ef31fc6332",
       "value": 6
      }
     },
     "fd3465f4359d4852b31c603209c93d9b": {
      "model_module": "@jupyter-widgets/base",
      "model_module_version": "1.1.0",
      "model_name": "LayoutModel",
      "state": {}
     },
     "fd3f83010bda4c65b12782a7565099b3": {
      "model_module": "@jupyter-widgets/controls",
      "model_module_version": "1.3.0",
      "model_name": "FloatTextModel",
      "state": {
       "layout": "IPY_MODEL_30696f224ac64db387e7623f717767dc",
       "step": 1,
       "style": "IPY_MODEL_461f948e9f5345b9a028853561cd7556",
       "value": 50
      }
     },
     "fd559c3c26e743bc837e7d0bc3343220": {
      "model_module": "@jupyter-widgets/controls",
      "model_module_version": "1.3.0",
      "model_name": "CheckboxModel",
      "state": {
       "disabled": false,
       "layout": "IPY_MODEL_dcd56147870f47a58e30dfa0d1cdedf1",
       "style": "IPY_MODEL_d1ce0d6ccb9b48e9996f6c0b63beea4f",
       "value": false
      }
     },
     "fd97da8806354edbac2ac5bb838ea94b": {
      "model_module": "@jupyter-widgets/controls",
      "model_module_version": "1.3.0",
      "model_name": "DescriptionStyleModel",
      "state": {
       "description_width": ""
      }
     },
     "fdde523439364f9686d690286abe6caf": {
      "model_module": "@jupyter-widgets/controls",
      "model_module_version": "1.3.0",
      "model_name": "BoundedFloatTextModel",
      "state": {
       "description": "dq/q",
       "layout": "IPY_MODEL_101248aa42d341b1bb957c974d7d3792",
       "max": 20,
       "style": "IPY_MODEL_417ed1fd1929474c8a433b1ae7c55c40",
       "value": 5
      }
     },
     "fdfdb3a152f14c29ba8a152f998967f3": {
      "model_module": "@jupyter-widgets/base",
      "model_module_version": "1.1.0",
      "model_name": "LayoutModel",
      "state": {}
     },
     "ff1101f3ec1d43478fdb85bf1b1b41db": {
      "model_module": "@jupyter-widgets/controls",
      "model_module_version": "1.3.0",
      "model_name": "DescriptionStyleModel",
      "state": {
       "description_width": ""
      }
     },
     "ff8b3f942eff4169bf86b089df193ee2": {
      "model_module": "@jupyter-widgets/controls",
      "model_module_version": "1.3.0",
      "model_name": "HTMLModel",
      "state": {
       "layout": "IPY_MODEL_c38aa7b4ff3c45bd8572cd170b172bee",
       "style": "IPY_MODEL_8a8da5ef17e443818147aed5efb39c9e",
       "value": "sld"
      }
     },
     "ffaf9385913146658c920d02a06b6c48": {
      "model_module": "@jupyter-widgets/base",
      "model_module_version": "1.1.0",
      "model_name": "LayoutModel",
      "state": {}
     },
     "ffb12da1804e48d3b731c5f7997d9f61": {
      "model_module": "@jupyter-widgets/controls",
      "model_module_version": "1.3.0",
      "model_name": "DescriptionStyleModel",
      "state": {
       "description_width": "0px"
      }
     },
     "ffb46a5c2760482b8427424cf08d9cbc": {
      "model_module": "@jupyter-widgets/controls",
      "model_module_version": "1.3.0",
      "model_name": "HBoxModel",
      "state": {
       "children": [
        "IPY_MODEL_398350e780f84ac6ac8769561118bff5",
        "IPY_MODEL_3826106276cc43e7b65eeaab5905f867"
       ],
       "layout": "IPY_MODEL_a37ebb03dff848b2aed9d4bc582b2c36"
      }
     },
     "ffe8e461bd3249e181429353a1979cd5": {
      "model_module": "@jupyter-widgets/controls",
      "model_module_version": "1.3.0",
      "model_name": "HBoxModel",
      "state": {
       "children": [
        "IPY_MODEL_a8c0591363a944a7b96be53f58cd16fe",
        "IPY_MODEL_323f99d6e6d14a62bbcf5cfd8189f9c5",
        "IPY_MODEL_d6798f50cbe14a7fbd998a1a6ed1fdfa",
        "IPY_MODEL_7aecf105b715474ea2d8a1136f6f3f04",
        "IPY_MODEL_4915c637ac0b4fb68909f893419593e2",
        "IPY_MODEL_46283af7e7334542be8adb6661ffb631",
        "IPY_MODEL_77a897c1c85f454fbc57c367b147432d",
        "IPY_MODEL_0afaf379955f401d88af6701201c99bb"
       ],
       "layout": "IPY_MODEL_7982dd214e4648eab46420b5691dcd80"
      }
     }
    },
    "version_major": 2,
    "version_minor": 0
   }
  }
 },
 "nbformat": 4,
 "nbformat_minor": 2
}
