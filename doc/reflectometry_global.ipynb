{
 "cells": [
  {
   "cell_type": "markdown",
   "metadata": {},
   "source": [
    "## Co-refinement of multiple contrast datasets"
   ]
  },
  {
   "cell_type": "markdown",
   "metadata": {},
   "source": [
    "A demonstration of how to do co-refinement of several datasets with *refnx*."
   ]
  },
  {
   "cell_type": "code",
   "execution_count": null,
   "metadata": {},
   "outputs": [],
   "source": [
    "%matplotlib inline\n",
    "from __future__ import print_function, division\n",
    "\n",
    "import os.path\n",
    "\n",
    "from refnx.dataset import ReflectDataset\n",
    "from refnx.analysis import Transform, CurveFitter, Objective, GlobalObjective, Parameter\n",
    "from refnx.reflect import SLD, ReflectModel\n",
    "import refnx\n",
    "\n",
    "import scipy\n",
    "import numpy as np\n",
    "import matplotlib.pyplot as plt"
   ]
  },
  {
   "cell_type": "code",
   "execution_count": null,
   "metadata": {},
   "outputs": [],
   "source": [
    "print('refnx: %s\\nscipy: %s\\nnumpy: %s' % (refnx.version.version, scipy.version.version, np.version.version))"
   ]
  },
  {
   "cell_type": "markdown",
   "metadata": {},
   "source": [
    "These are datasets used in refnx testing, distributed with every refnx install."
   ]
  },
  {
   "cell_type": "code",
   "execution_count": null,
   "metadata": {},
   "outputs": [],
   "source": [
    "pth = os.path.dirname(refnx.__file__)\n",
    "\n",
    "e361 = ReflectDataset(os.path.join(pth, 'analysis', 'test', 'e361r.txt'))\n",
    "e365 = ReflectDataset(os.path.join(pth, 'analysis', 'test', 'e365r.txt'))\n",
    "e366 = ReflectDataset(os.path.join(pth, 'analysis', 'test', 'e366r.txt'))"
   ]
  },
  {
   "cell_type": "markdown",
   "metadata": {},
   "source": [
    "Make some `SLD` objects to represent all the materials."
   ]
  },
  {
   "cell_type": "code",
   "execution_count": null,
   "metadata": {},
   "outputs": [],
   "source": [
    "si = SLD(2.07, 'Si')\n",
    "sio2 = SLD(3.47, 'SiO2')\n",
    "polymer = SLD(2.0, 'polymer')\n",
    "d2o = SLD(6.36, 'D2O')\n",
    "h2o = SLD(-0.56, 'H2O')\n",
    "cm3 = SLD(3.5, 'cm3.5')"
   ]
  },
  {
   "cell_type": "markdown",
   "metadata": {},
   "source": [
    "The `SLD`s are used to create `Slab`s."
   ]
  },
  {
   "cell_type": "code",
   "execution_count": null,
   "metadata": {},
   "outputs": [],
   "source": [
    "sio2_l = sio2(30, 3)\n",
    "polymer_l = polymer(250, 3)\n",
    "\n",
    "# we're going to share the water/polymer roughness across all 3 datasets\n",
    "water_poly_rough = Parameter(3, 'water_poly_rough')\n",
    "d2o_l = d2o(0, water_poly_rough)\n",
    "h2o_l = h2o(0, water_poly_rough)\n",
    "cm3_l = cm3(0, water_poly_rough)\n"
   ]
  },
  {
   "cell_type": "markdown",
   "metadata": {},
   "source": [
    "Set the limits for the parameters we wish to vary. Each contrast uses the same polymer SLD. We account for contrast change using the volume fraction of solvent."
   ]
  },
  {
   "cell_type": "code",
   "execution_count": null,
   "metadata": {},
   "outputs": [],
   "source": [
    "sio2_l.thick.setp(vary=True, bounds=(1, 50))\n",
    "\n",
    "polymer_l.thick.setp(vary=True, bounds=(200, 300))\n",
    "polymer_l.sld.real.setp(vary=True, bounds=(0.1, 2))\n",
    "polymer_l.vfsolv.setp(vary=True, bounds=(0, 1))"
   ]
  },
  {
   "cell_type": "markdown",
   "metadata": {},
   "source": [
    "We create a different `Structure` for each contrast of interest. It's important to note here that the `Structure`s all share the same `si`, `sio2_l`, `polymer_l` objects. This means the `Structure`s all share the same parameters. The only thing that's different is the solvent contrast. By default the `Structure` object solvates with the SLD of the last slab. This behaviour can be modified by changing the `Structure.solvent` attribute."
   ]
  },
  {
   "cell_type": "code",
   "execution_count": null,
   "metadata": {},
   "outputs": [],
   "source": [
    "structure361 = si | sio2_l | polymer_l | d2o_l\n",
    "structure365 = si | sio2_l | polymer_l | cm3_l\n",
    "structure366 = si | sio2_l | polymer_l | h2o_l"
   ]
  },
  {
   "cell_type": "markdown",
   "metadata": {},
   "source": [
    "Create a `ReflectModel` from the `Structure`. These are responsible for calculating the generative model, doing resolution smearing, applying a scale factor, and adding a Q-independent constant background."
   ]
  },
  {
   "cell_type": "code",
   "execution_count": null,
   "metadata": {},
   "outputs": [],
   "source": [
    "model361 = ReflectModel(structure361)\n",
    "model365 = ReflectModel(structure365)\n",
    "model366 = ReflectModel(structure366)\n",
    "\n",
    "model361.scale.setp(vary=True, bounds=(0.9, 1.1))\n",
    "model361.bkg.setp(vary=True, bounds=(0.9e-8, 3e-5))\n",
    "model365.scale.setp(vary=True, bounds=(0.9, 1.1))\n",
    "model365.bkg.setp(vary=True, bounds=(0.9e-8, 3e-5))\n",
    "model366.bkg.setp(vary=True, bounds=(0.9e-8, 3e-5))"
   ]
  },
  {
   "cell_type": "markdown",
   "metadata": {},
   "source": [
    "`Objective`s are created from the datasets and the model. Here we also add a `Transform` to fit as logR vs Q."
   ]
  },
  {
   "cell_type": "code",
   "execution_count": null,
   "metadata": {},
   "outputs": [],
   "source": [
    "objective361 = Objective(model361, e361, transform=Transform('logY'))\n",
    "objective365 = Objective(model365, e365, transform=Transform('logY'))\n",
    "objective366 = Objective(model366, e366, transform=Transform('logY'))"
   ]
  },
  {
   "cell_type": "markdown",
   "metadata": {},
   "source": [
    "A `GlobalObjective` is formed from the individual `Objective`s. This means that they're all analysed together."
   ]
  },
  {
   "cell_type": "code",
   "execution_count": null,
   "metadata": {},
   "outputs": [],
   "source": [
    "global_objective = GlobalObjective([objective361, objective365, objective366])"
   ]
  },
  {
   "cell_type": "code",
   "execution_count": null,
   "metadata": {},
   "outputs": [],
   "source": [
    "global_objective.plot();"
   ]
  },
  {
   "cell_type": "markdown",
   "metadata": {},
   "source": [
    "Create the `CurveFitter` and fit with differential evolution."
   ]
  },
  {
   "cell_type": "code",
   "execution_count": null,
   "metadata": {},
   "outputs": [],
   "source": [
    "# create the fit instance\n",
    "fitter = CurveFitter(global_objective)\n",
    "fitter.fit('differential_evolution');"
   ]
  },
  {
   "cell_type": "code",
   "execution_count": null,
   "metadata": {},
   "outputs": [],
   "source": [
    "global_objective.plot()\n",
    "plt.legend()\n",
    "plt.xlabel('Q')\n",
    "plt.ylabel('logR');"
   ]
  },
  {
   "cell_type": "code",
   "execution_count": null,
   "metadata": {},
   "outputs": [],
   "source": [
    "print(global_objective)"
   ]
  },
  {
   "cell_type": "markdown",
   "metadata": {},
   "source": [
    "Now we're going to do some MCMC sampling. We discard the first 200 steps, then save 1 in every 100 steps, for a total of 15 saved steps. The number of burn/sample steps is reduced here for brevity"
   ]
  },
  {
   "cell_type": "code",
   "execution_count": null,
   "metadata": {},
   "outputs": [],
   "source": [
    "fitter.sample(100, random_state=1)\n",
    "fitter.sampler.reset()\n",
    "fitter.sample(10, nthin=100, random_state=1);"
   ]
  },
  {
   "cell_type": "code",
   "execution_count": null,
   "metadata": {},
   "outputs": [],
   "source": [
    "global_objective.corner();"
   ]
  }
 ],
 "metadata": {
  "kernelspec": {
   "display_name": "Python 3",
   "language": "python",
   "name": "python3"
  },
  "language_info": {
   "codemirror_mode": {
    "name": "ipython",
    "version": 3
   },
   "file_extension": ".py",
   "mimetype": "text/x-python",
   "name": "python",
   "nbconvert_exporter": "python",
   "pygments_lexer": "ipython3",
   "version": "3.7.0"
  }
 },
 "nbformat": 4,
 "nbformat_minor": 1
}
