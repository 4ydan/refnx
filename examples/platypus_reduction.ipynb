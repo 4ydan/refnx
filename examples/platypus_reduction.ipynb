{
 "cells": [
  {
   "cell_type": "markdown",
   "metadata": {},
   "source": [
    "# Example Platypus reduction using `refnx`"
   ]
  },
  {
   "cell_type": "code",
   "execution_count": 1,
   "metadata": {},
   "outputs": [],
   "source": [
    "import numpy as np\n",
    "import matplotlib.pyplot as plt\n",
    "from refnx.reduce import ReducePlatypus, reduce_stitch\n",
    "from refnx.dataset import ReflectDataset, Data1D\n",
    "%matplotlib inline"
   ]
  },
  {
   "cell_type": "code",
   "execution_count": 2,
   "metadata": {},
   "outputs": [],
   "source": [
    "data_directory = '../refnx/reduce/test/'"
   ]
  },
  {
   "cell_type": "markdown",
   "metadata": {},
   "source": [
    "This command reduces and stitches multiple files together. The\n",
    "dataset is saved in the current working directory, if `save==True`. Use of `data_folder`\n",
    "is not necessary if the data is in the current directory. The\n",
    "first list is a list of the reflected beam files. The second is a\n",
    "list of the direct beam run files."
   ]
  },
  {
   "cell_type": "code",
   "execution_count": 3,
   "metadata": {},
   "outputs": [
    {
     "name": "stdout",
     "output_type": "stream",
     "text": [
      "c_PLP0000708.xml\n"
     ]
    }
   ],
   "source": [
    "dataset, fname = reduce_stitch([708, 709, 710],\n",
    "                               [711, 711, 711],\n",
    "                               data_folder=data_directory,\n",
    "                               rebin_percent=3,\n",
    "                               save=True)\n",
    "print(fname)"
   ]
  },
  {
   "cell_type": "code",
   "execution_count": 4,
   "metadata": {},
   "outputs": [
    {
     "data": {
      "image/png": "[encoded data removed]"
     },
     "output_type": "display_data",
     "metadata": {}
    }
   ],
   "source": [
    "plt.errorbar(dataset.x, dataset.y, dataset.y_sd)\n",
    "plt.yscale('log')"
   ]
  },
  {
   "cell_type": "markdown",
   "metadata": {},
   "source": [
    "One can reduce files individually. A `ReducePlatypus` object is created with the direct beam run.  You need to create different `ReducePlatypus` objects for each direct beam used."
   ]
  },
  {
   "cell_type": "code",
   "execution_count": 5,
   "metadata": {},
   "outputs": [],
   "source": [
    "reducer = ReducePlatypus('PLP0000711.nx.hdf', data_folder=data_directory)"
   ]
  },
  {
   "cell_type": "code",
   "execution_count": 6,
   "metadata": {},
   "outputs": [],
   "source": [
    "reduced_data = reducer.reduce('PLP0000708.nx.hdf', rebin_percent=3, save=True)\n",
    "# alternatively\n",
    "reduced_data = reducer('PLP0000708.nx.hdf', rebin_percent=3, save=True)"
   ]
  },
  {
   "cell_type": "markdown",
   "metadata": {},
   "source": [
    "`reduced_data` is a dict which contains all the reduced data. Additionally, the files are saved if you use the `save=True` keyword. You can get the filenames from `reduced_data['fname']`"
   ]
  },
  {
   "cell_type": "code",
   "execution_count": 7,
   "metadata": {},
   "outputs": [
    {
     "name": "stdout",
     "output_type": "stream",
     "text": [
      "['PLP0000708_0.dat']\n"
     ]
    }
   ],
   "source": [
    "print(reduced_data['fname'])"
   ]
  },
  {
   "cell_type": "markdown",
   "metadata": {},
   "source": [
    "The following items are present in `reduced_data`."
   ]
  },
  {
   "cell_type": "code",
   "execution_count": 8,
   "metadata": {},
   "outputs": [
    {
     "data": {
      "text/plain": [
       "dict_keys(['qy', 'm_ref_sd', 'datafile_number', 'ydata_sd', 'nspectra', 'ydata', 'xdata_sd', 'qz', 'fname', 'xdata', 'm_ref'])"
      ]
     },
     "execution_count": 8,
     "output_type": "execute_result",
     "metadata": {}
    }
   ],
   "source": [
    "reduced_data.keys()"
   ]
  },
  {
   "cell_type": "markdown",
   "metadata": {},
   "source": [
    "`nspectra` is the number of detector images, N.\n",
    "\n",
    "`m_ref` is the 2D offspecular map. `m_ref.shape=(N, T, Y)`. `T` and `Y` are the number of wavelength and y-bins (2theta) respectively.\n",
    "\n",
    "`qz` and `qy` are the corresponding Q values for `m_ref`."
   ]
  },
  {
   "cell_type": "markdown",
   "metadata": {},
   "source": [
    "## Event mode reduction\n",
    "If you wish to reduce event mode data use the following:"
   ]
  },
  {
   "cell_type": "code",
   "execution_count": 9,
   "metadata": {},
   "outputs": [],
   "source": [
    "reduce_event = ReducePlatypus('PLP0011613.nx.hdf',\n",
    "                               data_folder=data_directory)"
   ]
  },
  {
   "cell_type": "markdown",
   "metadata": {},
   "source": [
    "Now use the ReducePlatypus object to reduce eventmode data. `eventmode` specifies the timebins for the event mode."
   ]
  },
  {
   "cell_type": "code",
   "execution_count": 10,
   "metadata": {},
   "outputs": [],
   "source": [
    "reduced_event = reduce_event('PLP0011641.nx.hdf',\n",
    "                             rebin_percent=2,\n",
    "                             eventmode=[0, 900, 1800])"
   ]
  },
  {
   "cell_type": "code",
   "execution_count": 11,
   "metadata": {},
   "outputs": [
    {
     "data": {
      "text/plain": [
       "dict_keys(['qy', 'm_ref_sd', 'datafile_number', 'ydata_sd', 'nspectra', 'ydata', 'xdata_sd', 'qz', 'fname', 'xdata', 'm_ref'])"
      ]
     },
     "execution_count": 11,
     "output_type": "execute_result",
     "metadata": {}
    }
   ],
   "source": [
    "reduced_event.keys()"
   ]
  },
  {
   "cell_type": "markdown",
   "metadata": {},
   "source": [
    "There are now two specular reflectivity curves produced, because there were two time bins specified."
   ]
  },
  {
   "cell_type": "code",
   "execution_count": 12,
   "metadata": {},
   "outputs": [
    {
     "data": {
      "text/plain": [
       "((2, 97), (2, 97))"
      ]
     },
     "execution_count": 12,
     "output_type": "execute_result",
     "metadata": {}
    }
   ],
   "source": [
    "reduced_event['ydata'].shape, reduced_event['xdata'].shape"
   ]
  },
  {
   "cell_type": "markdown",
   "metadata": {},
   "source": [
    "The data is saved in:"
   ]
  },
  {
   "cell_type": "code",
   "execution_count": 13,
   "metadata": {},
   "outputs": [
    {
     "data": {
      "text/plain": [
       "['PLP0011641_0.dat', 'PLP0011641_1.dat']"
      ]
     },
     "execution_count": 13,
     "output_type": "execute_result",
     "metadata": {}
    }
   ],
   "source": [
    "reduced_event['fname']"
   ]
  }
 ],
 "metadata": {
  "kernelspec": {
   "display_name": "Python 3",
   "language": "python",
   "name": "python3"
  },
  "language_info": {
   "codemirror_mode": {
    "name": "ipython",
    "version": 3.0
   },
   "file_extension": ".py",
   "mimetype": "text/x-python",
   "name": "python",
   "nbconvert_exporter": "python",
   "pygments_lexer": "ipython3",
   "version": "3.4.3"
  }
 },
 "nbformat": 4,
 "nbformat_minor": 0
}